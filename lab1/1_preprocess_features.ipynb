{
 "cells": [
  {
   "cell_type": "markdown",
   "metadata": {},
   "source": [
    "# Preprocess Datasets and Extract Features\n",
    "> Feature engineering notebook\n",
    "\n",
    "Dataset columns (same convention as the lab1):\n",
    "\n",
    "| Col1 | Col2 | Col3 | Col3 | $\\dots$ |\n",
    "|------|------|------|------|---------|\n",
    "| $Y$  |$Y_0$ | $X_1$| $X_2$| $\\dots$ |\n",
    "\n",
    "- $Y$ : labels or target values, in our case $X(T+5)$\n",
    "- $Y_0$ : present value $X(T+0)$\n",
    "- $X_1$, $X_2$, $\\dots$ : other features"
   ]
  },
  {
   "cell_type": "code",
   "execution_count": null,
   "metadata": {},
   "outputs": [],
   "source": [
    "%load_ext autoreload\n",
    "%autoreload 2"
   ]
  },
  {
   "cell_type": "code",
   "execution_count": null,
   "metadata": {},
   "outputs": [],
   "source": [
    "import numpy as np\n",
    "from matplotlib import pyplot as plt\n",
    "%matplotlib inline"
   ]
  },
  {
   "cell_type": "markdown",
   "metadata": {},
   "source": [
    "## Import Normalized Datasets"
   ]
  },
  {
   "cell_type": "code",
   "execution_count": null,
   "metadata": {},
   "outputs": [],
   "source": [
    "# Training data\n",
    "with open('train_norm.npy', 'rb') as f:\n",
    "    train_norm = np.load(f)\n",
    "# Testing data\n",
    "with open('test_norm.npy', 'rb') as f:\n",
    "    test_norm = np.load(f)"
   ]
  },
  {
   "cell_type": "markdown",
   "metadata": {},
   "source": [
    "## Extract Features"
   ]
  },
  {
   "cell_type": "markdown",
   "metadata": {},
   "source": [
    "- Revision video: [Session 3: The Prediction Pipeline](https://youtu.be/4W6-48wXXEc?t=1246)"
   ]
  },
  {
   "cell_type": "markdown",
   "metadata": {},
   "source": [
    "number of samples in normalized datasets"
   ]
  },
  {
   "cell_type": "code",
   "execution_count": null,
   "metadata": {},
   "outputs": [
    {
     "name": "stdout",
     "output_type": "stream",
     "text": [
      "train_norm: 786 samples\n",
      "test_norm : 90 samples\n"
     ]
    }
   ],
   "source": [
    "print(\"train_norm: {} samples\\ntest_norm : {} samples\".format(train_norm.shape[0],test_norm.shape[0]))"
   ]
  },
  {
   "cell_type": "markdown",
   "metadata": {},
   "source": [
    "### Naive Window as Features"
   ]
  },
  {
   "cell_type": "code",
   "execution_count": null,
   "metadata": {},
   "outputs": [],
   "source": [
    "window_size = 6 # Y(T+0) and 5 previous points, T-1,...,T-4,T-5\n",
    "lead_time = 5 # T+5\n",
    "start_time = window_size-1 # index of last elem of window"
   ]
  },
  {
   "cell_type": "code",
   "execution_count": null,
   "metadata": {},
   "outputs": [],
   "source": [
    "X = [train_norm[start_time+lead_time:].reshape(-1,1) ] # Y(T+5)\n",
    "# append Y(T+0) to Y(T-5)\n",
    "for w in range(window_size,0,-1):\n",
    "    X.append(train_norm[w-1:train_norm.shape[0] - lead_time - window_size+w].reshape(-1,1))\n",
    "# concatenate Y(T+5), Y(T+0),...,Y(T-5)\n",
    "X = np.concatenate(X,axis=1)"
   ]
  },
  {
   "cell_type": "code",
   "execution_count": null,
   "metadata": {},
   "outputs": [],
   "source": []
  }
 ],
 "metadata": {
  "kernelspec": {
   "display_name": "Python [conda env:pytorch]",
   "language": "python",
   "name": "conda-env-pytorch-py"
  }
 },
 "nbformat": 4,
 "nbformat_minor": 2
}
