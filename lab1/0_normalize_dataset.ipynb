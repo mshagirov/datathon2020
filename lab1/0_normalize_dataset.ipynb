{
 "cells": [
  {
   "cell_type": "markdown",
   "metadata": {},
   "source": [
    "# Prepare Dataset: Compute Stats and Normalize\n",
    "> Compute dataset statistics, normalize and clean raw datasets and save them as new `.npy` pickle files\n",
    "\n",
    "**For lab 1 dataset** (raw dataset is in `./sg_temps`)\n",
    "1. Compute dataset stats and write it to __`sg_temps_stats.csv`__.\n",
    "    - Read/import it as `pd.read_csv('./sg_temps_stats.csv',header=0,index_col=0)`\n",
    "1. Normalize raw dataset with given mean/median and scale.\n",
    "    - For lab 1, use `mean=28`, and scale it with `2xS.D. = 1.6`.\n",
    "1. Save normalized datasets as `./train_norm.npy` and `./test_norm.npy`\n",
    "    - You can later load them with numpy, e.g.\n",
    "    ```python\n",
    "    with open('train_norm.npy', 'rb') as f:\n",
    "        train_norm = np.load(f)\n",
    "    ```"
   ]
  },
  {
   "cell_type": "code",
   "execution_count": null,
   "metadata": {},
   "outputs": [],
   "source": [
    "%load_ext autoreload\n",
    "%autoreload 2"
   ]
  },
  {
   "cell_type": "code",
   "execution_count": null,
   "metadata": {},
   "outputs": [],
   "source": [
    "import pandas as pd, numpy as np\n",
    "from matplotlib import pyplot as plt\n",
    "%matplotlib inline"
   ]
  },
  {
   "cell_type": "markdown",
   "metadata": {},
   "source": [
    "## Dataset stats\n",
    "- to be used later to normalize the data"
   ]
  },
  {
   "cell_type": "markdown",
   "metadata": {},
   "source": [
    "### Import data"
   ]
  },
  {
   "cell_type": "code",
   "execution_count": null,
   "metadata": {},
   "outputs": [],
   "source": [
    "train_raw = pd.read_csv('./sg_temps/train.csv',header=None)[0].values\n",
    "test_raw = pd.read_csv('./sg_temps/test.csv',header=None)[0].values"
   ]
  },
  {
   "cell_type": "markdown",
   "metadata": {},
   "source": [
    "### Stat-s for datasets:\n",
    "- compute stat-s and write them to `./sg_temps_stats.csv`"
   ]
  },
  {
   "cell_type": "code",
   "execution_count": null,
   "metadata": {},
   "outputs": [
    {
     "name": "stdout",
     "output_type": "stream",
     "text": [
      "Dataset statistics:\n"
     ]
    },
    {
     "data": {
      "text/html": [
       "<div>\n",
       "<style scoped>\n",
       "    .dataframe tbody tr th:only-of-type {\n",
       "        vertical-align: middle;\n",
       "    }\n",
       "\n",
       "    .dataframe tbody tr th {\n",
       "        vertical-align: top;\n",
       "    }\n",
       "\n",
       "    .dataframe thead th {\n",
       "        text-align: right;\n",
       "    }\n",
       "</style>\n",
       "<table border=\"1\" class=\"dataframe\">\n",
       "  <thead>\n",
       "    <tr style=\"text-align: right;\">\n",
       "      <th></th>\n",
       "      <th>Train</th>\n",
       "      <th>Test</th>\n",
       "    </tr>\n",
       "  </thead>\n",
       "  <tbody>\n",
       "    <tr>\n",
       "      <td>min</td>\n",
       "      <td>25.192857</td>\n",
       "      <td>26.842857</td>\n",
       "    </tr>\n",
       "    <tr>\n",
       "      <td>max</td>\n",
       "      <td>30.064286</td>\n",
       "      <td>29.907143</td>\n",
       "    </tr>\n",
       "    <tr>\n",
       "      <td>mean</td>\n",
       "      <td>27.470527</td>\n",
       "      <td>28.265688</td>\n",
       "    </tr>\n",
       "    <tr>\n",
       "      <td>median</td>\n",
       "      <td>27.478571</td>\n",
       "      <td>28.191071</td>\n",
       "    </tr>\n",
       "    <tr>\n",
       "      <td>std</td>\n",
       "      <td>0.816063</td>\n",
       "      <td>0.718030</td>\n",
       "    </tr>\n",
       "    <tr>\n",
       "      <td>range</td>\n",
       "      <td>4.871429</td>\n",
       "      <td>3.064286</td>\n",
       "    </tr>\n",
       "  </tbody>\n",
       "</table>\n",
       "</div>"
      ],
      "text/plain": [
       "            Train       Test\n",
       "min     25.192857  26.842857\n",
       "max     30.064286  29.907143\n",
       "mean    27.470527  28.265688\n",
       "median  27.478571  28.191071\n",
       "std      0.816063   0.718030\n",
       "range    4.871429   3.064286"
      ]
     },
     "execution_count": null,
     "metadata": {},
     "output_type": "execute_result"
    }
   ],
   "source": [
    "data_stats = {}\n",
    "data_stats['Train'] = [train_raw.min(), train_raw.max(),\n",
    "                       train_raw.mean(), np.median(train_raw),\n",
    "                       train_raw.std(), train_raw.max() - train_raw.min()]\n",
    "data_stats['Test'] = [test_raw.min(), test_raw.max(),\n",
    "                       test_raw.mean(), np.median(test_raw),\n",
    "                       test_raw.std(), test_raw.max() - test_raw.min()]\n",
    "indx = ['min','max','mean','median','std','range']\n",
    "\n",
    "# write to file\n",
    "data_stats_df  = pd.DataFrame(data=data_stats,index=indx)\n",
    "data_stats_df.to_csv('./sg_temps_stats.csv',\n",
    "                     header=True,index=True)\n",
    "\n",
    "print('Dataset statistics:')\n",
    "data_stats_df"
   ]
  },
  {
   "cell_type": "markdown",
   "metadata": {},
   "source": [
    "### Histograms:"
   ]
  },
  {
   "cell_type": "code",
   "execution_count": null,
   "metadata": {},
   "outputs": [],
   "source": [
    "# Number of bins:\n",
    "N_bins = 50\n",
    "# histogram range:\n",
    "x_range = [min(data_stats_df.loc['min']),max(data_stats_df.loc['max'])]\n",
    "hist_bins = np.linspace(x_range[0],x_range[1],N_bins)"
   ]
  },
  {
   "cell_type": "code",
   "execution_count": null,
   "metadata": {},
   "outputs": [
    {
     "data": {
      "image/png": "[encoded data removed]",
      "text/plain": [
       "<Figure size 360x144 with 2 Axes>"
      ]
     },
     "metadata": {
      "needs_background": "light"
     },
     "output_type": "display_data"
    }
   ],
   "source": [
    "_, axs = plt.subplots(nrows=1,ncols=2,figsize=[5,2],sharex=True,squeeze=True)\n",
    "# Train\n",
    "axs[0].hist(train_raw, bins=hist_bins)\n",
    "axs[0].set_title('Train')\n",
    "\n",
    "# Test\n",
    "axs[1].hist(test_raw, bins=hist_bins)\n",
    "axs[1].set_title('Test')\n",
    "\n",
    "plt.show()"
   ]
  },
  {
   "cell_type": "markdown",
   "metadata": {},
   "source": [
    "## Normalize"
   ]
  },
  {
   "cell_type": "markdown",
   "metadata": {},
   "source": [
    "Generally, we would use the stat-s computed above for the training data to normalize our data. But for consistency we will use the same procedure as in the **lab 1** (With approx. `mean`:28, `2x s.d.`:1.6).\n",
    "$$x_{normalized} = \\frac{x_{raw}-28}{1.6}$$"
   ]
  },
  {
   "cell_type": "markdown",
   "metadata": {},
   "source": [
    "### Normalize and Write Updated Datasets to New Files\n",
    "- Normalize"
   ]
  },
  {
   "cell_type": "code",
   "execution_count": null,
   "metadata": {},
   "outputs": [],
   "source": [
    "x_mean = 28.0\n",
    "x_scale = 1.6\n",
    "train_norm = (train_raw - x_mean)/x_scale\n",
    "test_norm = (test_raw - x_mean)/x_scale"
   ]
  },
  {
   "cell_type": "markdown",
   "metadata": {},
   "source": [
    "- Write arrays to `./train_norm.npy` and `./test_norm.npy`"
   ]
  },
  {
   "cell_type": "code",
   "execution_count": null,
   "metadata": {},
   "outputs": [],
   "source": [
    "# normalized training dataset:\n",
    "with open('train_norm.npy', 'wb') as f:\n",
    "    np.save(f, train_norm)\n",
    "\n",
    "# normalized test dataset:\n",
    "with open('test_norm.npy', 'wb') as f:\n",
    "    np.save(f, test_norm)\n",
    "    \n",
    "# # For loading them back use:\n",
    "# # with open('train_norm.npy', 'rb') as f:\n",
    "# #    x_test = np.load(f)"
   ]
  },
  {
   "cell_type": "markdown",
   "metadata": {},
   "source": [
    "---\n",
    "Plot normalized data:"
   ]
  },
  {
   "cell_type": "code",
   "execution_count": null,
   "metadata": {},
   "outputs": [
    {
     "data": {
      "image/png": "[encoded data removed]",
      "text/plain": [
       "<Figure size 1152x180 with 3 Axes>"
      ]
     },
     "metadata": {
      "needs_background": "light"
     },
     "output_type": "display_data"
    }
   ],
   "source": [
    "_,axs = plt.subplots(ncols=3,nrows=1,figsize=[16,2.5],squeeze=True)\n",
    "# Plot time series\n",
    "axs[0].plot(train_norm)\n",
    "axs[0].set_title('Train (norm)')\n",
    "axs[1].plot(test_norm)\n",
    "axs[1].set_title('Test (norm)')\n",
    "# deltaY: differences Y(t+1)-Y(t)\n",
    "axs[2].hist((train_norm[1:]-train_norm[:-1]),bins=25,density=True,alpha=.5,label='train')\n",
    "axs[2].hist(test_norm[1:]-test_norm[:-1],bins=25,density=True,alpha=.5,label='test')\n",
    "plt.title('Differences, $Y(T+1)-Y(T+0)$')\n",
    "plt.legend()\n",
    "plt.show()"
   ]
  },
  {
   "cell_type": "markdown",
   "metadata": {},
   "source": [
    "---\n",
    "From session 5 video: SG-Temps dataset\n",
    "- Daily temperatures 2000-2015\n",
    "- Strong yearly cycles ( _of different and varying lengths_ ) driven by monssons\n",
    "- Maxima more regular than minima\n",
    "- Max/Min temps show inter-annual variation\n",
    "---"
   ]
  },
  {
   "cell_type": "markdown",
   "metadata": {},
   "source": [
    "### Persistence Loss (for Normalized Data with MSE loss)"
   ]
  },
  {
   "cell_type": "markdown",
   "metadata": {},
   "source": [
    "- note that session 5 uses MSE loss and an additional factor of 0.5x for persistence loss ([_see video_](https://youtu.be/TSHc60ZI7cU?t=268))\n",
    "- here we ignore 0.5x\n",
    "---\n",
    "Compute persistence loss and save it to `./persistence_T{}.npy` where `{}` is replaced by the lead time, e.g. `./persistence_T5.npy`.\n",
    "- You can load it back with the code below:\n",
    "```python\n",
    "with open('persistence_T5.npy','rb') as f:\n",
    "    x=np.load(f,allow_pickle=True).item()\n",
    "```\n",
    "`x` is a python `dict` object.\n",
    "- Here, `persistence` is computed starting from the first elements of `train_norm` (or `test_norm`). Your exact training/testing dataset will start from the last element in the window, which will be set as first $Y(T+0)$."
   ]
  },
  {
   "cell_type": "code",
   "execution_count": null,
   "metadata": {},
   "outputs": [],
   "source": [
    "import utils"
   ]
  },
  {
   "cell_type": "code",
   "execution_count": null,
   "metadata": {},
   "outputs": [
    {
     "name": "stdout",
     "output_type": "stream",
     "text": [
      "{'lead_time': 5, 'persist_train': 0.3465510886796467, 'persist_test': 0.3377655358064947}\n"
     ]
    }
   ],
   "source": [
    "Tlead = 5\n",
    "# utils.persistence_loss by default uses MSE as metric\n",
    "persistence_data = np.array({'lead_time':Tlead,\n",
    "                             'persist_train':utils.persistence_loss(train_norm,lead_time=Tlead),\n",
    "                             'persist_test':utils.persistence_loss(test_norm,lead_time=Tlead)})\n",
    "\n",
    "with open('persistence_T{}.npy'.format(Tlead), 'wb') as f:\n",
    "    np.save(f,persistence_data)\n",
    "\n",
    "print(persistence_data)"
   ]
  },
  {
   "cell_type": "code",
   "execution_count": null,
   "metadata": {},
   "outputs": [],
   "source": []
  }
 ],
 "metadata": {
  "kernelspec": {
   "display_name": "Python [conda env:pytorch]",
   "language": "python",
   "name": "conda-env-pytorch-py"
  }
 },
 "nbformat": 4,
 "nbformat_minor": 2
}
