{
 "cells": [
  {
   "cell_type": "markdown",
   "metadata": {},
   "source": [
    "# Wind Energy Production Forecasting"
   ]
  },
  {
   "cell_type": "markdown",
   "metadata": {},
   "source": [
    "- Wind energy production/amount is a function of _wind speed_ and its _direction_.\n",
    " - forecast amount will sold to the grid operator\n",
    " - the grid operator fines if there's shortfall from forecast\n",
    " - excess is wasted\n",
    "- Grid operator **(buys , 10 euro cents/kWh)**, enforces fines if there's a shortfall by the energy producer\n",
    "- Spot market price for energy **(sells, 20 euro cents)**\n",
    "\n",
    "__Objective__\n",
    "- Our goal is to get a _T+18 hour energy forecast_ , _every hour_ . Our objective, as a trader, is to maximize profits for our client using our energy production forecast and the given trading algorithm (this alg-m is fixed for simplicity).\n"
   ]
  },
  {
   "cell_type": "markdown",
   "metadata": {},
   "source": [
    "## Trade:\n",
    "1. Produce a forecast\n",
    "    - Excess is wasted (i.e. 0cents/kWh)\n",
    "    - Shortfall is covered by trader (we need to buy this amount from spot market, _if we have cash in hand_ ):\n",
    "        - buy 20cents/kWh\n",
    "    - If there's no money to buy:\n",
    "        - If _cash in hand_ is lower than required to purchase the shortfall amount\n",
    "        - We are fined by grid 100cents/kWh\n",
    "        - Recorded as a negative value (debt), and it's cumulative.\n",
    "1. Starting budget 10,000,000 cents\n",
    "1. Need to return 10,000,000 cents at the end of the evaluation period.\n",
    "1. The remainder is our client's profits. Our objective is to maximise this profit."
   ]
  },
  {
   "cell_type": "markdown",
   "metadata": {},
   "source": [
    "## Datasets and Sources\n",
    "Datasets:\n",
    "1. Wind Energy Production \\[src : Réseau de transport d'électricité [(RTE)](https://www.rte-france.com/), the French electricity transmission system operator\\]\n",
    "    - **We average and standardise to a time base of 1 hour** a near-realtime wind energy data from RTE's online database.\n",
    "    - The dataset is called `energy-ile-de-france` (contains the consolidated energy wind production for the Ile-de-France region surrounding Paris)\n",
    "2. Wind Forecasts \\[src : [Terra Weather](http://www.terra-weather.com)\\]\n",
    "    - Provided are _wind forecasts for 8 locations_ of major wind farms in the Ile-de-France region.\n",
    "\n"
   ]
  },
  {
   "cell_type": "markdown",
   "metadata": {},
   "source": [
    "### Wind Energy Production Data\n",
    "- The provided data is __from 01 Jan 2017 to the present__.\n",
    "- The energy production values are in __kWh__ units.\n",
    "- The dataset is called `energy-ile-de-france`, and contains _standardised 1 hourly values_."
   ]
  },
  {
   "cell_type": "markdown",
   "metadata": {},
   "source": [
    "Following are for downloading regional energy production _raw data for Ile-de-France_ :\n",
    "- Downloading \"Current real-time data\" from RTE website (in ipython/notebook, in terminal remove \"`!`\" character):\n",
    "```\n",
    "!wget https://eco2mix.rte-france.com/download/eco2mix/eCO2mix_RTE_Ile-de-France_En-cours-TR.zip\n",
    "!unzip eCO2mix_RTE_Ile-de-France_En-cours-TR.zip\n",
    "```\n",
    "- Links for each year/period:\n",
    "    - **2017** (\"Definitive data for the year 2017\"):<br>\n",
    "    `https://eco2mix.rte-france.com/download/eco2mix/eCO2mix_RTE_Ile-de-France_Annuel-Definitif_2017.zip`\n",
    "    - **2018** (\"Definitive data for the year 2018\"):<br>\n",
    "    `https://eco2mix.rte-france.com/download/eco2mix/eCO2mix_RTE_Ile-de-France_Annuel-Definitif_2018.zip`\n",
    "    - **01/01/2019-31/05/2020** (\"Current consolidated data\"):<br>\n",
    "    `https://eco2mix.rte-france.com/download/eco2mix/eCO2mix_RTE_Ile-de-France_En-cours-Consolide.zip`\n",
    "    - **01/06/2020-09/07/2020** (\"Current real-time data\"):<br>\n",
    "    `https://eco2mix.rte-france.com/download/eco2mix/eCO2mix_RTE_Ile-de-France_En-cours-TR.zip`\n",
    "\n",
    "The \"Current consolidated data\" and \"Current real-time data\" could change which dates it contain depending on when you are downloading them.\n",
    "\n",
    "In the files above look for column \"Eolien\" (\"wind\" in French).\n",
    "\n",
    "---\n",
    "From RTE website:<br>\n",
    ">During the course of the following month, the indicators are consolidated to include available metering data. During the first six months of the following year, the indicators are finalized with the latest metering data and become definitive.\n",
    "\n",
    "---"
   ]
  },
  {
   "cell_type": "code",
   "execution_count": null,
   "metadata": {},
   "outputs": [],
   "source": [
    "import urllib.request, zipfile, os\n",
    "\n",
    "# for Ile-de-France\n",
    "wind_energy_urls = {\"2017\":\"https://eco2mix.rte-france.com/download/eco2mix/eCO2mix_RTE_Ile-de-France_Annuel-Definitif_2017.zip\",\n",
    "                    \"2018\":\"https://eco2mix.rte-france.com/download/eco2mix/eCO2mix_RTE_Ile-de-France_Annuel-Definitif_2018.zip\",\n",
    "                    \"2019_May2020\":\"https://eco2mix.rte-france.com/download/eco2mix/eCO2mix_RTE_Ile-de-France_En-cours-Consolide.zip\",\n",
    "                    \"real_time\":\"https://eco2mix.rte-france.com/download/eco2mix/eCO2mix_RTE_Ile-de-France_En-cours-TR.zip\"}"
   ]
  },
  {
   "cell_type": "code",
   "execution_count": null,
   "metadata": {},
   "outputs": [
    {
     "name": "stdout",
     "output_type": "stream",
     "text": [
      "Downloading\n",
      "\"eCO2mix_RTE_Ile-de-France_En-cours-TR.zip\" from\n",
      "\"https://eco2mix.rte-france.com/download/eco2mix/eCO2mix_RTE_Ile-de-France_En-cours-TR.zip\"\n",
      "\n",
      "Extracting:\n",
      "datasets/eCO2mix_RTE_Ile-de-France_En-cours-TR.zip in \"datasets\"\n",
      "- - - - - \n",
      "File Name                                             Modified             Size\n",
      "eCO2mix_RTE_Ile-de-France_En-cours-TR.xls      2020-07-09 19:27:04       854888\n",
      "- - - - - \n",
      "Deleting\n",
      "datasets/eCO2mix_RTE_Ile-de-France_En-cours-TR.zip\n"
     ]
    }
   ],
   "source": [
    "# Download and extract to ./datasets folder\n",
    "data_path =os.path.relpath('./datasets')\n",
    "\n",
    "# download the current data +/-15mins sometimes even later\n",
    "zip_file_name = wind_energy_urls[\"real_time\"].split('/')[-1]\n",
    "\n",
    "print(f'Downloading\\n\\\"{zip_file_name}\\\" from\\n\\\"{wind_energy_urls[\"real_time\"]}\\\"\\n')\n",
    "\n",
    "zip_file_name,_ = urllib.request.urlretrieve(wind_energy_urls[\"real_time\"],\n",
    "filename=os.path.join(data_path,zip_file_name))\n",
    "\n",
    "# unzip\n",
    "with zipfile.ZipFile(zip_file_name, 'r') as zip_ref:\n",
    "      print(f'Extracting:\\n{zip_file_name} in \\\"{data_path}\\\"\\n'+5*'- ')\n",
    "      # file modification date and time: zip_ref.filelist[0].date_time\n",
    "      zip_ref.printdir()\n",
    "      zip_ref.extractall(data_path)\n",
    "\n",
    "if os.path.exists(zip_file_name):\n",
    "    print(+5*'- '+f'\\nDeleting\\n{zip_file_name}')\n",
    "    os.remove(zip_file_name)"
   ]
  },
  {
   "cell_type": "code",
   "execution_count": null,
   "metadata": {},
   "outputs": [
    {
     "name": "stdout",
     "output_type": "stream",
     "text": [
      "eCO2mix_RTE_Ile-de-France_Annuel-Definitif_2017.xls\r\n",
      "eCO2mix_RTE_Ile-de-France_Annuel-Definitif_2018.xls\r\n",
      "eCO2mix_RTE_Ile-de-France_En-cours-Consolide.xls\r\n",
      "eCO2mix_RTE_Ile-de-France_En-cours-TR.xls\r\n"
     ]
    }
   ],
   "source": [
    "ls ./datasets/"
   ]
  },
  {
   "cell_type": "code",
   "execution_count": null,
   "metadata": {},
   "outputs": [],
   "source": [
    "import pandas as pd, numpy as np\n",
    "df = pd.read_csv(\"./datasets/eCO2mix_RTE_Ile-de-France_En-cours-TR.xls\",sep='\\t',\n",
    "                 header=0,encoding='latin',index_col=False,parse_dates=[['Date', 'Heures']],na_values=['-','ND'])\n",
    "# remove the footer\n",
    "df = df.iloc[:-1]\n",
    "# set index as Datetime\n",
    "df['Datetime'] = pd.to_datetime(df['Date_Heures'])\n",
    "df.set_index('Datetime',inplace=True)"
   ]
  },
  {
   "cell_type": "code",
   "execution_count": null,
   "metadata": {},
   "outputs": [
    {
     "name": "stdout",
     "output_type": "stream",
     "text": [
      "Latest timestamp for wind energy:\n",
      "2020-07-09 19:00:00\n"
     ]
    },
    {
     "data": {
      "text/plain": [
       "Datetime\n",
       "2020-07-09 16:45:00    39.0\n",
       "2020-07-09 17:00:00    39.0\n",
       "2020-07-09 17:15:00    49.0\n",
       "2020-07-09 17:30:00    40.0\n",
       "2020-07-09 17:45:00    44.0\n",
       "2020-07-09 18:00:00    42.0\n",
       "2020-07-09 18:15:00    34.0\n",
       "2020-07-09 18:30:00    44.0\n",
       "2020-07-09 18:45:00    46.0\n",
       "2020-07-09 19:00:00    41.0\n",
       "Name: Eolien, dtype: float64"
      ]
     },
     "execution_count": null,
     "metadata": {},
     "output_type": "execute_result"
    }
   ],
   "source": [
    "tmstamp = df[np.logical_not(df['Eolien'].isna())].index[-1]\n",
    "print(f'Latest timestamp for wind energy:\\n{tmstamp}')\n",
    "df['Eolien'][np.logical_not(df['Eolien'].isna())].tail(10)"
   ]
  },
  {
   "cell_type": "code",
   "execution_count": null,
   "metadata": {},
   "outputs": [
    {
     "data": {
      "image/png": "[encoded data removed]",
      "text/plain": [
       "<Figure size 432x288 with 1 Axes>"
      ]
     },
     "metadata": {
      "needs_background": "light"
     },
     "output_type": "display_data"
    }
   ],
   "source": [
    "df['Eolien'][np.logical_not(df['Eolien'].isna())].plot();"
   ]
  },
  {
   "cell_type": "markdown",
   "metadata": {},
   "source": [
    "### Wind Forecasts Data\n"
   ]
  },
  {
   "cell_type": "code",
   "execution_count": null,
   "metadata": {},
   "outputs": [],
   "source": []
  }
 ],
 "metadata": {
  "kernelspec": {
   "display_name": "Python [conda env:pytorch]",
   "language": "python",
   "name": "conda-env-pytorch-py"
  }
 },
 "nbformat": 4,
 "nbformat_minor": 2
}
