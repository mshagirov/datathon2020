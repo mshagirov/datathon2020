{
 "cells": [
  {
   "cell_type": "markdown",
   "metadata": {},
   "source": [
    "- Wind energy production/amount is a function of _wind speed_ and its _direction_.\n",
    " - forecast amount is sold to the grid operator\n",
    " - the grid operator fines if there's shortfall from forecast\n",
    " - excess is wasted\n",
    "- Grid operator **(buys , 10 euro cents/kWh)**, enforces fines if there's a shortfall by the energy producer\n",
    "- Spot market price for energy **(sells, 20 euro cents/kWh)**\n",
    "- In case if we do not have anough cash to buy from the spot market, we pay a fine for the amount we failed to deliver **(penalty, 100 euro cents/kWh)**\n",
    "\n",
    "__Objective__\n",
    "- Our goal is to get a **T+18 hour energy forecast , every hour for entire Ile-de-France region**. Our objective, as a trader, is to maximize profits for our client using our energy production forecast and the given trading algorithm (this alg-m is fixed for simplicity).\n"
   ]
  },
  {
   "cell_type": "code",
   "execution_count": 1,
   "metadata": {},
   "outputs": [],
   "source": [
    "%load_ext autoreload\n",
    "%autoreload 2"
   ]
  },
  {
   "cell_type": "code",
   "execution_count": 14,
   "metadata": {},
   "outputs": [],
   "source": [
    "#hide\n",
    "#For running in JupyterHub:\n",
    "import os\n",
    "if os.path.basename(os.getcwd())!='nbs':\n",
    "    lib_path = os.path.expanduser(os.path.relpath('~/images/codesDIR/datathon2020/P003'))\n",
    "    os.chdir(lib_path)"
   ]
  },
  {
   "cell_type": "code",
   "execution_count": 15,
   "metadata": {},
   "outputs": [],
   "source": [
    "import os, pandas as pd, numpy as np\n",
    "import datetime\n",
    "from src import datautils\n",
    "\n",
    "import matplotlib.pyplot as plt\n",
    "import matplotlib\n",
    "plt.style.use('ggplot')\n",
    "matplotlib.rcParams['figure.figsize'] = (15,6)\n",
    "%matplotlib inline"
   ]
  },
  {
   "cell_type": "code",
   "execution_count": null,
   "metadata": {},
   "outputs": [],
   "source": [
    "# !ln -s ../src/ ."
   ]
  },
  {
   "cell_type": "markdown",
   "metadata": {},
   "source": [
    "## Trade:\n",
    "1. Produce a forecast\n",
    "    - Excess is wasted (i.e. 0cents/kWh)\n",
    "    - Shortfall is covered by trader (we need to buy this amount from spot market, _if we have cash in hand_ ):\n",
    "        - buy 20cents/kWh\n",
    "    - If there's no money to buy:\n",
    "        - If _cash in hand_ is lower than required to purchase the shortfall amount\n",
    "        - We are fined by grid 100cents/kWh\n",
    "        - Recorded as a negative value (debt), and it's cumulative.\n",
    "1. Starting budget 10,000,000 cents\n",
    "1. Need to return 10,000,000 cents at the end of the evaluation period.\n",
    "1. The remainder is our client's profits. Our objective is to maximise this profit."
   ]
  },
  {
   "cell_type": "markdown",
   "metadata": {},
   "source": [
    "## Datasets and Sources\n",
    "Datasets:\n",
    "1. Wind Energy Production \\[src : Réseau de transport d'électricité [(RTE)](https://www.rte-france.com/), the French electricity transmission system operator\\]\n",
    "    - **We average and standardise to a time base of 1 hour** a near-realtime wind energy data from RTE's online database.\n",
    "    - The dataset is called `energy-ile-de-france` (contains the consolidated energy wind production for the Ile-de-France region surrounding Paris)\n",
    "2. Wind Forecasts \\[src : [Terra Weather](http://www.terra-weather.com)\\]\n",
    "    - Provided are _wind forecasts for 8 locations_ of major wind farms in the Ile-de-France region.\n",
    "\n"
   ]
  },
  {
   "cell_type": "markdown",
   "metadata": {},
   "source": [
    "### Wind Energy Production Data\n",
    "- We use data __from 01 Jan 2017 to the present__. (download these)\n",
    "- Real-time data are in Paris time.\n",
    "- [`https://www.rte-france.com/en/eco2mix/eco2mix-telechargement-en`](https://www.rte-france.com/en/eco2mix/eco2mix-telechargement-en)\n",
    "- The energy production (power) values are in __MW__ units (we need to convert them to kWh before trading! *i.e. get mean power over hour to get energy*).\n",
    "\n",
    "---\n",
    "Notes on Wind Energy Datasets:\n",
    "1. **AI4Impact `energy-ile-de-france` Dataset**<br>\n",
    "In autocaffe, the dataset is called `energy-ile-de-france`, and contains *standardised 1 hourly values* (UTC, in kWh).<br>\n",
    "AI4Impact link for all years including latest readings (**all in UTC and kWh**):\n",
    "    - 1/1/2017-*now*: `https://ai4impact.org/P003/historical/energy-ile-de-france.csv`\n",
    "    - **to download it** use `datautils.download_energy_latest()` (from `/src/datautils.py`)\n",
    "    - **to read** use `datautils.read_ai4impact_energy(...)`\n",
    "    - AI4Impact is delayed compared to the raw RTE data.\n",
    "1. **Raw Datasets from RTE**<br>\n",
    "Following are for downloading regional energy production _raw data for Ile-de-France_ :\n",
    "    - **for downloading** RTE data use `datautils.download_raw_from_RTE()` (in `/src/datautils.py`), for available urls see\n",
    "    `datautils.wind_energy_urls`.\n",
    "    - **to read** in kWh use `datautils.read_RTE_as_kwh(...,convert2UTC=True)` (in `/src/datautils.py`, set convert2UTC=True for real-time data).\n",
    "    - For 2019_May2020 data (\"Consolide\" data) YOU WILL NEED TO REMOVE EXTRA COLUMNS (each row has different #col-s), before reading with pandas.\n",
    "        - The current fixed version of this dataset (data for 01/01/2019-31/05/2020) is `./datasets/eCO2mix_RTE_Ile-de-France_En-cours-Consolide_FIXED_ERRCOLS.xls`\n",
    "    - Regarding different datasets from RTE website, the \"Current consolidated data\" and \"Current real-time data\" could change which dates they contain depending on when you are downloading them. (*see disclaimer from RTE website below*):<br>\n",
    "    >During the course of the following month, the indicators are consolidated to include available metering data. During the first six months of the following year, the indicators are finalized with the latest metering data and become definitive. \n",
    "\n",
    "---\n",
    "**Total Nominal Power Outputs** of all wind farms in the Ile-de-France region (based on RTE website data):\n",
    "- 01/01/2017 - 01/06/2017 : 43MW\n",
    "- 01/06/2017 - 01/12/2017 : 55MW\n",
    "- 01/12/2017 - 01/09/2019 : 70MW\n",
    "- 01/09/2019 - now : 89MW (~89.8MW)<br>\n",
    "The Difference network should be able to handle the changes above (nominal power— max. possible output, changes in time as newer and larger wind farms are built)\n"
   ]
  },
  {
   "cell_type": "markdown",
   "metadata": {},
   "source": [
    "- **Download latest readings** (includes 1/1/2017-now)"
   ]
  },
  {
   "cell_type": "markdown",
   "metadata": {},
   "source": [
    "#### Downloading and Reading AI4Impact Wind Energy Data"
   ]
  },
  {
   "cell_type": "code",
   "execution_count": 16,
   "metadata": {},
   "outputs": [
    {
     "name": "stdout",
     "output_type": "stream",
     "text": [
      "UTC time now: 2020-07-15 09:23:55\n",
      "\n",
      "Downloaded from:\n",
      "`https://ai4impact.org/P003/historical/energy-ile-de-france.csv`\n",
      "saved to:\n",
      "datasets/energy-ile-de-france.csv\n",
      "                     Energy(kWh)\n",
      "Datetime                        \n",
      "2020-07-15 04:00:00      10000.0\n",
      "2020-07-15 05:00:00       9500.0\n",
      "2020-07-15 06:00:00      12250.0\n",
      "2020-07-15 07:00:00      10750.0\n",
      "2020-07-15 08:00:00       8000.0\n"
     ]
    },
    {
     "data": {
      "image/png": "[encoded data removed]",
      "text/plain": [
       "<Figure size 432x288 with 1 Axes>"
      ]
     },
     "metadata": {
      "needs_background": "light"
     },
     "output_type": "display_data"
    },
    {
     "data": {
      "image/png": "[encoded data removed]",
      "text/plain": [
       "<Figure size 432x288 with 1 Axes>"
      ]
     },
     "metadata": {
      "needs_background": "light"
     },
     "output_type": "display_data"
    }
   ],
   "source": [
    "t = datetime.datetime.utcnow()\n",
    "print('UTC time now: {}-{:02d}-{:02d} {:02d}:{:02d}:{:02d}\\n'.format(t.year,t.month,t.day, t.hour,t.minute,t.second))\n",
    "datautils.download_energy_latest()\n",
    "df = datautils.read_ai4impact_energy('datasets/energy-ile-de-france.csv')\n",
    "print(df.tail())\n",
    "df.plot()\n",
    "plt.show()\n",
    "\n",
    "plt.hist(df.values)\n",
    "x= df.values\n",
    "plt.title(f'Mean:{x.mean():.2f}kWh; std:{x.std():.2f}; max:{x.max()}; min:{x.min()}; median:{np.median(x)}');\n",
    "plt.show()"
   ]
  },
  {
   "cell_type": "markdown",
   "metadata": {},
   "source": [
    "#### Downloading and Reading Raw RTE (+ real-time data from RTE)"
   ]
  },
  {
   "cell_type": "code",
   "execution_count": 17,
   "metadata": {},
   "outputs": [
    {
     "name": "stdout",
     "output_type": "stream",
     "text": [
      "Downloading\n",
      "\"eCO2mix_RTE_Ile-de-France_En-cours-TR.zip\" from\n",
      "`https://eco2mix.rte-france.com/download/eco2mix/eCO2mix_RTE_Ile-de-France_En-cours-TR.zip`\n",
      "\n",
      "Extracting: datasets/eCO2mix_RTE_Ile-de-France_En-cours-TR.zip\n",
      "eCO2mix_RTE_Ile-de-France_En-cours-TR.xls --> as \"datasets/eCO2mix_RTE_Ile-de-France_En-cours-TR.xls\"\n",
      "- - - - - \n",
      "File Name                                             Modified             Size\n",
      "eCO2mix_RTE_Ile-de-France_En-cours-TR.xls      2020-07-15 10:31:20       982113\n",
      "- - - - - \n",
      "Deleting\n",
      "datasets/eCO2mix_RTE_Ile-de-France_En-cours-TR.zip\n",
      "\n",
      "UTC time now: 2020-07-15 09:24:06\n",
      "\n",
      "Latest timestamp for wind energy:\n",
      "2020-07-15 08:00:00\n",
      "                     Energy(kWh)\n",
      "Datetime                        \n",
      "2020-07-15 04:00:00      10000.0\n",
      "2020-07-15 05:00:00       9500.0\n",
      "2020-07-15 06:00:00      12250.0\n",
      "2020-07-15 07:00:00      10750.0\n",
      "2020-07-15 08:00:00       8000.0\n"
     ]
    },
    {
     "data": {
      "image/png": "[encoded data removed]",
      "text/plain": [
       "<Figure size 432x288 with 1 Axes>"
      ]
     },
     "metadata": {
      "needs_background": "light"
     },
     "output_type": "display_data"
    },
    {
     "data": {
      "image/png": "[encoded data removed]",
      "text/plain": [
       "<Figure size 432x288 with 1 Axes>"
      ]
     },
     "metadata": {
      "needs_background": "light"
     },
     "output_type": "display_data"
    }
   ],
   "source": [
    "RTE_data_name = 'real_time'\n",
    "RTE_file_path = datautils.download_raw_from_RTE(RTE_data_name,return_filelist=True)\n",
    "\n",
    "# RTE_file_names = {\"2017\":\"eCO2mix_RTE_Ile-de-France_Annuel-Definitif_2017.xls\",\n",
    "#               \"2018\":\"eCO2mix_RTE_Ile-de-France_Annuel-Definitif_2018.xls\",\n",
    "#               \"2019_May2020\":\"eCO2mix_RTE_Ile-de-France_En-cours-Consolide_FIXED_ERRCOLS.xls\",\n",
    "#               \"real_time\":\"eCO2mix_RTE_Ile-de-France_En-cours-TR.xls\"}\n",
    "# file location: os.path.join(data_path,RTE_file_name0)\n",
    "\n",
    "\n",
    "df=datautils.read_RTE_as_kwh(RTE_file_path[0],convert2UTC=True)\n",
    "t = datetime.datetime.utcnow()\n",
    "print('UTC time now: {}-{:02d}-{:02d} {:02d}:{:02d}:{:02d}\\n'.format(t.year,t.month,t.day, t.hour,t.minute,t.second))\n",
    "print(f'Latest timestamp for wind energy:\\n{df.index[-1]}')\n",
    "print(df.tail())\n",
    "df.plot()\n",
    "plt.show()\n",
    "\n",
    "plt.hist(df.values)\n",
    "x= df.values\n",
    "plt.title(f'Mean:{x.mean():.2f}kWh; std:{x.std():.2f}; max:{x.max()}; min:{x.min()}; median:{np.median(x)}');\n",
    "plt.show()"
   ]
  },
  {
   "cell_type": "code",
   "execution_count": null,
   "metadata": {},
   "outputs": [],
   "source": [
    "# from datetime import datetime\n",
    "# # unix time in ms to human-readable time format:\n",
    "# datetime.utcfromtimestamp(1483232400000//1000).strftime('%Y-%m-%d %H:%M:%S')"
   ]
  },
  {
   "cell_type": "markdown",
   "metadata": {},
   "source": [
    "### Wind Forecasts Data\n",
    "Wind forecasts data for locations of major 8 wind farms in Ile-de-France are provided by [Terra Weather](http://www.terra-weather.com).\n",
    "- Available data : __from 01 Jan 2017 to the present__ \n",
    "- UTC time zone\n",
    "- Wind data come from _2 models_ , thus there are `2x8=16` forecasts in total.\n",
    "- 2 var-s: `[` wind speed (m/s), direction (deg-N)`]`\n",
    "    - wind dir-s are \"from\", e.g. 45 deg means wind is blowing _from_ the NE.\n",
    "- **Real-time forecasts** are updated 4x daily (*every 6 hours*):\n",
    "    - **from latest-update-to-(+10 days, same time)**\n",
    "    - 2 models can have different update frequencies, and forecast lengths\n",
    "    - Probably need to interpolate, fuse and take mean of the forecasts\n",
    "- Historical forecats or \"analysis\" winds: our best guess from observations.\n",
    "    - from 1/1/2017-\n",
    "- Need to **interpolate** (linear interpolation) to hourly basis _each forecast file_."
   ]
  },
  {
   "cell_type": "code",
   "execution_count": 18,
   "metadata": {},
   "outputs": [
    {
     "name": "stdout",
     "output_type": "stream",
     "text": [
      "['guitrancourt', 'lieusaint', 'lvs-pussay', 'parc-du-gatinais', 'arville', 'boissy-la-riviere', 'angerville-1', 'angerville-2']\n"
     ]
    }
   ],
   "source": [
    "# wind farm locations\n",
    "print(datautils.locations)\n",
    "# angerville-2 is \"Les Pointes\" wind farm"
   ]
  },
  {
   "cell_type": "markdown",
   "metadata": {},
   "source": [
    "- **Download Wind Forecasts** (Need to Download ~6-hourly):\n",
    "    - to download **both latest and historical** use `datautils.download_forecasts_all()`\n",
    "    - to download **only latest** use `datautils.download_forecasts_latest()`"
   ]
  },
  {
   "cell_type": "code",
   "execution_count": 19,
   "metadata": {},
   "outputs": [
    {
     "name": "stdout",
     "output_type": "stream",
     "text": [
      "Downloading all forecats for \n",
      "['guitrancourt', 'lieusaint', 'lvs-pussay', 'parc-du-gatinais', 'arville', 'boissy-la-riviere', 'angerville-1', 'angerville-2']\n",
      "Latest wind forecasts:\n",
      "Downloaded latest forecasts from\n",
      "`https://ai4impact.org/P003/`\n",
      "saved to\n",
      "datasets\n",
      "\n",
      "Historical wind forecasts:\n",
      "Downloaded historical forecasts from\n",
      "`https://ai4impact.org/P003/historical/`\n",
      "saved to\n",
      "datasets\n",
      "\n"
     ]
    }
   ],
   "source": [
    "print(f'Downloading all forecats for \\n{datautils.locations}')\n",
    "datautils.download_forecasts_all()\n",
    "# # to download just the latest forecasts use: `download_forecasts_latest()`\n",
    "# datautils.download_forecasts_latest()"
   ]
  },
  {
   "cell_type": "markdown",
   "metadata": {},
   "source": [
    "- to print **names of the wind farm locations** use `datautils.locations` (list of names as `str`'s)\n",
    "- for a location `[name]`:\n",
    "    - **model 1 forecasts**:\n",
    "        - **latest**--> `datasets/model1/[name].csv`\n",
    "        - **hist-l**--> `datasets/historical1/[name].csv`\n",
    "    - **model 2 forecasts** (names end with `*-b.csv`):\n",
    "        - **latest**--> `datasets/model2/[name]-b.csv`\n",
    "        - **hist-l**--> `datasets/historical2/[name]-b.csv`"
   ]
  },
  {
   "cell_type": "code",
   "execution_count": 20,
   "metadata": {},
   "outputs": [
    {
     "name": "stdout",
     "output_type": "stream",
     "text": [
      "Loading\n",
      "datasets/model1/guitrancourt.csv\n"
     ]
    },
    {
     "data": {
      "text/html": [
       "<div>\n",
       "<style scoped>\n",
       "    .dataframe tbody tr th:only-of-type {\n",
       "        vertical-align: middle;\n",
       "    }\n",
       "\n",
       "    .dataframe tbody tr th {\n",
       "        vertical-align: top;\n",
       "    }\n",
       "\n",
       "    .dataframe thead th {\n",
       "        text-align: right;\n",
       "    }\n",
       "</style>\n",
       "<table border=\"1\" class=\"dataframe\">\n",
       "  <thead>\n",
       "    <tr style=\"text-align: right;\">\n",
       "      <th></th>\n",
       "      <th>Speed(m/s)</th>\n",
       "      <th>Direction (deg N)</th>\n",
       "    </tr>\n",
       "    <tr>\n",
       "      <th>Datetime</th>\n",
       "      <th></th>\n",
       "      <th></th>\n",
       "    </tr>\n",
       "  </thead>\n",
       "  <tbody>\n",
       "    <tr>\n",
       "      <th>2020-07-15 00:00:00</th>\n",
       "      <td>1.56</td>\n",
       "      <td>320</td>\n",
       "    </tr>\n",
       "    <tr>\n",
       "      <th>2020-07-15 03:00:00</th>\n",
       "      <td>1.82</td>\n",
       "      <td>297</td>\n",
       "    </tr>\n",
       "    <tr>\n",
       "      <th>2020-07-15 06:00:00</th>\n",
       "      <td>2.46</td>\n",
       "      <td>281</td>\n",
       "    </tr>\n",
       "    <tr>\n",
       "      <th>2020-07-15 09:00:00</th>\n",
       "      <td>2.76</td>\n",
       "      <td>292</td>\n",
       "    </tr>\n",
       "    <tr>\n",
       "      <th>2020-07-15 12:00:00</th>\n",
       "      <td>3.00</td>\n",
       "      <td>324</td>\n",
       "    </tr>\n",
       "    <tr>\n",
       "      <th>...</th>\n",
       "      <td>...</td>\n",
       "      <td>...</td>\n",
       "    </tr>\n",
       "    <tr>\n",
       "      <th>2020-07-24 12:00:00</th>\n",
       "      <td>1.64</td>\n",
       "      <td>352</td>\n",
       "    </tr>\n",
       "    <tr>\n",
       "      <th>2020-07-24 15:00:00</th>\n",
       "      <td>2.64</td>\n",
       "      <td>16</td>\n",
       "    </tr>\n",
       "    <tr>\n",
       "      <th>2020-07-24 18:00:00</th>\n",
       "      <td>3.60</td>\n",
       "      <td>8</td>\n",
       "    </tr>\n",
       "    <tr>\n",
       "      <th>2020-07-24 21:00:00</th>\n",
       "      <td>5.08</td>\n",
       "      <td>28</td>\n",
       "    </tr>\n",
       "    <tr>\n",
       "      <th>2020-07-25 00:00:00</th>\n",
       "      <td>3.00</td>\n",
       "      <td>40</td>\n",
       "    </tr>\n",
       "  </tbody>\n",
       "</table>\n",
       "<p>81 rows × 2 columns</p>\n",
       "</div>"
      ],
      "text/plain": [
       "                     Speed(m/s)  Direction (deg N)\n",
       "Datetime                                          \n",
       "2020-07-15 00:00:00        1.56                320\n",
       "2020-07-15 03:00:00        1.82                297\n",
       "2020-07-15 06:00:00        2.46                281\n",
       "2020-07-15 09:00:00        2.76                292\n",
       "2020-07-15 12:00:00        3.00                324\n",
       "...                         ...                ...\n",
       "2020-07-24 12:00:00        1.64                352\n",
       "2020-07-24 15:00:00        2.64                 16\n",
       "2020-07-24 18:00:00        3.60                  8\n",
       "2020-07-24 21:00:00        5.08                 28\n",
       "2020-07-25 00:00:00        3.00                 40\n",
       "\n",
       "[81 rows x 2 columns]"
      ]
     },
     "execution_count": 20,
     "metadata": {},
     "output_type": "execute_result"
    }
   ],
   "source": [
    "data_path = os.path.relpath('datasets/model1/')\n",
    "file_name = datautils.locations[0]+'.csv'\n",
    "\n",
    "print(f'Loading\\n{os.path.join(data_path,file_name)}')\n",
    "df = datautils.read_forecast(os.path.join(data_path,file_name))\n",
    "\n",
    "# df[df.index>=pd.to_datetime('10 Jul 2020')]\n",
    "df"
   ]
  },
  {
   "cell_type": "code",
   "execution_count": 21,
   "metadata": {},
   "outputs": [
    {
     "name": "stdout",
     "output_type": "stream",
     "text": [
      "Loading\n",
      "datasets/model2/guitrancourt-b.csv\n"
     ]
    },
    {
     "data": {
      "text/html": [
       "<div>\n",
       "<style scoped>\n",
       "    .dataframe tbody tr th:only-of-type {\n",
       "        vertical-align: middle;\n",
       "    }\n",
       "\n",
       "    .dataframe tbody tr th {\n",
       "        vertical-align: top;\n",
       "    }\n",
       "\n",
       "    .dataframe thead th {\n",
       "        text-align: right;\n",
       "    }\n",
       "</style>\n",
       "<table border=\"1\" class=\"dataframe\">\n",
       "  <thead>\n",
       "    <tr style=\"text-align: right;\">\n",
       "      <th></th>\n",
       "      <th>Speed(m/s)</th>\n",
       "      <th>Direction (deg N)</th>\n",
       "    </tr>\n",
       "    <tr>\n",
       "      <th>Datetime</th>\n",
       "      <th></th>\n",
       "      <th></th>\n",
       "    </tr>\n",
       "  </thead>\n",
       "  <tbody>\n",
       "    <tr>\n",
       "      <th>2020-07-15 00:00:00</th>\n",
       "      <td>1.68</td>\n",
       "      <td>294</td>\n",
       "    </tr>\n",
       "    <tr>\n",
       "      <th>2020-07-15 03:00:00</th>\n",
       "      <td>3.30</td>\n",
       "      <td>285</td>\n",
       "    </tr>\n",
       "    <tr>\n",
       "      <th>2020-07-15 06:00:00</th>\n",
       "      <td>3.25</td>\n",
       "      <td>272</td>\n",
       "    </tr>\n",
       "    <tr>\n",
       "      <th>2020-07-15 09:00:00</th>\n",
       "      <td>4.30</td>\n",
       "      <td>290</td>\n",
       "    </tr>\n",
       "    <tr>\n",
       "      <th>2020-07-15 12:00:00</th>\n",
       "      <td>5.85</td>\n",
       "      <td>300</td>\n",
       "    </tr>\n",
       "    <tr>\n",
       "      <th>2020-07-15 15:00:00</th>\n",
       "      <td>5.17</td>\n",
       "      <td>308</td>\n",
       "    </tr>\n",
       "    <tr>\n",
       "      <th>2020-07-15 18:00:00</th>\n",
       "      <td>4.32</td>\n",
       "      <td>321</td>\n",
       "    </tr>\n",
       "    <tr>\n",
       "      <th>2020-07-15 21:00:00</th>\n",
       "      <td>3.52</td>\n",
       "      <td>305</td>\n",
       "    </tr>\n",
       "    <tr>\n",
       "      <th>2020-07-16 00:00:00</th>\n",
       "      <td>3.29</td>\n",
       "      <td>279</td>\n",
       "    </tr>\n",
       "    <tr>\n",
       "      <th>2020-07-16 03:00:00</th>\n",
       "      <td>3.60</td>\n",
       "      <td>270</td>\n",
       "    </tr>\n",
       "    <tr>\n",
       "      <th>2020-07-16 06:00:00</th>\n",
       "      <td>3.13</td>\n",
       "      <td>282</td>\n",
       "    </tr>\n",
       "    <tr>\n",
       "      <th>2020-07-16 09:00:00</th>\n",
       "      <td>4.62</td>\n",
       "      <td>298</td>\n",
       "    </tr>\n",
       "    <tr>\n",
       "      <th>2020-07-16 12:00:00</th>\n",
       "      <td>6.32</td>\n",
       "      <td>304</td>\n",
       "    </tr>\n",
       "    <tr>\n",
       "      <th>2020-07-16 15:00:00</th>\n",
       "      <td>7.08</td>\n",
       "      <td>319</td>\n",
       "    </tr>\n",
       "    <tr>\n",
       "      <th>2020-07-16 18:00:00</th>\n",
       "      <td>5.13</td>\n",
       "      <td>331</td>\n",
       "    </tr>\n",
       "    <tr>\n",
       "      <th>2020-07-16 21:00:00</th>\n",
       "      <td>3.25</td>\n",
       "      <td>340</td>\n",
       "    </tr>\n",
       "    <tr>\n",
       "      <th>2020-07-19 00:00:00</th>\n",
       "      <td>3.24</td>\n",
       "      <td>316</td>\n",
       "    </tr>\n",
       "    <tr>\n",
       "      <th>2020-07-19 06:00:00</th>\n",
       "      <td>2.22</td>\n",
       "      <td>302</td>\n",
       "    </tr>\n",
       "    <tr>\n",
       "      <th>2020-07-19 09:00:00</th>\n",
       "      <td>2.21</td>\n",
       "      <td>308</td>\n",
       "    </tr>\n",
       "  </tbody>\n",
       "</table>\n",
       "</div>"
      ],
      "text/plain": [
       "                     Speed(m/s)  Direction (deg N)\n",
       "Datetime                                          \n",
       "2020-07-15 00:00:00        1.68                294\n",
       "2020-07-15 03:00:00        3.30                285\n",
       "2020-07-15 06:00:00        3.25                272\n",
       "2020-07-15 09:00:00        4.30                290\n",
       "2020-07-15 12:00:00        5.85                300\n",
       "2020-07-15 15:00:00        5.17                308\n",
       "2020-07-15 18:00:00        4.32                321\n",
       "2020-07-15 21:00:00        3.52                305\n",
       "2020-07-16 00:00:00        3.29                279\n",
       "2020-07-16 03:00:00        3.60                270\n",
       "2020-07-16 06:00:00        3.13                282\n",
       "2020-07-16 09:00:00        4.62                298\n",
       "2020-07-16 12:00:00        6.32                304\n",
       "2020-07-16 15:00:00        7.08                319\n",
       "2020-07-16 18:00:00        5.13                331\n",
       "2020-07-16 21:00:00        3.25                340\n",
       "2020-07-19 00:00:00        3.24                316\n",
       "2020-07-19 06:00:00        2.22                302\n",
       "2020-07-19 09:00:00        2.21                308"
      ]
     },
     "execution_count": 21,
     "metadata": {},
     "output_type": "execute_result"
    }
   ],
   "source": [
    "data_path = os.path.relpath('datasets/model2/')\n",
    "file_name = datautils.locations[0]+'-b.csv'\n",
    "\n",
    "print(f'Loading\\n{os.path.join(data_path,file_name)}')\n",
    "df = datautils.read_forecast(os.path.join(data_path,file_name))\n",
    "\n",
    "# df[df.index>=pd.to_datetime('10 Jul 2020')]\n",
    "df"
   ]
  },
  {
   "cell_type": "markdown",
   "metadata": {},
   "source": [
    "- Joining multiple forecasts"
   ]
  },
  {
   "cell_type": "code",
   "execution_count": 22,
   "metadata": {},
   "outputs": [],
   "source": [
    "name_k = 0\n",
    "dfs = []\n",
    "models = ['model1','model2']\n",
    "for farm in datautils.locations:\n",
    "    for m in models:\n",
    "        file_end = '.csv' if m==models[0] else '-b.csv'\n",
    "        m_name = '_m1_' if m==models[0] else '_m2_'\n",
    "        df = datautils.read_forecast( os.path.join( './datasets/', m, farm + file_end))\n",
    "        df.rename(columns={'Speed(m/s)':farm+m_name+'speed','Direction (deg N)':farm+m_name+'dir'},\n",
    "                  inplace=True)\n",
    "        dfs.append(df)\n",
    "# concatenate along axis 1 using datetime as reference\n",
    "dfs = pd.concat(dfs,axis=1)\n",
    "\n",
    "# method 1: use nearest neighbour (+ reindex for 1H freq)\n",
    "# reindex part is not needed when joining with RTE power data with freq=1H\n",
    "dfs = dfs.reindex(pd.date_range(dfs.index[0],dfs.index[-1],freq='H')).interpolate(method='nearest')\n",
    "\n",
    "# method 2: use linear interpolation (for 1H freq)\n",
    "# dfs = dfs.reindex(pd.date_range(dfs.index[0],dfs.index[-1],freq='H')).interpolate(method='linear')\n",
    "\n",
    "# method 1b and 2b: use the methods above to get 1H freq, and then average for two models:\n",
    "# (\"speed1\"*[cos(dir1), sin(dir1)] + \"speed2\"*[cos(dir2), sin(dir2)] )/2\n",
    "# averaging vectors: need to use vector addition and then divide by 2."
   ]
  },
  {
   "cell_type": "code",
   "execution_count": 24,
   "metadata": {},
   "outputs": [
    {
     "data": {
      "text/html": [
       "<div>\n",
       "<style scoped>\n",
       "    .dataframe tbody tr th:only-of-type {\n",
       "        vertical-align: middle;\n",
       "    }\n",
       "\n",
       "    .dataframe tbody tr th {\n",
       "        vertical-align: top;\n",
       "    }\n",
       "\n",
       "    .dataframe thead th {\n",
       "        text-align: right;\n",
       "    }\n",
       "</style>\n",
       "<table border=\"1\" class=\"dataframe\">\n",
       "  <thead>\n",
       "    <tr style=\"text-align: right;\">\n",
       "      <th></th>\n",
       "      <th>guitrancourt_m1_speed</th>\n",
       "      <th>guitrancourt_m1_dir</th>\n",
       "      <th>guitrancourt_m2_speed</th>\n",
       "      <th>guitrancourt_m2_dir</th>\n",
       "      <th>lieusaint_m1_speed</th>\n",
       "      <th>lieusaint_m1_dir</th>\n",
       "      <th>lieusaint_m2_speed</th>\n",
       "      <th>lieusaint_m2_dir</th>\n",
       "      <th>lvs-pussay_m1_speed</th>\n",
       "      <th>lvs-pussay_m1_dir</th>\n",
       "      <th>...</th>\n",
       "      <th>boissy-la-riviere_m2_speed</th>\n",
       "      <th>boissy-la-riviere_m2_dir</th>\n",
       "      <th>angerville-1_m1_speed</th>\n",
       "      <th>angerville-1_m1_dir</th>\n",
       "      <th>angerville-1_m2_speed</th>\n",
       "      <th>angerville-1_m2_dir</th>\n",
       "      <th>angerville-2_m1_speed</th>\n",
       "      <th>angerville-2_m1_dir</th>\n",
       "      <th>angerville-2_m2_speed</th>\n",
       "      <th>angerville-2_m2_dir</th>\n",
       "    </tr>\n",
       "  </thead>\n",
       "  <tbody>\n",
       "    <tr>\n",
       "      <th>2020-07-15 00:00:00</th>\n",
       "      <td>1.56</td>\n",
       "      <td>320.0</td>\n",
       "      <td>1.68</td>\n",
       "      <td>294.0</td>\n",
       "      <td>1.31</td>\n",
       "      <td>14.0</td>\n",
       "      <td>1.93</td>\n",
       "      <td>356.0</td>\n",
       "      <td>2.85</td>\n",
       "      <td>333.0</td>\n",
       "      <td>...</td>\n",
       "      <td>2.26</td>\n",
       "      <td>354.0</td>\n",
       "      <td>2.72</td>\n",
       "      <td>334.0</td>\n",
       "      <td>2.37</td>\n",
       "      <td>355.0</td>\n",
       "      <td>2.72</td>\n",
       "      <td>334.0</td>\n",
       "      <td>2.37</td>\n",
       "      <td>355.0</td>\n",
       "    </tr>\n",
       "    <tr>\n",
       "      <th>2020-07-15 01:00:00</th>\n",
       "      <td>1.56</td>\n",
       "      <td>320.0</td>\n",
       "      <td>1.68</td>\n",
       "      <td>294.0</td>\n",
       "      <td>1.31</td>\n",
       "      <td>14.0</td>\n",
       "      <td>1.93</td>\n",
       "      <td>356.0</td>\n",
       "      <td>2.85</td>\n",
       "      <td>333.0</td>\n",
       "      <td>...</td>\n",
       "      <td>2.26</td>\n",
       "      <td>354.0</td>\n",
       "      <td>2.72</td>\n",
       "      <td>334.0</td>\n",
       "      <td>2.37</td>\n",
       "      <td>355.0</td>\n",
       "      <td>2.72</td>\n",
       "      <td>334.0</td>\n",
       "      <td>2.37</td>\n",
       "      <td>355.0</td>\n",
       "    </tr>\n",
       "    <tr>\n",
       "      <th>2020-07-15 02:00:00</th>\n",
       "      <td>1.82</td>\n",
       "      <td>297.0</td>\n",
       "      <td>3.30</td>\n",
       "      <td>285.0</td>\n",
       "      <td>0.78</td>\n",
       "      <td>345.0</td>\n",
       "      <td>2.34</td>\n",
       "      <td>315.0</td>\n",
       "      <td>2.80</td>\n",
       "      <td>326.0</td>\n",
       "      <td>...</td>\n",
       "      <td>2.65</td>\n",
       "      <td>324.0</td>\n",
       "      <td>2.64</td>\n",
       "      <td>327.0</td>\n",
       "      <td>2.68</td>\n",
       "      <td>326.0</td>\n",
       "      <td>2.63</td>\n",
       "      <td>327.0</td>\n",
       "      <td>2.68</td>\n",
       "      <td>326.0</td>\n",
       "    </tr>\n",
       "    <tr>\n",
       "      <th>2020-07-15 03:00:00</th>\n",
       "      <td>1.82</td>\n",
       "      <td>297.0</td>\n",
       "      <td>3.30</td>\n",
       "      <td>285.0</td>\n",
       "      <td>0.78</td>\n",
       "      <td>345.0</td>\n",
       "      <td>2.34</td>\n",
       "      <td>315.0</td>\n",
       "      <td>2.80</td>\n",
       "      <td>326.0</td>\n",
       "      <td>...</td>\n",
       "      <td>2.65</td>\n",
       "      <td>324.0</td>\n",
       "      <td>2.64</td>\n",
       "      <td>327.0</td>\n",
       "      <td>2.68</td>\n",
       "      <td>326.0</td>\n",
       "      <td>2.63</td>\n",
       "      <td>327.0</td>\n",
       "      <td>2.68</td>\n",
       "      <td>326.0</td>\n",
       "    </tr>\n",
       "    <tr>\n",
       "      <th>2020-07-15 04:00:00</th>\n",
       "      <td>1.82</td>\n",
       "      <td>297.0</td>\n",
       "      <td>3.30</td>\n",
       "      <td>285.0</td>\n",
       "      <td>0.78</td>\n",
       "      <td>345.0</td>\n",
       "      <td>2.34</td>\n",
       "      <td>315.0</td>\n",
       "      <td>2.80</td>\n",
       "      <td>326.0</td>\n",
       "      <td>...</td>\n",
       "      <td>2.65</td>\n",
       "      <td>324.0</td>\n",
       "      <td>2.64</td>\n",
       "      <td>327.0</td>\n",
       "      <td>2.68</td>\n",
       "      <td>326.0</td>\n",
       "      <td>2.63</td>\n",
       "      <td>327.0</td>\n",
       "      <td>2.68</td>\n",
       "      <td>326.0</td>\n",
       "    </tr>\n",
       "  </tbody>\n",
       "</table>\n",
       "<p>5 rows × 32 columns</p>\n",
       "</div>"
      ],
      "text/plain": [
       "                     guitrancourt_m1_speed  guitrancourt_m1_dir  \\\n",
       "2020-07-15 00:00:00                   1.56                320.0   \n",
       "2020-07-15 01:00:00                   1.56                320.0   \n",
       "2020-07-15 02:00:00                   1.82                297.0   \n",
       "2020-07-15 03:00:00                   1.82                297.0   \n",
       "2020-07-15 04:00:00                   1.82                297.0   \n",
       "\n",
       "                     guitrancourt_m2_speed  guitrancourt_m2_dir  \\\n",
       "2020-07-15 00:00:00                   1.68                294.0   \n",
       "2020-07-15 01:00:00                   1.68                294.0   \n",
       "2020-07-15 02:00:00                   3.30                285.0   \n",
       "2020-07-15 03:00:00                   3.30                285.0   \n",
       "2020-07-15 04:00:00                   3.30                285.0   \n",
       "\n",
       "                     lieusaint_m1_speed  lieusaint_m1_dir  lieusaint_m2_speed  \\\n",
       "2020-07-15 00:00:00                1.31              14.0                1.93   \n",
       "2020-07-15 01:00:00                1.31              14.0                1.93   \n",
       "2020-07-15 02:00:00                0.78             345.0                2.34   \n",
       "2020-07-15 03:00:00                0.78             345.0                2.34   \n",
       "2020-07-15 04:00:00                0.78             345.0                2.34   \n",
       "\n",
       "                     lieusaint_m2_dir  lvs-pussay_m1_speed  lvs-pussay_m1_dir  \\\n",
       "2020-07-15 00:00:00             356.0                 2.85              333.0   \n",
       "2020-07-15 01:00:00             356.0                 2.85              333.0   \n",
       "2020-07-15 02:00:00             315.0                 2.80              326.0   \n",
       "2020-07-15 03:00:00             315.0                 2.80              326.0   \n",
       "2020-07-15 04:00:00             315.0                 2.80              326.0   \n",
       "\n",
       "                     ...  boissy-la-riviere_m2_speed  \\\n",
       "2020-07-15 00:00:00  ...                        2.26   \n",
       "2020-07-15 01:00:00  ...                        2.26   \n",
       "2020-07-15 02:00:00  ...                        2.65   \n",
       "2020-07-15 03:00:00  ...                        2.65   \n",
       "2020-07-15 04:00:00  ...                        2.65   \n",
       "\n",
       "                     boissy-la-riviere_m2_dir  angerville-1_m1_speed  \\\n",
       "2020-07-15 00:00:00                     354.0                   2.72   \n",
       "2020-07-15 01:00:00                     354.0                   2.72   \n",
       "2020-07-15 02:00:00                     324.0                   2.64   \n",
       "2020-07-15 03:00:00                     324.0                   2.64   \n",
       "2020-07-15 04:00:00                     324.0                   2.64   \n",
       "\n",
       "                     angerville-1_m1_dir  angerville-1_m2_speed  \\\n",
       "2020-07-15 00:00:00                334.0                   2.37   \n",
       "2020-07-15 01:00:00                334.0                   2.37   \n",
       "2020-07-15 02:00:00                327.0                   2.68   \n",
       "2020-07-15 03:00:00                327.0                   2.68   \n",
       "2020-07-15 04:00:00                327.0                   2.68   \n",
       "\n",
       "                     angerville-1_m2_dir  angerville-2_m1_speed  \\\n",
       "2020-07-15 00:00:00                355.0                   2.72   \n",
       "2020-07-15 01:00:00                355.0                   2.72   \n",
       "2020-07-15 02:00:00                326.0                   2.63   \n",
       "2020-07-15 03:00:00                326.0                   2.63   \n",
       "2020-07-15 04:00:00                326.0                   2.63   \n",
       "\n",
       "                     angerville-2_m1_dir  angerville-2_m2_speed  \\\n",
       "2020-07-15 00:00:00                334.0                   2.37   \n",
       "2020-07-15 01:00:00                334.0                   2.37   \n",
       "2020-07-15 02:00:00                327.0                   2.68   \n",
       "2020-07-15 03:00:00                327.0                   2.68   \n",
       "2020-07-15 04:00:00                327.0                   2.68   \n",
       "\n",
       "                     angerville-2_m2_dir  \n",
       "2020-07-15 00:00:00                355.0  \n",
       "2020-07-15 01:00:00                355.0  \n",
       "2020-07-15 02:00:00                326.0  \n",
       "2020-07-15 03:00:00                326.0  \n",
       "2020-07-15 04:00:00                326.0  \n",
       "\n",
       "[5 rows x 32 columns]"
      ]
     },
     "execution_count": 24,
     "metadata": {},
     "output_type": "execute_result"
    }
   ],
   "source": [
    "dfs.head()"
   ]
  },
  {
   "cell_type": "markdown",
   "metadata": {},
   "source": [
    "## Trader"
   ]
  },
  {
   "cell_type": "code",
   "execution_count": 25,
   "metadata": {},
   "outputs": [],
   "source": [
    "import pandas as pd\n",
    "import numpy as np\n",
    "from matplotlib import pyplot as plt"
   ]
  },
  {
   "cell_type": "markdown",
   "metadata": {},
   "source": [
    "Uncomment below for **for 1/1/2020- now** wind energy:"
   ]
  },
  {
   "cell_type": "code",
   "execution_count": 76,
   "metadata": {},
   "outputs": [
    {
     "name": "stdout",
     "output_type": "stream",
     "text": [
      "UTC time now: 2020-07-15 09:53:36\n",
      "\n",
      "Downloaded from:\n",
      "`https://ai4impact.org/P003/historical/energy-ile-de-france.csv`\n",
      "saved to:\n",
      "datasets/energy-ile-de-france.csv\n",
      "                     Energy(kWh)\n",
      "Datetime                        \n",
      "2020-07-15 04:00:00      10000.0\n",
      "2020-07-15 05:00:00       9500.0\n",
      "2020-07-15 06:00:00      12250.0\n",
      "2020-07-15 07:00:00      10750.0\n",
      "2020-07-15 08:00:00       8000.0\n"
     ]
    },
    {
     "data": {
      "image/png": "[encoded data removed]",
      "text/plain": [
       "<Figure size 432x288 with 1 Axes>"
      ]
     },
     "metadata": {
      "needs_background": "light"
     },
     "output_type": "display_data"
    },
    {
     "data": {
      "image/png": "[encoded data removed]",
      "text/plain": [
       "<Figure size 432x288 with 1 Axes>"
      ]
     },
     "metadata": {
      "needs_background": "light"
     },
     "output_type": "display_data"
    }
   ],
   "source": [
    "t = datetime.datetime.utcnow()\n",
    "print('UTC time now: {}-{:02d}-{:02d} {:02d}:{:02d}:{:02d}\\n'.format(t.year,t.month,t.day, t.hour,t.minute,t.second))\n",
    "datautils.download_energy_latest() # updates readings\n",
    "df = datautils.read_ai4impact_energy('datasets/energy-ile-de-france.csv')\n",
    "\n",
    "# Select 2020 data\n",
    "df = df[df.index>pd.to_datetime('31/12/2019')]\n",
    "\n",
    "print(df.tail())\n",
    "df.plot()\n",
    "plt.show()\n",
    "\n",
    "plt.hist(df.values)\n",
    "x= df.values\n",
    "plt.title(f'Mean:{x.mean():.2f}kWh; std:{x.std():.2f}; max:{x.max()}; min:{x.min()}; median:{np.median(x)}');\n",
    "plt.show()"
   ]
  },
  {
   "cell_type": "markdown",
   "metadata": {},
   "source": [
    "Uncomment below for **for 1/6/2020- now** wind energy:"
   ]
  },
  {
   "cell_type": "code",
   "execution_count": 28,
   "metadata": {},
   "outputs": [
    {
     "name": "stdout",
     "output_type": "stream",
     "text": [
      "Downloading\n",
      "\"eCO2mix_RTE_Ile-de-France_En-cours-TR.zip\" from\n",
      "`https://eco2mix.rte-france.com/download/eco2mix/eCO2mix_RTE_Ile-de-France_En-cours-TR.zip`\n",
      "\n",
      "Extracting: datasets/eCO2mix_RTE_Ile-de-France_En-cours-TR.zip\n",
      "eCO2mix_RTE_Ile-de-France_En-cours-TR.xls --> as \"datasets/eCO2mix_RTE_Ile-de-France_En-cours-TR.xls\"\n",
      "- - - - - \n",
      "File Name                                             Modified             Size\n",
      "eCO2mix_RTE_Ile-de-France_En-cours-TR.xls      2020-07-15 10:31:20       982113\n",
      "- - - - - \n",
      "Deleting\n",
      "datasets/eCO2mix_RTE_Ile-de-France_En-cours-TR.zip\n",
      "\n",
      "UTC time now: 2020-07-15 09:25:48\n",
      "\n",
      "Latest timestamp for wind energy:\n",
      "2020-07-15 08:00:00\n",
      "                     Energy(kWh)\n",
      "Datetime                        \n",
      "2020-07-15 04:00:00      10000.0\n",
      "2020-07-15 05:00:00       9500.0\n",
      "2020-07-15 06:00:00      12250.0\n",
      "2020-07-15 07:00:00      10750.0\n",
      "2020-07-15 08:00:00       8000.0\n"
     ]
    },
    {
     "data": {
      "image/png": "[encoded data removed]",
      "text/plain": [
       "<Figure size 432x288 with 1 Axes>"
      ]
     },
     "metadata": {
      "needs_background": "light"
     },
     "output_type": "display_data"
    }
   ],
   "source": [
    "RTE_data_name = 'real_time'\n",
    "RTE_file_path = datautils.download_raw_from_RTE(RTE_data_name,return_filelist=True)\n",
    "\n",
    "# RTE_file_names = {\"2017\":\"eCO2mix_RTE_Ile-de-France_Annuel-Definitif_2017.xls\",\n",
    "#               \"2018\":\"eCO2mix_RTE_Ile-de-France_Annuel-Definitif_2018.xls\",\n",
    "#               \"2019_May2020\":\"eCO2mix_RTE_Ile-de-France_En-cours-Consolide_FIXED_ERRCOLS.xls\",\n",
    "#               \"real_time\":\"eCO2mix_RTE_Ile-de-France_En-cours-TR.xls\"}\n",
    "# file location: os.path.join(data_path,RTE_file_name0)\n",
    "\n",
    "\n",
    "df=datautils.read_RTE_as_kwh(RTE_file_path[0],convert2UTC=True)\n",
    "t = datetime.datetime.utcnow()\n",
    "print('UTC time now: {}-{:02d}-{:02d} {:02d}:{:02d}:{:02d}\\n'.format(t.year,t.month,t.day, t.hour,t.minute,t.second))\n",
    "print(f'Latest timestamp for wind energy:\\n{df.index[-1]}')\n",
    "print(df.tail())\n",
    "df.plot()\n",
    "plt.show()"
   ]
  },
  {
   "cell_type": "code",
   "execution_count": 78,
   "metadata": {},
   "outputs": [],
   "source": [
    "from trader import trader_simulation\n",
    "# These are defaults for  trader.trader_simulation()\n",
    "INITIAL_CASH = 10000000 # euro cents, starting capital\n",
    "SALE_PRICE = 10 # euro cents/kWh\n",
    "SPOT_PRICE = 20 # euro cents/kWh\n",
    "PENALTY_PRICE = 100 # euro cents/kWh"
   ]
  },
  {
   "cell_type": "code",
   "execution_count": 79,
   "metadata": {},
   "outputs": [
    {
     "name": "stdout",
     "output_type": "stream",
     "text": [
      "Trading hours (total):4736, [start:2019-12-31 01:00:00 ---> end:2020-07-15 08:00:00]\n",
      "dT (frequency):0 days 01:00:00\n"
     ]
    }
   ],
   "source": [
    "trading_hours = df.index\n",
    "print(f'Trading hours (total):{len(trading_hours)}, [start:{str(trading_hours[0])} ---> end:{str(trading_hours[-1])}]')\n",
    "print(f'dT (frequency):{str(trading_hours[1]-trading_hours[0])}')"
   ]
  },
  {
   "cell_type": "markdown",
   "metadata": {},
   "source": [
    "**Maximum profit possible** :defined as perfect prediction"
   ]
  },
  {
   "cell_type": "code",
   "execution_count": 88,
   "metadata": {},
   "outputs": [
    {
     "name": "stdout",
     "output_type": "stream",
     "text": [
      "Perfect trading Ytarget==Yprediction (error=0):1465986.250k\n"
     ]
    }
   ],
   "source": [
    "Y_targ = df['Energy(kWh)'][np.logical_not(df['Energy(kWh)'].isna())].values\n",
    "trading_hours = df[np.logical_not(df['Energy(kWh)'].isna())].index\n",
    "print(f'Perfect trading Ytarget==Yprediction (error=0):{trader_simulation(trading_hours,Y_targ,Y_targ)/1000:.3f}k')"
   ]
  },
  {
   "cell_type": "markdown",
   "metadata": {},
   "source": [
    "Random trader, using Exponential distribution"
   ]
  },
  {
   "cell_type": "code",
   "execution_count": 82,
   "metadata": {},
   "outputs": [
    {
     "data": {
      "image/png": "[encoded data removed]",
      "text/plain": [
       "<Figure size 432x288 with 1 Axes>"
      ]
     },
     "metadata": {
      "needs_background": "light"
     },
     "output_type": "display_data"
    }
   ],
   "source": [
    "# real values\n",
    "Y_targ = df['Energy(kWh)'][np.logical_not(df['Energy(kWh)'].isna())].values\n",
    "trading_hours = df[np.logical_not(df['Energy(kWh)'].isna())].index\n",
    "\n",
    "profits = []\n",
    "for k in range(100):\n",
    "    # here I set a limit 50000 to our random prediction\n",
    "    Y_pred = np.minimum(17000,np.random.exponential(\n",
    "        scale=5000,size=(len(trading_hours),))) # random predictions in kWh scale [0...80000]\n",
    "    profits.append(trader_simulation(trading_hours,Y_pred,Y_targ))\n",
    "plt.hist(profits,bins=30)\n",
    "plt.xlabel('Profits in euro cents')\n",
    "plt.title(f' Avr. Profits: {(np.mean(profits))/1000:.2f}k; min profit:{(np.min(profits))/1000:.2f}k');"
   ]
  },
  {
   "cell_type": "markdown",
   "metadata": {},
   "source": [
    "Random Uniform Distribution Trader:"
   ]
  },
  {
   "cell_type": "code",
   "execution_count": 83,
   "metadata": {},
   "outputs": [
    {
     "data": {
      "image/png": "[encoded data removed]",
      "text/plain": [
       "<Figure size 432x288 with 1 Axes>"
      ]
     },
     "metadata": {
      "needs_background": "light"
     },
     "output_type": "display_data"
    }
   ],
   "source": [
    "# real values\n",
    "Y_targ = df['Energy(kWh)'][np.logical_not(df['Energy(kWh)'].isna())].values\n",
    "trading_hours = df[np.logical_not(df['Energy(kWh)'].isna())].index\n",
    "\n",
    "profits = []\n",
    "for k in range(100):\n",
    "    # here I set a limit 50000 to our random prediction\n",
    "    Y_pred = 12000*np.random.rand(len(trading_hours)) # random predictions in kWh scale [0...80000]\n",
    "    profits.append(trader_simulation(trading_hours,Y_pred,Y_targ))\n",
    "plt.hist(profits,bins=30)\n",
    "plt.xlabel('Profits in euro cents')\n",
    "plt.title(f' Avr. Profits: {(np.mean(profits))/1000:.2f}k; min profit:{(np.min(profits))/1000:.2f}k');"
   ]
  },
  {
   "cell_type": "markdown",
   "metadata": {},
   "source": [
    "Constant trader, predictions are constant"
   ]
  },
  {
   "cell_type": "code",
   "execution_count": 96,
   "metadata": {},
   "outputs": [
    {
     "data": {
      "image/png": "[encoded data removed]",
      "text/plain": [
       "<Figure size 432x288 with 1 Axes>"
      ]
     },
     "metadata": {
      "needs_background": "light"
     },
     "output_type": "display_data"
    }
   ],
   "source": [
    "# real values\n",
    "Y_targ = df['Energy(kWh)'][np.logical_not(df['Energy(kWh)'].isna())].values\n",
    "trading_hours = df[np.logical_not(df['Energy(kWh)'].isna())].index\n",
    "\n",
    "Y_preds = np.arange(1000,16500,500)\n",
    "profits = np.zeros_like(Y_preds)\n",
    "\n",
    "for k,y_const in enumerate(Y_preds):\n",
    "    # here I set a limit 50000 to our random prediction\n",
    "    Y_pred =y_const*np.ones_like(Y_targ) # constant in kWh scale [0...80000]\n",
    "    profits[k]=trader_simulation(trading_hours,Y_pred,Y_targ) # set debug=True to see hourly records\n",
    "#     print(f'y={y_const} Profits: {(np.mean(profits[k]))/1000:.0f}k cents;')\n",
    "\n",
    "plt.plot(Y_preds,profits,label=f'profits, max at:{Y_preds[np.argmax(profits)]} |->{np.max(profits)/1000:.1f}k cents')\n",
    "plt.legend()\n",
    "plt.xlabel('Constnant Y forecast');"
   ]
  },
  {
   "cell_type": "markdown",
   "metadata": {},
   "source": [
    "## Notes on Deployment"
   ]
  },
  {
   "cell_type": "code",
   "execution_count": null,
   "metadata": {},
   "outputs": [],
   "source": [
    "# round to minutes/hours/ etc.:\n",
    "# pd.to_datetime('now').round('min')\n",
    "# extract current hour/minute/second/:\n",
    "# pd.to_datetime('now').second\n",
    "# ---\n",
    "# PAUSE EXAMPLE:\n",
    "# Do sth everyday at 2AM:\n",
    "# import time\n",
    "# import datetime\n",
    "\n",
    "# # if for some reason this script is still running\n",
    "# # after a year, we'll stop after 365 days\n",
    "# for i in xrange(0,365):\n",
    "#     # sleep until 2AM\n",
    "#     t = datetime.datetime.today()\n",
    "#     future = datetime.datetime(t.year,t.month,t.day,2,0)\n",
    "#     if t.hour >= 2:\n",
    "#         future += datetime.timedelta(days=1)\n",
    "#     time.sleep((future-t).seconds) # or use total_seconds() if the duration is longer than one day\n",
    "\n",
    "#     # do 2AM stuff\n",
    "\n",
    "# CURRENT TIME:\n",
    "# import time\n",
    "# import datetime\n",
    "# t = datetime.datetime.today()\n",
    "# print('Current time:\\n{}/{}/{} {}:{}:{}'.format(t.day,t.month,t.year, t.hour,t.minute,t.second))\n",
    "# t = datetime.datetime.utcnow()\n",
    "# print('UTC time:\\n{}/{}/{} {}:{}:{}'.format(t.day,t.month,t.year, t.hour,t.minute,t.second))"
   ]
  }
 ],
 "metadata": {
  "kernelspec": {
   "display_name": "Python 3",
   "language": "python",
   "name": "python3"
  },
  "language_info": {
   "codemirror_mode": {
    "name": "ipython",
    "version": 3
   },
   "file_extension": ".py",
   "mimetype": "text/x-python",
   "name": "python",
   "nbconvert_exporter": "python",
   "pygments_lexer": "ipython3",
   "version": "3.7.4"
  }
 },
 "nbformat": 4,
 "nbformat_minor": 4
}
