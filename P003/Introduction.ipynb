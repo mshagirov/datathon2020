{
 "cells": [
  {
   "cell_type": "markdown",
   "metadata": {},
   "source": [
    "# Wind Energy Production Forecasting"
   ]
  },
  {
   "cell_type": "markdown",
   "metadata": {},
   "source": [
    "- Wind energy production/amount is a function of _wind speed_ and its _direction_.\n",
    " - forecast amount will sold to the grid operator\n",
    " - the grid operator fines if there's shortfall from forecast\n",
    " - excess is wasted\n",
    "- Grid operator **(buys , 10 euro cents/kWh)**, enforces fines if there's a shortfall by the energy producer\n",
    "- Spot market price for energy **(sells, 20 euro cents)**\n",
    "\n",
    "__Objective__\n",
    "- Our goal is to get a _T+18 hour energy forecast_ , _every hour_ . Our objective, as a trader, is to maximize profits for our client using our energy production forecast and the given trading algorithm (this alg-m is fixed for simplicity).\n"
   ]
  },
  {
   "cell_type": "markdown",
   "metadata": {},
   "source": [
    "## Trade:\n",
    "1. Produce a forecast\n",
    "    - Excess is wasted (i.e. 0cents/kWh)\n",
    "    - Shortfall is covered by trader (we need to buy this amount from spot market, _if we have cash in hand_ ):\n",
    "        - buy 20cents/kWh\n",
    "    - If there's no money to buy:\n",
    "        - If _cash in hand_ is lower than required to purchase the shortfall amount\n",
    "        - We are fined by grid 100cents/kWh\n",
    "        - Recorded as a negative value (debt), and it's cumulative.\n",
    "1. Starting budget 10,000,000 cents\n",
    "1. Need to return 10,000,000 cents at the end of the evaluation period.\n",
    "1. The remainder is our client's profits. Our objective is to maximise this profit."
   ]
  },
  {
   "cell_type": "markdown",
   "metadata": {},
   "source": [
    "## Datasets and Sources\n",
    "Datasets:\n",
    "1. Wind Energy Production \\[src : Réseau de transport d'électricité [(RTE)](https://www.rte-france.com/), the French electricity transmission system operator\\]\n",
    "    - **We average and standardise to a time base of 1 hour** a near-realtime wind energy data from RTE's online database.\n",
    "    - The dataset is called `energy-ile-de-france` (contains the consolidated energy wind production for the Ile-de-France region surrounding Paris)\n",
    "2. Wind Forecasts \\[src : [Terra Weather](http://www.terra-weather.com)\\]\n",
    "    - Provided are _wind forecasts for 8 locations_ of major wind farms in the Ile-de-France region.\n",
    "\n"
   ]
  },
  {
   "cell_type": "markdown",
   "metadata": {},
   "source": [
    "### Wind Energy Production Data\n",
    "- The provided data is __from 01 Jan 2017 to the present__.\n",
    "- [`https://www.rte-france.com/en/eco2mix/eco2mix-telechargement-en`](https://www.rte-france.com/en/eco2mix/eco2mix-telechargement-en)\n",
    "- The energy production values are in __MWh__ units (we need to convert them to kWh before trading!).\n",
    "- The dataset is called `energy-ile-de-france`, and contains _standardised 1 hourly values_."
   ]
  },
  {
   "cell_type": "markdown",
   "metadata": {},
   "source": [
    "Following are for downloading regional energy production _raw data for Ile-de-France_ :\n",
    "- Downloading \"Current real-time data\" from RTE website (in ipython/notebook, in terminal remove \"`!`\" character):\n",
    "```\n",
    "!wget https://eco2mix.rte-france.com/download/eco2mix/eCO2mix_RTE_Ile-de-France_En-cours-TR.zip\n",
    "!unzip eCO2mix_RTE_Ile-de-France_En-cours-TR.zip\n",
    "```\n",
    "- Links for each year/period:\n",
    "    - **2017** (\"Definitive data for the year 2017\"):<br>\n",
    "    `https://eco2mix.rte-france.com/download/eco2mix/eCO2mix_RTE_Ile-de-France_Annuel-Definitif_2017.zip`\n",
    "    - **2018** (\"Definitive data for the year 2018\"):<br>\n",
    "    `https://eco2mix.rte-france.com/download/eco2mix/eCO2mix_RTE_Ile-de-France_Annuel-Definitif_2018.zip`\n",
    "    - **01/01/2019-31/05/2020** (\"Current consolidated data\"):<br>\n",
    "    `https://eco2mix.rte-france.com/download/eco2mix/eCO2mix_RTE_Ile-de-France_En-cours-Consolide.zip`\n",
    "    - **01/06/2020-09/07/2020** (\"Current real-time data\"):<br>\n",
    "    `https://eco2mix.rte-france.com/download/eco2mix/eCO2mix_RTE_Ile-de-France_En-cours-TR.zip`\n",
    "\n",
    "The \"Current consolidated data\" and \"Current real-time data\" could change which dates it contain depending on when you are downloading them.\n",
    "\n",
    "In the files above look for column \"Eolien\" (\"wind\" in French).\n",
    "\n",
    "---\n",
    "From RTE website:<br>\n",
    ">During the course of the following month, the indicators are consolidated to include available metering data. During the first six months of the following year, the indicators are finalized with the latest metering data and become definitive.\n",
    "\n",
    "---"
   ]
  },
  {
   "cell_type": "code",
   "execution_count": null,
   "metadata": {},
   "outputs": [],
   "source": [
    "import urllib.request, zipfile, os\n",
    "\n",
    "# for Ile-de-France\n",
    "# for 2019_May2020 data need to remove extra COLUMNS (each row has different #col-s)\n",
    "wind_energy_urls = {\"2017\":\"https://eco2mix.rte-france.com/download/eco2mix/eCO2mix_RTE_Ile-de-France_Annuel-Definitif_2017.zip\",\n",
    "                    \"2018\":\"https://eco2mix.rte-france.com/download/eco2mix/eCO2mix_RTE_Ile-de-France_Annuel-Definitif_2018.zip\",\n",
    "                    \"2019_May2020\":\"https://eco2mix.rte-france.com/download/eco2mix/eCO2mix_RTE_Ile-de-France_En-cours-Consolide.zip\",\n",
    "                    \"real_time\":\"https://eco2mix.rte-france.com/download/eco2mix/eCO2mix_RTE_Ile-de-France_En-cours-TR.zip\"}"
   ]
  },
  {
   "cell_type": "code",
   "execution_count": null,
   "metadata": {},
   "outputs": [
    {
     "name": "stdout",
     "output_type": "stream",
     "text": [
      "Downloading\n",
      "\"eCO2mix_RTE_Ile-de-France_En-cours-TR.zip\" from\n",
      "\"https://eco2mix.rte-france.com/download/eco2mix/eCO2mix_RTE_Ile-de-France_En-cours-TR.zip\"\n",
      "\n",
      "Extracting: datasets/eCO2mix_RTE_Ile-de-France_En-cours-TR.zip\n",
      "eCO2mix_RTE_Ile-de-France_En-cours-TR.xls --> as \"datasets/eCO2mix_RTE_Ile-de-France_En-cours-TR.xls\"\n",
      "- - - - - \n",
      "File Name                                             Modified             Size\n",
      "eCO2mix_RTE_Ile-de-France_En-cours-TR.xls      2020-07-10 15:31:30       875201\n",
      "- - - - - \n",
      "Deleting\n",
      "datasets/eCO2mix_RTE_Ile-de-France_En-cours-TR.zip\n"
     ]
    }
   ],
   "source": [
    "RTE_data_name = 'real_time'\n",
    "# Download and extract to ./datasets folder\n",
    "data_path =os.path.relpath('./datasets')\n",
    "\n",
    "# download the current data +/-15mins sometimes even later\n",
    "zip_file_name = wind_energy_urls[RTE_data_name].split('/')[-1]\n",
    "\n",
    "print(f'Downloading\\n\\\"{zip_file_name}\\\" from\\n\\\"{wind_energy_urls[RTE_data_name]}\\\"\\n')\n",
    "\n",
    "zip_file_name,_ = urllib.request.urlretrieve(wind_energy_urls[RTE_data_name],\n",
    "filename=os.path.join(data_path,zip_file_name))\n",
    "\n",
    "# unzip\n",
    "with zipfile.ZipFile(zip_file_name, 'r') as zip_ref:\n",
    "    print(f'Extracting: {zip_file_name}')\n",
    "    for fn in zip_ref.filelist:\n",
    "        print(f'{fn.filename} --> as \\\"{os.path.join(data_path,fn.filename)}\\\"')\n",
    "    # file modification date and time: zip_ref.filelist[0].date_time\n",
    "    print(5*'- ')\n",
    "    zip_ref.printdir()\n",
    "    zip_ref.extractall(data_path)\n",
    "\n",
    "if os.path.exists(zip_file_name):\n",
    "    print(+5*'- '+f'\\nDeleting\\n{zip_file_name}')\n",
    "    os.remove(zip_file_name)"
   ]
  },
  {
   "cell_type": "code",
   "execution_count": null,
   "metadata": {},
   "outputs": [
    {
     "name": "stdout",
     "output_type": "stream",
     "text": [
      "eCO2mix_RTE_Ile-de-France_Annuel-Definitif_2017.xls\r\n",
      "eCO2mix_RTE_Ile-de-France_Annuel-Definitif_2018.xls\r\n",
      "eCO2mix_RTE_Ile-de-France_En-cours-Consolide.xls\r\n",
      "eCO2mix_RTE_Ile-de-France_En-cours-TR.xls\r\n"
     ]
    }
   ],
   "source": [
    "ls ./datasets/"
   ]
  },
  {
   "cell_type": "code",
   "execution_count": null,
   "metadata": {},
   "outputs": [],
   "source": [
    "file_names = {\"2017\":\"eCO2mix_RTE_Ile-de-France_Annuel-Definitif_2017.xls\",\n",
    "              \"2018\":\"eCO2mix_RTE_Ile-de-France_Annuel-Definitif_2018.xls\",\n",
    "              \"2019_May2020\":\"eCO2mix_RTE_Ile-de-France_En-cours-Consolide_FIXED_ERRCOLS.xls\",\n",
    "              \"real_time\":\"eCO2mix_RTE_Ile-de-France_En-cours-TR.xls\"}"
   ]
  },
  {
   "cell_type": "code",
   "execution_count": null,
   "metadata": {},
   "outputs": [],
   "source": [
    "pd.to_datetime?"
   ]
  },
  {
   "cell_type": "code",
   "execution_count": null,
   "metadata": {},
   "outputs": [],
   "source": [
    "import pandas as pd, numpy as np\n",
    "\n",
    "RTE_data_name = '2019_May2020'\n",
    "\n",
    "df = pd.read_csv(os.path.join(data_path,file_names[RTE_data_name]),sep='\\t',\n",
    "                 header=0,encoding='latin',index_col=False,\n",
    "                 parse_dates=[['Date', 'Heures']],na_values=['-','ND',' ',''])\n",
    "# remove the footer\n",
    "df = df.iloc[:-1]\n",
    "# set index as Datetime\n",
    "df['Datetime'] = pd.to_datetime(df['Date_Heures'],dayfirst=True)\n",
    "df.set_index('Datetime',inplace=True)"
   ]
  },
  {
   "cell_type": "code",
   "execution_count": null,
   "metadata": {},
   "outputs": [
    {
     "data": {
      "text/html": [
       "<div>\n",
       "<style scoped>\n",
       "    .dataframe tbody tr th:only-of-type {\n",
       "        vertical-align: middle;\n",
       "    }\n",
       "\n",
       "    .dataframe tbody tr th {\n",
       "        vertical-align: top;\n",
       "    }\n",
       "\n",
       "    .dataframe thead th {\n",
       "        text-align: right;\n",
       "    }\n",
       "</style>\n",
       "<table border=\"1\" class=\"dataframe\">\n",
       "  <thead>\n",
       "    <tr style=\"text-align: right;\">\n",
       "      <th></th>\n",
       "      <th>Date_Heures</th>\n",
       "      <th>Périmètre</th>\n",
       "      <th>Nature</th>\n",
       "      <th>Consommation</th>\n",
       "      <th>Thermique</th>\n",
       "      <th>Nucléaire</th>\n",
       "      <th>Eolien</th>\n",
       "      <th>Solaire</th>\n",
       "      <th>Hydraulique</th>\n",
       "      <th>Pompage</th>\n",
       "      <th>Bioénergies</th>\n",
       "      <th>Ech. physiques</th>\n",
       "    </tr>\n",
       "    <tr>\n",
       "      <th>Datetime</th>\n",
       "      <th></th>\n",
       "      <th></th>\n",
       "      <th></th>\n",
       "      <th></th>\n",
       "      <th></th>\n",
       "      <th></th>\n",
       "      <th></th>\n",
       "      <th></th>\n",
       "      <th></th>\n",
       "      <th></th>\n",
       "      <th></th>\n",
       "      <th></th>\n",
       "    </tr>\n",
       "  </thead>\n",
       "  <tbody>\n",
       "    <tr>\n",
       "      <td>2019-01-01 00:00:00</td>\n",
       "      <td>1/1/19 00:00</td>\n",
       "      <td>Ile-de-France</td>\n",
       "      <td>Données consolidées</td>\n",
       "      <td>9013.0</td>\n",
       "      <td>419.0</td>\n",
       "      <td>NaN</td>\n",
       "      <td>1.0</td>\n",
       "      <td>0.0</td>\n",
       "      <td>9.0</td>\n",
       "      <td>NaN</td>\n",
       "      <td>150.0</td>\n",
       "      <td>8434.0</td>\n",
       "    </tr>\n",
       "    <tr>\n",
       "      <td>2019-01-01 00:15:00</td>\n",
       "      <td>1/1/19 00:15</td>\n",
       "      <td>Ile-de-France</td>\n",
       "      <td>Données consolidées</td>\n",
       "      <td>NaN</td>\n",
       "      <td>NaN</td>\n",
       "      <td>NaN</td>\n",
       "      <td>NaN</td>\n",
       "      <td>NaN</td>\n",
       "      <td>NaN</td>\n",
       "      <td>NaN</td>\n",
       "      <td>NaN</td>\n",
       "      <td>NaN</td>\n",
       "    </tr>\n",
       "    <tr>\n",
       "      <td>2019-01-01 00:30:00</td>\n",
       "      <td>1/1/19 00:30</td>\n",
       "      <td>Ile-de-France</td>\n",
       "      <td>Données consolidées</td>\n",
       "      <td>8870.0</td>\n",
       "      <td>427.0</td>\n",
       "      <td>NaN</td>\n",
       "      <td>1.0</td>\n",
       "      <td>0.0</td>\n",
       "      <td>9.0</td>\n",
       "      <td>NaN</td>\n",
       "      <td>151.0</td>\n",
       "      <td>8283.0</td>\n",
       "    </tr>\n",
       "    <tr>\n",
       "      <td>2019-01-01 00:45:00</td>\n",
       "      <td>1/1/19 00:45</td>\n",
       "      <td>Ile-de-France</td>\n",
       "      <td>Données consolidées</td>\n",
       "      <td>NaN</td>\n",
       "      <td>NaN</td>\n",
       "      <td>NaN</td>\n",
       "      <td>NaN</td>\n",
       "      <td>NaN</td>\n",
       "      <td>NaN</td>\n",
       "      <td>NaN</td>\n",
       "      <td>NaN</td>\n",
       "      <td>NaN</td>\n",
       "    </tr>\n",
       "    <tr>\n",
       "      <td>2019-01-01 01:00:00</td>\n",
       "      <td>1/1/19 01:00</td>\n",
       "      <td>Ile-de-France</td>\n",
       "      <td>Données consolidées</td>\n",
       "      <td>8502.0</td>\n",
       "      <td>427.0</td>\n",
       "      <td>NaN</td>\n",
       "      <td>1.0</td>\n",
       "      <td>0.0</td>\n",
       "      <td>9.0</td>\n",
       "      <td>NaN</td>\n",
       "      <td>149.0</td>\n",
       "      <td>7916.0</td>\n",
       "    </tr>\n",
       "  </tbody>\n",
       "</table>\n",
       "</div>"
      ],
      "text/plain": [
       "                      Date_Heures      Périmètre               Nature  \\\n",
       "Datetime                                                                \n",
       "2019-01-01 00:00:00  1/1/19 00:00  Ile-de-France  Données consolidées   \n",
       "2019-01-01 00:15:00  1/1/19 00:15  Ile-de-France  Données consolidées   \n",
       "2019-01-01 00:30:00  1/1/19 00:30  Ile-de-France  Données consolidées   \n",
       "2019-01-01 00:45:00  1/1/19 00:45  Ile-de-France  Données consolidées   \n",
       "2019-01-01 01:00:00  1/1/19 01:00  Ile-de-France  Données consolidées   \n",
       "\n",
       "                     Consommation  Thermique  Nucléaire  Eolien  Solaire  \\\n",
       "Datetime                                                                   \n",
       "2019-01-01 00:00:00        9013.0      419.0        NaN     1.0      0.0   \n",
       "2019-01-01 00:15:00           NaN        NaN        NaN     NaN      NaN   \n",
       "2019-01-01 00:30:00        8870.0      427.0        NaN     1.0      0.0   \n",
       "2019-01-01 00:45:00           NaN        NaN        NaN     NaN      NaN   \n",
       "2019-01-01 01:00:00        8502.0      427.0        NaN     1.0      0.0   \n",
       "\n",
       "                     Hydraulique  Pompage  Bioénergies  Ech. physiques  \n",
       "Datetime                                                                \n",
       "2019-01-01 00:00:00          9.0      NaN        150.0          8434.0  \n",
       "2019-01-01 00:15:00          NaN      NaN          NaN             NaN  \n",
       "2019-01-01 00:30:00          9.0      NaN        151.0          8283.0  \n",
       "2019-01-01 00:45:00          NaN      NaN          NaN             NaN  \n",
       "2019-01-01 01:00:00          9.0      NaN        149.0          7916.0  "
      ]
     },
     "execution_count": null,
     "metadata": {},
     "output_type": "execute_result"
    }
   ],
   "source": [
    "df.head()"
   ]
  },
  {
   "cell_type": "code",
   "execution_count": null,
   "metadata": {},
   "outputs": [
    {
     "data": {
      "text/html": [
       "<div>\n",
       "<style scoped>\n",
       "    .dataframe tbody tr th:only-of-type {\n",
       "        vertical-align: middle;\n",
       "    }\n",
       "\n",
       "    .dataframe tbody tr th {\n",
       "        vertical-align: top;\n",
       "    }\n",
       "\n",
       "    .dataframe thead th {\n",
       "        text-align: right;\n",
       "    }\n",
       "</style>\n",
       "<table border=\"1\" class=\"dataframe\">\n",
       "  <thead>\n",
       "    <tr style=\"text-align: right;\">\n",
       "      <th></th>\n",
       "      <th>Date_Heures</th>\n",
       "      <th>Périmètre</th>\n",
       "      <th>Nature</th>\n",
       "      <th>Consommation</th>\n",
       "      <th>Thermique</th>\n",
       "      <th>Nucléaire</th>\n",
       "      <th>Eolien</th>\n",
       "      <th>Solaire</th>\n",
       "      <th>Hydraulique</th>\n",
       "      <th>Pompage</th>\n",
       "      <th>Bioénergies</th>\n",
       "      <th>Ech. physiques</th>\n",
       "    </tr>\n",
       "    <tr>\n",
       "      <th>Datetime</th>\n",
       "      <th></th>\n",
       "      <th></th>\n",
       "      <th></th>\n",
       "      <th></th>\n",
       "      <th></th>\n",
       "      <th></th>\n",
       "      <th></th>\n",
       "      <th></th>\n",
       "      <th></th>\n",
       "      <th></th>\n",
       "      <th></th>\n",
       "      <th></th>\n",
       "    </tr>\n",
       "  </thead>\n",
       "  <tbody>\n",
       "    <tr>\n",
       "      <td>2020-05-31 22:45:00</td>\n",
       "      <td>31/5/20 22:45</td>\n",
       "      <td>Ile-de-France</td>\n",
       "      <td>Données consolidées</td>\n",
       "      <td>NaN</td>\n",
       "      <td>NaN</td>\n",
       "      <td>NaN</td>\n",
       "      <td>NaN</td>\n",
       "      <td>NaN</td>\n",
       "      <td>NaN</td>\n",
       "      <td>NaN</td>\n",
       "      <td>NaN</td>\n",
       "      <td>NaN</td>\n",
       "    </tr>\n",
       "    <tr>\n",
       "      <td>2020-05-31 23:00:00</td>\n",
       "      <td>31/5/20 23:00</td>\n",
       "      <td>Ile-de-France</td>\n",
       "      <td>Données consolidées</td>\n",
       "      <td>6206.0</td>\n",
       "      <td>-3.0</td>\n",
       "      <td>NaN</td>\n",
       "      <td>45.0</td>\n",
       "      <td>0.0</td>\n",
       "      <td>4.0</td>\n",
       "      <td>NaN</td>\n",
       "      <td>100.0</td>\n",
       "      <td>6060.0</td>\n",
       "    </tr>\n",
       "    <tr>\n",
       "      <td>2020-05-31 23:15:00</td>\n",
       "      <td>31/5/20 23:15</td>\n",
       "      <td>Ile-de-France</td>\n",
       "      <td>Données consolidées</td>\n",
       "      <td>NaN</td>\n",
       "      <td>NaN</td>\n",
       "      <td>NaN</td>\n",
       "      <td>NaN</td>\n",
       "      <td>NaN</td>\n",
       "      <td>NaN</td>\n",
       "      <td>NaN</td>\n",
       "      <td>NaN</td>\n",
       "      <td>NaN</td>\n",
       "    </tr>\n",
       "    <tr>\n",
       "      <td>2020-05-31 23:30:00</td>\n",
       "      <td>31/5/20 23:30</td>\n",
       "      <td>Ile-de-France</td>\n",
       "      <td>Données consolidées</td>\n",
       "      <td>6074.0</td>\n",
       "      <td>-3.0</td>\n",
       "      <td>NaN</td>\n",
       "      <td>50.0</td>\n",
       "      <td>0.0</td>\n",
       "      <td>4.0</td>\n",
       "      <td>NaN</td>\n",
       "      <td>97.0</td>\n",
       "      <td>5927.0</td>\n",
       "    </tr>\n",
       "    <tr>\n",
       "      <td>2020-05-31 23:45:00</td>\n",
       "      <td>31/5/20 23:45</td>\n",
       "      <td>Ile-de-France</td>\n",
       "      <td>Données consolidées</td>\n",
       "      <td>NaN</td>\n",
       "      <td>NaN</td>\n",
       "      <td>NaN</td>\n",
       "      <td>NaN</td>\n",
       "      <td>NaN</td>\n",
       "      <td>NaN</td>\n",
       "      <td>NaN</td>\n",
       "      <td>NaN</td>\n",
       "      <td>NaN</td>\n",
       "    </tr>\n",
       "  </tbody>\n",
       "</table>\n",
       "</div>"
      ],
      "text/plain": [
       "                       Date_Heures      Périmètre               Nature  \\\n",
       "Datetime                                                                 \n",
       "2020-05-31 22:45:00  31/5/20 22:45  Ile-de-France  Données consolidées   \n",
       "2020-05-31 23:00:00  31/5/20 23:00  Ile-de-France  Données consolidées   \n",
       "2020-05-31 23:15:00  31/5/20 23:15  Ile-de-France  Données consolidées   \n",
       "2020-05-31 23:30:00  31/5/20 23:30  Ile-de-France  Données consolidées   \n",
       "2020-05-31 23:45:00  31/5/20 23:45  Ile-de-France  Données consolidées   \n",
       "\n",
       "                     Consommation  Thermique  Nucléaire  Eolien  Solaire  \\\n",
       "Datetime                                                                   \n",
       "2020-05-31 22:45:00           NaN        NaN        NaN     NaN      NaN   \n",
       "2020-05-31 23:00:00        6206.0       -3.0        NaN    45.0      0.0   \n",
       "2020-05-31 23:15:00           NaN        NaN        NaN     NaN      NaN   \n",
       "2020-05-31 23:30:00        6074.0       -3.0        NaN    50.0      0.0   \n",
       "2020-05-31 23:45:00           NaN        NaN        NaN     NaN      NaN   \n",
       "\n",
       "                     Hydraulique  Pompage  Bioénergies  Ech. physiques  \n",
       "Datetime                                                                \n",
       "2020-05-31 22:45:00          NaN      NaN          NaN             NaN  \n",
       "2020-05-31 23:00:00          4.0      NaN        100.0          6060.0  \n",
       "2020-05-31 23:15:00          NaN      NaN          NaN             NaN  \n",
       "2020-05-31 23:30:00          4.0      NaN         97.0          5927.0  \n",
       "2020-05-31 23:45:00          NaN      NaN          NaN             NaN  "
      ]
     },
     "execution_count": null,
     "metadata": {},
     "output_type": "execute_result"
    }
   ],
   "source": [
    "df.tail()"
   ]
  },
  {
   "cell_type": "code",
   "execution_count": null,
   "metadata": {},
   "outputs": [
    {
     "data": {
      "text/plain": [
       "24816"
      ]
     },
     "execution_count": null,
     "metadata": {},
     "output_type": "execute_result"
    }
   ],
   "source": [
    "len(df['Eolien'])-(df['Eolien'].isna()).sum()"
   ]
  },
  {
   "cell_type": "code",
   "execution_count": null,
   "metadata": {},
   "outputs": [
    {
     "name": "stdout",
     "output_type": "stream",
     "text": [
      "Latest timestamp for wind energy:\n",
      "2020-05-31 23:30:00\n"
     ]
    },
    {
     "data": {
      "text/plain": [
       "Datetime\n",
       "2020-05-31 19:00:00    35.0\n",
       "2020-05-31 19:30:00    36.0\n",
       "2020-05-31 20:00:00    34.0\n",
       "2020-05-31 20:30:00    28.0\n",
       "2020-05-31 21:00:00    33.0\n",
       "2020-05-31 21:30:00    29.0\n",
       "2020-05-31 22:00:00    32.0\n",
       "2020-05-31 22:30:00    42.0\n",
       "2020-05-31 23:00:00    45.0\n",
       "2020-05-31 23:30:00    50.0\n",
       "Name: Eolien, dtype: float64"
      ]
     },
     "execution_count": null,
     "metadata": {},
     "output_type": "execute_result"
    }
   ],
   "source": [
    "tmstamp = df[np.logical_not(df['Eolien'].isna())].index[-1]\n",
    "print(f'Latest timestamp for wind energy:\\n{tmstamp}')\n",
    "df['Eolien'][np.logical_not(df['Eolien'].isna())].tail(10)"
   ]
  },
  {
   "cell_type": "code",
   "execution_count": null,
   "metadata": {},
   "outputs": [
    {
     "data": {
      "text/plain": [
       "Datetime\n",
       "2019-01-07 06:00:00    2.0\n",
       "2019-01-07 06:15:00    NaN\n",
       "2019-01-07 06:30:00    2.0\n",
       "2019-01-07 06:45:00    NaN\n",
       "2019-01-07 07:00:00    1.0\n",
       "2019-01-07 07:15:00    NaN\n",
       "2019-01-07 07:30:00    2.0\n",
       "2019-01-07 07:45:00    NaN\n",
       "2019-01-07 08:00:00    2.0\n",
       "2019-01-07 08:15:00    NaN\n",
       "2019-01-07 08:30:00    1.0\n",
       "2019-01-07 08:45:00    NaN\n",
       "2019-01-07 09:00:00    0.0\n",
       "2019-01-07 09:15:00    NaN\n",
       "2019-01-07 09:30:00    0.0\n",
       "2019-01-07 09:45:00    NaN\n",
       "2019-01-07 10:00:00    0.0\n",
       "2019-01-07 10:15:00    NaN\n",
       "2019-01-07 10:30:00    0.0\n",
       "2019-01-07 10:45:00    NaN\n",
       "2019-01-07 11:00:00    0.0\n",
       "2019-01-07 11:15:00    NaN\n",
       "2019-01-07 11:30:00    0.0\n",
       "2019-01-07 11:45:00    NaN\n",
       "2019-01-07 12:00:00    0.0\n",
       "2019-01-07 12:15:00    NaN\n",
       "2019-01-07 12:30:00    0.0\n",
       "2019-01-07 12:45:00    NaN\n",
       "2019-01-07 13:00:00    1.0\n",
       "2019-01-07 13:15:00    NaN\n",
       "2019-01-07 13:30:00    0.0\n",
       "2019-01-07 13:45:00    NaN\n",
       "2019-01-07 14:00:00    1.0\n",
       "2019-01-07 14:15:00    NaN\n",
       "2019-01-07 14:30:00    1.0\n",
       "2019-01-07 14:45:00    NaN\n",
       "2019-01-07 15:00:00    2.0\n",
       "2019-01-07 15:15:00    NaN\n",
       "2019-01-07 15:30:00    3.0\n",
       "2019-01-07 15:45:00    NaN\n",
       "2019-01-07 16:00:00    4.0\n",
       "2019-01-07 16:15:00    NaN\n",
       "2019-01-07 16:30:00    6.0\n",
       "2019-01-07 16:45:00    NaN\n",
       "2019-01-07 17:00:00    6.0\n",
       "2019-01-07 17:15:00    NaN\n",
       "2019-01-07 17:30:00    7.0\n",
       "2019-01-07 17:45:00    NaN\n",
       "2019-01-07 18:00:00    9.0\n",
       "2019-01-07 18:15:00    NaN\n",
       "Name: Eolien, dtype: float64"
      ]
     },
     "execution_count": null,
     "metadata": {},
     "output_type": "execute_result"
    }
   ],
   "source": [
    "df.iloc[600:650]['Eolien']"
   ]
  },
  {
   "cell_type": "code",
   "execution_count": null,
   "metadata": {},
   "outputs": [
    {
     "data": {
      "image/png": "[encoded data removed]",
      "text/plain": [
       "<Figure size 432x288 with 1 Axes>"
      ]
     },
     "metadata": {
      "needs_background": "light"
     },
     "output_type": "display_data"
    }
   ],
   "source": [
    "df['Eolien'][np.logical_not(df['Eolien'].isna())].plot();"
   ]
  },
  {
   "cell_type": "markdown",
   "metadata": {},
   "source": [
    "### Wind Forecasts Data\n"
   ]
  },
  {
   "cell_type": "code",
   "execution_count": null,
   "metadata": {},
   "outputs": [],
   "source": []
  },
  {
   "cell_type": "markdown",
   "metadata": {},
   "source": [
    "## Trader"
   ]
  },
  {
   "cell_type": "code",
   "execution_count": null,
   "metadata": {},
   "outputs": [],
   "source": [
    "import pandas as pd\n",
    "import numpy as np\n",
    "from matplotlib import pyplot as plt"
   ]
  },
  {
   "cell_type": "code",
   "execution_count": null,
   "metadata": {},
   "outputs": [
    {
     "name": "stdout",
     "output_type": "stream",
     "text": [
      "Trading hours (total):241, [start:2020-07-20 00:00:00 ---> end:2020-07-30 00:00:00]\n"
     ]
    }
   ],
   "source": [
    "trading_hours = pd.date_range(start=pd.to_datetime('20-07-2020'),\n",
    "                              end=pd.to_datetime('30-07-2020'),freq='h')\n",
    "print(f'Trading hours (total):{len(trading_hours)}, [start:{str(trading_hours[0])} ---> end:{str(trading_hours[-1])}]')"
   ]
  },
  {
   "cell_type": "code",
   "execution_count": null,
   "metadata": {},
   "outputs": [],
   "source": [
    "from trader import trader_simulation"
   ]
  },
  {
   "cell_type": "code",
   "execution_count": null,
   "metadata": {},
   "outputs": [
    {
     "name": "stdout",
     "output_type": "stream",
     "text": [
      "2020-07-20 00:00:00-> Act.Prod/Pred.:10.2 /32.4 (wasted:0c); Short./Avail.:22.2 /500005.1; Penalty:0; Cash:9999659\n",
      "2020-07-20 01:00:00-> Act.Prod/Pred.:53.7 /36.8 (wasted:169c); Short./Avail.:0.0 /500001.3; Penalty:0; Cash:10000027\n",
      "2020-07-20 02:00:00-> Act.Prod/Pred.:27.5 /27.4 (wasted:1c); Short./Avail.:0.0 /500015.1; Penalty:0; Cash:10000301\n",
      "2020-07-20 03:00:00-> Act.Prod/Pred.:1.8 /44.3 (wasted:0c); Short./Avail.:42.5 /500015.9; Penalty:0; Cash:9999469\n",
      "2020-07-20 04:00:00-> Act.Prod/Pred.:3.9 /3.8 (wasted:1c); Short./Avail.:0.0 /499975.3; Penalty:0; Cash:9999506\n",
      "2020-07-20 05:00:00-> Act.Prod/Pred.:7.7 /2.7 (wasted:50c); Short./Avail.:0.0 /499976.6; Penalty:0; Cash:9999533\n",
      "2020-07-20 06:00:00-> Act.Prod/Pred.:48.2 /5.6 (wasted:426c); Short./Avail.:0.0 /499979.4; Penalty:0; Cash:9999589\n",
      "2020-07-20 07:00:00-> Act.Prod/Pred.:68.9 /46.6 (wasted:223c); Short./Avail.:0.0 /500002.7; Penalty:0; Cash:10000055\n",
      "2020-07-20 08:00:00-> Act.Prod/Pred.:10.3 /40.7 (wasted:0c); Short./Avail.:30.5 /500007.9; Penalty:0; Cash:9999548\n",
      "2020-07-20 09:00:00-> Act.Prod/Pred.:4.2 /23.0 (wasted:0c); Short./Avail.:18.8 /499979.5; Penalty:0; Cash:9999214\n",
      "2020-07-20 10:00:00-> Act.Prod/Pred.:26.3 /7.2 (wasted:191c); Short./Avail.:0.0 /499964.3; Penalty:0; Cash:9999286\n",
      "2020-07-20 11:00:00-> Act.Prod/Pred.:8.2 /36.0 (wasted:0c); Short./Avail.:27.8 /499968.4; Penalty:0; Cash:9998812\n",
      "2020-07-20 12:00:00-> Act.Prod/Pred.:59.0 /40.1 (wasted:189c); Short./Avail.:0.0 /499960.6; Penalty:0; Cash:9999213\n",
      "2020-07-20 13:00:00-> Act.Prod/Pred.:13.5 /49.5 (wasted:0c); Short./Avail.:36.0 /499967.4; Penalty:0; Cash:9998628\n",
      "2020-07-20 14:00:00-> Act.Prod/Pred.:74.0 /39.9 (wasted:341c); Short./Avail.:0.0 /499951.4; Penalty:0; Cash:9999027\n",
      "2020-07-20 15:00:00-> Act.Prod/Pred.:58.4 /6.8 (wasted:517c); Short./Avail.:0.0 /499954.7; Penalty:0; Cash:9999095\n",
      "2020-07-20 16:00:00-> Act.Prod/Pred.:50.6 /18.6 (wasted:319c); Short./Avail.:0.0 /499964.1; Penalty:0; Cash:9999281\n",
      "2020-07-20 17:00:00-> Act.Prod/Pred.:16.1 /42.8 (wasted:0c); Short./Avail.:26.7 /499972.1; Penalty:0; Cash:9998909\n",
      "2020-07-20 18:00:00-> Act.Prod/Pred.:0.6 /2.4 (wasted:0c); Short./Avail.:1.8 /499945.8; Penalty:0; Cash:9998879\n",
      "2020-07-20 19:00:00-> Act.Prod/Pred.:29.1 /43.3 (wasted:0c); Short./Avail.:14.2 /499958.5; Penalty:0; Cash:9998886\n",
      "2020-07-20 20:00:00-> Act.Prod/Pred.:72.8 /0.3 (wasted:726c); Short./Avail.:0.0 /499944.4; Penalty:0; Cash:9998889\n",
      "2020-07-20 21:00:00-> Act.Prod/Pred.:56.0 /36.5 (wasted:196c); Short./Avail.:0.0 /499962.7; Penalty:0; Cash:9999253\n",
      "2020-07-20 22:00:00-> Act.Prod/Pred.:28.3 /31.8 (wasted:0c); Short./Avail.:3.5 /499976.8; Penalty:0; Cash:9999467\n",
      "2020-07-20 23:00:00-> Act.Prod/Pred.:20.7 /38.8 (wasted:0c); Short./Avail.:18.1 /499983.7; Penalty:0; Cash:9999312\n",
      "2020-07-21 00:00:00-> Act.Prod/Pred.:29.0 /29.1 (wasted:0c); Short./Avail.:0.1 /499980.1; Penalty:0; Cash:9999599\n",
      "2020-07-21 01:00:00-> Act.Prod/Pred.:66.7 /45.7 (wasted:210c); Short./Avail.:0.0 /500002.8; Penalty:0; Cash:10000057\n",
      "2020-07-21 02:00:00-> Act.Prod/Pred.:57.5 /21.4 (wasted:361c); Short./Avail.:0.0 /500013.5; Penalty:0; Cash:10000271\n",
      "2020-07-21 03:00:00-> Act.Prod/Pred.:63.6 /21.7 (wasted:419c); Short./Avail.:0.0 /500024.4; Penalty:0; Cash:10000488\n",
      "2020-07-21 04:00:00-> Act.Prod/Pred.:17.2 /34.4 (wasted:0c); Short./Avail.:17.3 /500033.0; Penalty:0; Cash:10000314\n",
      "2020-07-21 05:00:00-> Act.Prod/Pred.:49.6 /34.8 (wasted:148c); Short./Avail.:0.0 /500033.1; Penalty:0; Cash:10000662\n",
      "2020-07-21 06:00:00-> Act.Prod/Pred.:53.0 /29.4 (wasted:236c); Short./Avail.:0.0 /500047.8; Penalty:0; Cash:10000955\n",
      "2020-07-21 07:00:00-> Act.Prod/Pred.:62.9 /48.6 (wasted:143c); Short./Avail.:0.0 /500072.1; Penalty:0; Cash:10001441\n",
      "2020-07-21 08:00:00-> Act.Prod/Pred.:76.3 /17.1 (wasted:591c); Short./Avail.:0.0 /500080.6; Penalty:0; Cash:10001612\n",
      "2020-07-21 09:00:00-> Act.Prod/Pred.:0.7 /3.6 (wasted:0c); Short./Avail.:2.9 /500081.0; Penalty:0; Cash:10001562\n",
      "2020-07-21 10:00:00-> Act.Prod/Pred.:48.0 /49.3 (wasted:0c); Short./Avail.:1.2 /500102.1; Penalty:0; Cash:10002017\n",
      "2020-07-21 11:00:00-> Act.Prod/Pred.:14.1 /12.2 (wasted:20c); Short./Avail.:0.0 /500106.9; Penalty:0; Cash:10002139\n",
      "2020-07-21 12:00:00-> Act.Prod/Pred.:2.8 /4.6 (wasted:0c); Short./Avail.:1.8 /500108.4; Penalty:0; Cash:10002132\n",
      "2020-07-21 13:00:00-> Act.Prod/Pred.:53.1 /38.7 (wasted:144c); Short./Avail.:0.0 /500126.0; Penalty:0; Cash:10002519\n",
      "2020-07-21 14:00:00-> Act.Prod/Pred.:70.5 /3.9 (wasted:666c); Short./Avail.:0.0 /500127.9; Penalty:0; Cash:10002558\n",
      "2020-07-21 15:00:00-> Act.Prod/Pred.:36.1 /38.6 (wasted:0c); Short./Avail.:2.5 /500146.0; Penalty:0; Cash:10002870\n",
      "2020-07-21 16:00:00-> Act.Prod/Pred.:34.7 /37.0 (wasted:0c); Short./Avail.:2.4 /500160.8; Penalty:0; Cash:10003169\n",
      "2020-07-21 17:00:00-> Act.Prod/Pred.:4.6 /38.1 (wasted:0c); Short./Avail.:33.6 /500160.8; Penalty:0; Cash:10002544\n",
      "2020-07-21 18:00:00-> Act.Prod/Pred.:49.0 /31.7 (wasted:173c); Short./Avail.:0.0 /500143.1; Penalty:0; Cash:10002861\n",
      "2020-07-21 19:00:00-> Act.Prod/Pred.:66.0 /0.6 (wasted:654c); Short./Avail.:0.0 /500143.4; Penalty:0; Cash:10002867\n",
      "2020-07-21 20:00:00-> Act.Prod/Pred.:29.3 /2.1 (wasted:272c); Short./Avail.:0.0 /500144.4; Penalty:0; Cash:10002889\n",
      "2020-07-21 21:00:00-> Act.Prod/Pred.:4.3 /8.6 (wasted:0c); Short./Avail.:4.3 /500146.6; Penalty:0; Cash:10002845\n",
      "2020-07-21 22:00:00-> Act.Prod/Pred.:34.0 /15.9 (wasted:182c); Short./Avail.:0.0 /500150.2; Penalty:0; Cash:10003004\n",
      "2020-07-21 23:00:00-> Act.Prod/Pred.:62.9 /25.9 (wasted:370c); Short./Avail.:0.0 /500163.2; Penalty:0; Cash:10003263\n",
      "2020-07-22 00:00:00-> Act.Prod/Pred.:70.7 /38.2 (wasted:325c); Short./Avail.:0.0 /500182.3; Penalty:0; Cash:10003645\n",
      "2020-07-22 01:00:00-> Act.Prod/Pred.:8.3 /20.7 (wasted:0c); Short./Avail.:12.5 /500186.4; Penalty:0; Cash:10003479\n",
      "2020-07-22 02:00:00-> Act.Prod/Pred.:61.6 /47.7 (wasted:139c); Short./Avail.:0.0 /500197.8; Penalty:0; Cash:10003956\n",
      "2020-07-22 03:00:00-> Act.Prod/Pred.:44.8 /26.1 (wasted:187c); Short./Avail.:0.0 /500210.8; Penalty:0; Cash:10004217\n",
      "2020-07-22 04:00:00-> Act.Prod/Pred.:0.6 /20.6 (wasted:0c); Short./Avail.:20.1 /500211.1; Penalty:0; Cash:10003821\n",
      "2020-07-22 05:00:00-> Act.Prod/Pred.:62.5 /27.8 (wasted:348c); Short./Avail.:0.0 /500204.9; Penalty:0; Cash:10004098\n",
      "2020-07-22 06:00:00-> Act.Prod/Pred.:50.4 /18.4 (wasted:320c); Short./Avail.:0.0 /500214.1; Penalty:0; Cash:10004283\n",
      "2020-07-22 07:00:00-> Act.Prod/Pred.:69.8 /17.2 (wasted:526c); Short./Avail.:0.0 /500222.7; Penalty:0; Cash:10004454\n",
      "2020-07-22 08:00:00-> Act.Prod/Pred.:16.6 /27.4 (wasted:0c); Short./Avail.:10.8 /500231.0; Penalty:0; Cash:10004404\n",
      "2020-07-22 09:00:00-> Act.Prod/Pred.:20.6 /11.6 (wasted:90c); Short./Avail.:0.0 /500226.0; Penalty:0; Cash:10004520\n",
      "2020-07-22 10:00:00-> Act.Prod/Pred.:68.3 /29.3 (wasted:391c); Short./Avail.:0.0 /500240.7; Penalty:0; Cash:10004813\n",
      "2020-07-22 11:00:00-> Act.Prod/Pred.:59.9 /19.1 (wasted:408c); Short./Avail.:0.0 /500250.2; Penalty:0; Cash:10005004\n",
      "2020-07-22 12:00:00-> Act.Prod/Pred.:49.7 /22.3 (wasted:274c); Short./Avail.:0.0 /500261.3; Penalty:0; Cash:10005227\n",
      "2020-07-22 13:00:00-> Act.Prod/Pred.:4.9 /24.6 (wasted:0c); Short./Avail.:19.7 /500263.8; Penalty:0; Cash:10004882\n",
      "2020-07-22 14:00:00-> Act.Prod/Pred.:71.1 /40.8 (wasted:303c); Short./Avail.:0.0 /500264.5; Penalty:0; Cash:10005290\n",
      "2020-07-22 15:00:00-> Act.Prod/Pred.:65.2 /37.8 (wasted:274c); Short./Avail.:0.0 /500283.4; Penalty:0; Cash:10005668\n",
      "2020-07-22 16:00:00-> Act.Prod/Pred.:36.9 /14.4 (wasted:225c); Short./Avail.:0.0 /500290.6; Penalty:0; Cash:10005811\n",
      "2020-07-22 17:00:00-> Act.Prod/Pred.:68.2 /44.5 (wasted:237c); Short./Avail.:0.0 /500312.8; Penalty:0; Cash:10006256\n",
      "2020-07-22 18:00:00-> Act.Prod/Pred.:41.7 /41.2 (wasted:5c); Short./Avail.:0.0 /500333.4; Penalty:0; Cash:10006669\n",
      "2020-07-22 19:00:00-> Act.Prod/Pred.:2.3 /13.2 (wasted:0c); Short./Avail.:10.9 /500334.6; Penalty:0; Cash:10006474\n",
      "2020-07-22 20:00:00-> Act.Prod/Pred.:17.2 /18.3 (wasted:0c); Short./Avail.:1.1 /500332.3; Penalty:0; Cash:10006625\n",
      "2020-07-22 21:00:00-> Act.Prod/Pred.:11.1 /41.0 (wasted:0c); Short./Avail.:29.9 /500336.8; Penalty:0; Cash:10006137\n",
      "2020-07-22 22:00:00-> Act.Prod/Pred.:73.3 /26.4 (wasted:469c); Short./Avail.:0.0 /500320.1; Penalty:0; Cash:10006401\n",
      "2020-07-22 23:00:00-> Act.Prod/Pred.:19.9 /42.9 (wasted:0c); Short./Avail.:23.0 /500330.0; Penalty:0; Cash:10006139\n",
      "2020-07-23 00:00:00-> Act.Prod/Pred.:50.0 /49.0 (wasted:10c); Short./Avail.:0.0 /500331.4; Penalty:0; Cash:10006629\n",
      "2020-07-23 01:00:00-> Act.Prod/Pred.:33.6 /22.4 (wasted:112c); Short./Avail.:0.0 /500342.7; Penalty:0; Cash:10006853\n",
      "2020-07-23 02:00:00-> Act.Prod/Pred.:52.8 /34.2 (wasted:187c); Short./Avail.:0.0 /500359.7; Penalty:0; Cash:10007195\n",
      "2020-07-23 03:00:00-> Act.Prod/Pred.:51.1 /23.4 (wasted:278c); Short./Avail.:0.0 /500371.4; Penalty:0; Cash:10007428\n",
      "2020-07-23 04:00:00-> Act.Prod/Pred.:24.4 /24.8 (wasted:0c); Short./Avail.:0.5 /500383.6; Penalty:0; Cash:10007663\n",
      "2020-07-23 05:00:00-> Act.Prod/Pred.:54.8 /20.4 (wasted:344c); Short./Avail.:0.0 /500393.4; Penalty:0; Cash:10007867\n",
      "2020-07-23 06:00:00-> Act.Prod/Pred.:50.8 /22.0 (wasted:287c); Short./Avail.:0.0 /500404.4; Penalty:0; Cash:10008087\n",
      "2020-07-23 07:00:00-> Act.Prod/Pred.:37.9 /18.4 (wasted:195c); Short./Avail.:0.0 /500413.6; Penalty:0; Cash:10008271\n",
      "2020-07-23 08:00:00-> Act.Prod/Pred.:45.8 /24.1 (wasted:217c); Short./Avail.:0.0 /500425.6; Penalty:0; Cash:10008513\n",
      "2020-07-23 09:00:00-> Act.Prod/Pred.:18.8 /34.2 (wasted:0c); Short./Avail.:15.3 /500435.1; Penalty:0; Cash:10008395\n",
      "2020-07-23 10:00:00-> Act.Prod/Pred.:75.5 /35.7 (wasted:398c); Short./Avail.:0.0 /500437.6; Penalty:0; Cash:10008752\n",
      "2020-07-23 11:00:00-> Act.Prod/Pred.:57.9 /22.1 (wasted:357c); Short./Avail.:0.0 /500448.7; Penalty:0; Cash:10008973\n",
      "2020-07-23 12:00:00-> Act.Prod/Pred.:67.7 /49.9 (wasted:178c); Short./Avail.:0.0 /500473.6; Penalty:0; Cash:10009472\n",
      "2020-07-23 13:00:00-> Act.Prod/Pred.:6.9 /42.5 (wasted:0c); Short./Avail.:35.6 /500477.1; Penalty:0; Cash:10008830\n",
      "2020-07-23 14:00:00-> Act.Prod/Pred.:6.1 /27.7 (wasted:0c); Short./Avail.:21.6 /500444.6; Penalty:0; Cash:10008459\n",
      "2020-07-23 15:00:00-> Act.Prod/Pred.:56.7 /7.8 (wasted:489c); Short./Avail.:0.0 /500426.9; Penalty:0; Cash:10008538\n",
      "2020-07-23 16:00:00-> Act.Prod/Pred.:56.7 /12.4 (wasted:443c); Short./Avail.:0.0 /500433.1; Penalty:0; Cash:10008661\n",
      "2020-07-23 17:00:00-> Act.Prod/Pred.:7.8 /12.0 (wasted:0c); Short./Avail.:4.2 /500436.9; Penalty:0; Cash:10008655\n",
      "2020-07-23 18:00:00-> Act.Prod/Pred.:5.6 /14.4 (wasted:0c); Short./Avail.:8.8 /500435.6; Penalty:0; Cash:10008536\n",
      "2020-07-23 19:00:00-> Act.Prod/Pred.:67.3 /20.3 (wasted:469c); Short./Avail.:0.0 /500437.0; Penalty:0; Cash:10008739\n",
      "2020-07-23 20:00:00-> Act.Prod/Pred.:54.9 /42.8 (wasted:121c); Short./Avail.:0.0 /500458.4; Penalty:0; Cash:10009168\n",
      "2020-07-23 21:00:00-> Act.Prod/Pred.:19.2 /33.6 (wasted:0c); Short./Avail.:14.4 /500468.0; Penalty:0; Cash:10009072\n",
      "2020-07-23 22:00:00-> Act.Prod/Pred.:0.5 /9.5 (wasted:0c); Short./Avail.:9.0 /500453.8; Penalty:0; Cash:10008896\n",
      "2020-07-23 23:00:00-> Act.Prod/Pred.:48.2 /49.2 (wasted:0c); Short./Avail.:0.9 /500468.9; Penalty:0; Cash:10009360\n",
      "2020-07-24 00:00:00-> Act.Prod/Pred.:45.9 /45.4 (wasted:5c); Short./Avail.:0.0 /500490.7; Penalty:0; Cash:10009814\n",
      "2020-07-24 01:00:00-> Act.Prod/Pred.:35.9 /15.3 (wasted:206c); Short./Avail.:0.0 /500498.3; Penalty:0; Cash:10009967\n",
      "2020-07-24 02:00:00-> Act.Prod/Pred.:20.0 /13.8 (wasted:62c); Short./Avail.:0.0 /500505.2; Penalty:0; Cash:10010105\n",
      "2020-07-24 03:00:00-> Act.Prod/Pred.:53.2 /21.3 (wasted:319c); Short./Avail.:0.0 /500515.9; Penalty:0; Cash:10010318\n",
      "2020-07-24 04:00:00-> Act.Prod/Pred.:49.9 /8.1 (wasted:418c); Short./Avail.:0.0 /500520.0; Penalty:0; Cash:10010399\n",
      "2020-07-24 05:00:00-> Act.Prod/Pred.:66.9 /40.2 (wasted:267c); Short./Avail.:0.0 /500540.0; Penalty:0; Cash:10010801\n",
      "2020-07-24 06:00:00-> Act.Prod/Pred.:19.7 /11.8 (wasted:79c); Short./Avail.:0.0 /500545.9; Penalty:0; Cash:10010919\n",
      "2020-07-24 07:00:00-> Act.Prod/Pred.:34.2 /20.5 (wasted:137c); Short./Avail.:0.0 /500556.2; Penalty:0; Cash:10011124\n",
      "2020-07-24 08:00:00-> Act.Prod/Pred.:76.4 /44.4 (wasted:321c); Short./Avail.:0.0 /500578.4; Penalty:0; Cash:10011567\n",
      "2020-07-24 09:00:00-> Act.Prod/Pred.:24.5 /1.2 (wasted:233c); Short./Avail.:0.0 /500579.0; Penalty:0; Cash:10011580\n",
      "2020-07-24 10:00:00-> Act.Prod/Pred.:75.5 /16.0 (wasted:596c); Short./Avail.:0.0 /500587.0; Penalty:0; Cash:10011739\n",
      "2020-07-24 11:00:00-> Act.Prod/Pred.:54.1 /13.1 (wasted:410c); Short./Avail.:0.0 /500593.5; Penalty:0; Cash:10011871\n",
      "2020-07-24 12:00:00-> Act.Prod/Pred.:11.2 /42.2 (wasted:0c); Short./Avail.:31.0 /500599.2; Penalty:0; Cash:10011364\n",
      "2020-07-24 13:00:00-> Act.Prod/Pred.:74.5 /3.7 (wasted:708c); Short./Avail.:0.0 /500570.0; Penalty:0; Cash:10011400\n",
      "2020-07-24 14:00:00-> Act.Prod/Pred.:55.0 /23.9 (wasted:311c); Short./Avail.:0.0 /500582.0; Penalty:0; Cash:10011639\n",
      "2020-07-24 15:00:00-> Act.Prod/Pred.:30.4 /33.9 (wasted:0c); Short./Avail.:3.5 /500597.1; Penalty:0; Cash:10011872\n",
      "2020-07-24 16:00:00-> Act.Prod/Pred.:32.3 /2.2 (wasted:301c); Short./Avail.:0.0 /500594.7; Penalty:0; Cash:10011894\n",
      "2020-07-24 17:00:00-> Act.Prod/Pred.:26.3 /27.9 (wasted:0c); Short./Avail.:1.6 /500607.8; Penalty:0; Cash:10012124\n",
      "2020-07-24 18:00:00-> Act.Prod/Pred.:31.4 /4.8 (wasted:267c); Short./Avail.:0.0 /500608.6; Penalty:0; Cash:10012172\n",
      "2020-07-24 19:00:00-> Act.Prod/Pred.:35.2 /23.8 (wasted:114c); Short./Avail.:0.0 /500620.5; Penalty:0; Cash:10012410\n",
      "2020-07-24 20:00:00-> Act.Prod/Pred.:28.2 /24.9 (wasted:32c); Short./Avail.:0.0 /500633.0; Penalty:0; Cash:10012660\n",
      "2020-07-24 21:00:00-> Act.Prod/Pred.:20.5 /42.0 (wasted:0c); Short./Avail.:21.4 /500643.3; Penalty:0; Cash:10012437\n",
      "2020-07-24 22:00:00-> Act.Prod/Pred.:3.1 /7.6 (wasted:0c); Short./Avail.:4.5 /500623.4; Penalty:0; Cash:10012377\n",
      "2020-07-24 23:00:00-> Act.Prod/Pred.:5.0 /47.1 (wasted:0c); Short./Avail.:42.0 /500621.4; Penalty:0; Cash:10011587\n",
      "2020-07-25 00:00:00-> Act.Prod/Pred.:72.1 /18.9 (wasted:532c); Short./Avail.:0.0 /500588.8; Penalty:0; Cash:10011776\n",
      "2020-07-25 01:00:00-> Act.Prod/Pred.:42.0 /1.3 (wasted:407c); Short./Avail.:0.0 /500589.5; Penalty:0; Cash:10011789\n",
      "2020-07-25 02:00:00-> Act.Prod/Pred.:44.4 /25.8 (wasted:187c); Short./Avail.:0.0 /500602.4; Penalty:0; Cash:10012047\n",
      "2020-07-25 03:00:00-> Act.Prod/Pred.:24.5 /36.3 (wasted:0c); Short./Avail.:11.7 /500614.6; Penalty:0; Cash:10012058\n",
      "2020-07-25 04:00:00-> Act.Prod/Pred.:8.0 /16.7 (wasted:0c); Short./Avail.:8.8 /500606.9; Penalty:0; Cash:10011962\n",
      "2020-07-25 05:00:00-> Act.Prod/Pred.:12.5 /20.0 (wasted:0c); Short./Avail.:7.5 /500604.4; Penalty:0; Cash:10011937\n",
      "2020-07-25 06:00:00-> Act.Prod/Pred.:6.5 /47.9 (wasted:0c); Short./Avail.:41.4 /500600.1; Penalty:0; Cash:10011174\n",
      "2020-07-25 07:00:00-> Act.Prod/Pred.:38.4 /41.6 (wasted:0c); Short./Avail.:3.2 /500577.9; Penalty:0; Cash:10011493\n",
      "2020-07-25 08:00:00-> Act.Prod/Pred.:75.2 /31.7 (wasted:435c); Short./Avail.:0.0 /500590.5; Penalty:0; Cash:10011810\n",
      "2020-07-25 09:00:00-> Act.Prod/Pred.:80.0 /14.5 (wasted:655c); Short./Avail.:0.0 /500597.7; Penalty:0; Cash:10011955\n",
      "2020-07-25 10:00:00-> Act.Prod/Pred.:74.0 /29.6 (wasted:444c); Short./Avail.:0.0 /500612.5; Penalty:0; Cash:10012251\n",
      "2020-07-25 11:00:00-> Act.Prod/Pred.:70.7 /9.9 (wasted:609c); Short./Avail.:0.0 /500617.5; Penalty:0; Cash:10012349\n",
      "2020-07-25 12:00:00-> Act.Prod/Pred.:26.3 /45.3 (wasted:0c); Short./Avail.:19.0 /500630.6; Penalty:0; Cash:10012233\n",
      "2020-07-25 13:00:00-> Act.Prod/Pred.:49.3 /27.9 (wasted:214c); Short./Avail.:0.0 /500625.6; Penalty:0; Cash:10012512\n",
      "2020-07-25 14:00:00-> Act.Prod/Pred.:69.2 /6.6 (wasted:626c); Short./Avail.:0.0 /500628.9; Penalty:0; Cash:10012579\n",
      "2020-07-25 15:00:00-> Act.Prod/Pred.:50.7 /0.2 (wasted:506c); Short./Avail.:0.0 /500629.0; Penalty:0; Cash:10012580\n",
      "2020-07-25 16:00:00-> Act.Prod/Pred.:26.7 /19.9 (wasted:69c); Short./Avail.:0.0 /500638.9; Penalty:0; Cash:10012779\n",
      "2020-07-25 17:00:00-> Act.Prod/Pred.:70.5 /0.0 (wasted:705c); Short./Avail.:0.0 /500638.9; Penalty:0; Cash:10012779\n",
      "2020-07-25 18:00:00-> Act.Prod/Pred.:78.0 /1.8 (wasted:761c); Short./Avail.:0.0 /500639.8; Penalty:0; Cash:10012797\n",
      "2020-07-25 19:00:00-> Act.Prod/Pred.:14.1 /5.5 (wasted:85c); Short./Avail.:0.0 /500642.6; Penalty:0; Cash:10012852\n",
      "2020-07-25 20:00:00-> Act.Prod/Pred.:46.5 /47.2 (wasted:0c); Short./Avail.:0.7 /500665.9; Penalty:0; Cash:10013304\n",
      "2020-07-25 21:00:00-> Act.Prod/Pred.:23.4 /8.0 (wasted:154c); Short./Avail.:0.0 /500669.2; Penalty:0; Cash:10013384\n",
      "2020-07-25 22:00:00-> Act.Prod/Pred.:59.6 /10.0 (wasted:496c); Short./Avail.:0.0 /500674.2; Penalty:0; Cash:10013484\n",
      "2020-07-25 23:00:00-> Act.Prod/Pred.:59.3 /20.8 (wasted:385c); Short./Avail.:0.0 /500684.6; Penalty:0; Cash:10013692\n",
      "2020-07-26 00:00:00-> Act.Prod/Pred.:29.2 /43.4 (wasted:0c); Short./Avail.:14.2 /500699.2; Penalty:0; Cash:10013700\n",
      "2020-07-26 01:00:00-> Act.Prod/Pred.:60.2 /36.8 (wasted:235c); Short./Avail.:0.0 /500703.4; Penalty:0; Cash:10014067\n",
      "2020-07-26 02:00:00-> Act.Prod/Pred.:3.9 /15.6 (wasted:0c); Short./Avail.:11.7 /500705.3; Penalty:0; Cash:10013872\n",
      "2020-07-26 03:00:00-> Act.Prod/Pred.:9.7 /45.4 (wasted:0c); Short./Avail.:35.7 /500698.4; Penalty:0; Cash:10013255\n",
      "2020-07-26 04:00:00-> Act.Prod/Pred.:5.1 /42.6 (wasted:0c); Short./Avail.:37.6 /500665.3; Penalty:0; Cash:10012554\n",
      "2020-07-26 05:00:00-> Act.Prod/Pred.:78.6 /37.0 (wasted:417c); Short./Avail.:0.0 /500646.2; Penalty:0; Cash:10012924\n",
      "2020-07-26 06:00:00-> Act.Prod/Pred.:68.4 /48.6 (wasted:198c); Short./Avail.:0.0 /500670.5; Penalty:0; Cash:10013410\n",
      "2020-07-26 07:00:00-> Act.Prod/Pred.:48.3 /36.7 (wasted:116c); Short./Avail.:0.0 /500688.8; Penalty:0; Cash:10013777\n",
      "2020-07-26 08:00:00-> Act.Prod/Pred.:58.9 /40.9 (wasted:180c); Short./Avail.:0.0 /500709.3; Penalty:0; Cash:10014186\n",
      "2020-07-26 09:00:00-> Act.Prod/Pred.:23.4 /17.6 (wasted:57c); Short./Avail.:0.0 /500718.1; Penalty:0; Cash:10014362\n",
      "2020-07-26 10:00:00-> Act.Prod/Pred.:1.7 /27.5 (wasted:0c); Short./Avail.:25.8 /500718.9; Penalty:0; Cash:10013863\n",
      "2020-07-26 11:00:00-> Act.Prod/Pred.:22.5 /26.5 (wasted:0c); Short./Avail.:4.0 /500704.4; Penalty:0; Cash:10014007\n",
      "2020-07-26 12:00:00-> Act.Prod/Pred.:6.3 /0.3 (wasted:60c); Short./Avail.:0.0 /500700.5; Penalty:0; Cash:10014010\n",
      "2020-07-26 13:00:00-> Act.Prod/Pred.:68.0 /29.8 (wasted:382c); Short./Avail.:0.0 /500715.4; Penalty:0; Cash:10014308\n",
      "2020-07-26 14:00:00-> Act.Prod/Pred.:80.0 /43.9 (wasted:361c); Short./Avail.:0.0 /500737.3; Penalty:0; Cash:10014747\n",
      "2020-07-26 15:00:00-> Act.Prod/Pred.:24.2 /37.0 (wasted:0c); Short./Avail.:12.8 /500749.4; Penalty:0; Cash:10014732\n",
      "2020-07-26 16:00:00-> Act.Prod/Pred.:60.6 /16.0 (wasted:446c); Short./Avail.:0.0 /500744.6; Penalty:0; Cash:10014893\n",
      "2020-07-26 17:00:00-> Act.Prod/Pred.:75.9 /34.7 (wasted:413c); Short./Avail.:0.0 /500762.0; Penalty:0; Cash:10015239\n",
      "2020-07-26 18:00:00-> Act.Prod/Pred.:39.3 /34.4 (wasted:49c); Short./Avail.:0.0 /500779.2; Penalty:0; Cash:10015583\n",
      "2020-07-26 19:00:00-> Act.Prod/Pred.:36.7 /36.7 (wasted:0c); Short./Avail.:0.0 /500797.5; Penalty:0; Cash:10015950\n",
      "2020-07-26 20:00:00-> Act.Prod/Pred.:69.1 /35.7 (wasted:334c); Short./Avail.:0.0 /500815.3; Penalty:0; Cash:10016307\n",
      "2020-07-26 21:00:00-> Act.Prod/Pred.:39.3 /9.9 (wasted:294c); Short./Avail.:0.0 /500820.3; Penalty:0; Cash:10016406\n",
      "2020-07-26 22:00:00-> Act.Prod/Pred.:1.2 /37.8 (wasted:0c); Short./Avail.:36.6 /500820.9; Penalty:0; Cash:10015685\n",
      "2020-07-26 23:00:00-> Act.Prod/Pred.:45.2 /17.7 (wasted:275c); Short./Avail.:0.0 /500793.1; Penalty:0; Cash:10015862\n",
      "2020-07-27 00:00:00-> Act.Prod/Pred.:2.6 /11.4 (wasted:0c); Short./Avail.:8.7 /500794.4; Penalty:0; Cash:10015714\n",
      "2020-07-27 01:00:00-> Act.Prod/Pred.:30.8 /40.5 (wasted:0c); Short./Avail.:9.7 /500801.1; Penalty:0; Cash:10015828\n",
      "2020-07-27 02:00:00-> Act.Prod/Pred.:35.9 /29.5 (wasted:64c); Short./Avail.:0.0 /500806.2; Penalty:0; Cash:10016123\n",
      "2020-07-27 03:00:00-> Act.Prod/Pred.:49.8 /14.8 (wasted:350c); Short./Avail.:0.0 /500813.5; Penalty:0; Cash:10016271\n",
      "2020-07-27 04:00:00-> Act.Prod/Pred.:77.7 /4.3 (wasted:734c); Short./Avail.:0.0 /500815.7; Penalty:0; Cash:10016314\n",
      "2020-07-27 05:00:00-> Act.Prod/Pred.:12.1 /2.8 (wasted:93c); Short./Avail.:0.0 /500817.1; Penalty:0; Cash:10016342\n",
      "2020-07-27 06:00:00-> Act.Prod/Pred.:10.5 /2.0 (wasted:85c); Short./Avail.:0.0 /500818.1; Penalty:0; Cash:10016362\n",
      "2020-07-27 07:00:00-> Act.Prod/Pred.:67.4 /46.1 (wasted:213c); Short./Avail.:0.0 /500841.2; Penalty:0; Cash:10016824\n",
      "2020-07-27 08:00:00-> Act.Prod/Pred.:55.2 /14.7 (wasted:405c); Short./Avail.:0.0 /500848.5; Penalty:0; Cash:10016971\n",
      "2020-07-27 09:00:00-> Act.Prod/Pred.:63.5 /23.7 (wasted:399c); Short./Avail.:0.0 /500860.4; Penalty:0; Cash:10017207\n",
      "2020-07-27 10:00:00-> Act.Prod/Pred.:53.0 /42.2 (wasted:108c); Short./Avail.:0.0 /500881.5; Penalty:0; Cash:10017629\n",
      "2020-07-27 11:00:00-> Act.Prod/Pred.:53.4 /7.2 (wasted:462c); Short./Avail.:0.0 /500885.1; Penalty:0; Cash:10017701\n",
      "2020-07-27 12:00:00-> Act.Prod/Pred.:20.2 /43.7 (wasted:0c); Short./Avail.:23.5 /500895.2; Penalty:0; Cash:10017434\n",
      "2020-07-27 13:00:00-> Act.Prod/Pred.:64.0 /4.9 (wasted:591c); Short./Avail.:0.0 /500874.1; Penalty:0; Cash:10017483\n",
      "2020-07-27 14:00:00-> Act.Prod/Pred.:4.9 /40.1 (wasted:0c); Short./Avail.:35.2 /500876.6; Penalty:0; Cash:10016828\n",
      "2020-07-27 15:00:00-> Act.Prod/Pred.:24.1 /37.4 (wasted:0c); Short./Avail.:13.3 /500853.5; Penalty:0; Cash:10016803\n",
      "2020-07-27 16:00:00-> Act.Prod/Pred.:54.8 /16.6 (wasted:382c); Short./Avail.:0.0 /500848.4; Penalty:0; Cash:10016968\n",
      "2020-07-27 17:00:00-> Act.Prod/Pred.:78.7 /30.1 (wasted:485c); Short./Avail.:0.0 /500863.5; Penalty:0; Cash:10017269\n",
      "2020-07-27 18:00:00-> Act.Prod/Pred.:43.3 /31.3 (wasted:120c); Short./Avail.:0.0 /500879.1; Penalty:0; Cash:10017583\n",
      "2020-07-27 19:00:00-> Act.Prod/Pred.:38.7 /11.0 (wasted:277c); Short./Avail.:0.0 /500884.6; Penalty:0; Cash:10017693\n",
      "2020-07-27 20:00:00-> Act.Prod/Pred.:61.1 /31.8 (wasted:293c); Short./Avail.:0.0 /500900.5; Penalty:0; Cash:10018010\n",
      "2020-07-27 21:00:00-> Act.Prod/Pred.:11.7 /41.8 (wasted:0c); Short./Avail.:30.1 /500906.4; Penalty:0; Cash:10017527\n",
      "2020-07-27 22:00:00-> Act.Prod/Pred.:32.1 /37.1 (wasted:0c); Short./Avail.:4.9 /500892.4; Penalty:0; Cash:10017749\n",
      "2020-07-27 23:00:00-> Act.Prod/Pred.:48.6 /36.6 (wasted:120c); Short./Avail.:0.0 /500905.8; Penalty:0; Cash:10018115\n",
      "2020-07-28 00:00:00-> Act.Prod/Pred.:38.8 /10.7 (wasted:281c); Short./Avail.:0.0 /500911.1; Penalty:0; Cash:10018222\n",
      "2020-07-28 01:00:00-> Act.Prod/Pred.:44.5 /34.5 (wasted:101c); Short./Avail.:0.0 /500928.3; Penalty:0; Cash:10018566\n",
      "2020-07-28 02:00:00-> Act.Prod/Pred.:26.6 /41.4 (wasted:0c); Short./Avail.:14.8 /500941.6; Penalty:0; Cash:10018537\n",
      "2020-07-28 03:00:00-> Act.Prod/Pred.:12.7 /1.2 (wasted:115c); Short./Avail.:0.0 /500927.5; Penalty:0; Cash:10018550\n",
      "2020-07-28 04:00:00-> Act.Prod/Pred.:23.6 /17.4 (wasted:62c); Short./Avail.:0.0 /500936.2; Penalty:0; Cash:10018724\n",
      "2020-07-28 05:00:00-> Act.Prod/Pred.:76.5 /14.1 (wasted:624c); Short./Avail.:0.0 /500943.3; Penalty:0; Cash:10018866\n",
      "2020-07-28 06:00:00-> Act.Prod/Pred.:12.4 /39.6 (wasted:0c); Short./Avail.:27.1 /500949.5; Penalty:0; Cash:10018447\n",
      "2020-07-28 07:00:00-> Act.Prod/Pred.:9.9 /2.1 (wasted:78c); Short./Avail.:0.0 /500923.4; Penalty:0; Cash:10018468\n",
      "2020-07-28 08:00:00-> Act.Prod/Pred.:60.7 /15.6 (wasted:452c); Short./Avail.:0.0 /500931.2; Penalty:0; Cash:10018624\n",
      "2020-07-28 09:00:00-> Act.Prod/Pred.:44.8 /26.4 (wasted:184c); Short./Avail.:0.0 /500944.4; Penalty:0; Cash:10018889\n",
      "2020-07-28 10:00:00-> Act.Prod/Pred.:41.1 /21.9 (wasted:192c); Short./Avail.:0.0 /500955.4; Penalty:0; Cash:10019108\n",
      "2020-07-28 11:00:00-> Act.Prod/Pred.:52.9 /39.8 (wasted:131c); Short./Avail.:0.0 /500975.3; Penalty:0; Cash:10019506\n",
      "2020-07-28 12:00:00-> Act.Prod/Pred.:44.1 /9.1 (wasted:349c); Short./Avail.:0.0 /500979.8; Penalty:0; Cash:10019597\n",
      "2020-07-28 13:00:00-> Act.Prod/Pred.:73.8 /2.5 (wasted:713c); Short./Avail.:0.0 /500981.1; Penalty:0; Cash:10019622\n",
      "2020-07-28 14:00:00-> Act.Prod/Pred.:11.7 /32.1 (wasted:0c); Short./Avail.:20.4 /500987.0; Penalty:0; Cash:10019331\n",
      "2020-07-28 15:00:00-> Act.Prod/Pred.:49.6 /8.2 (wasted:413c); Short./Avail.:0.0 /500970.7; Penalty:0; Cash:10019413\n",
      "2020-07-28 16:00:00-> Act.Prod/Pred.:15.1 /10.8 (wasted:43c); Short./Avail.:0.0 /500976.1; Penalty:0; Cash:10019521\n",
      "2020-07-28 17:00:00-> Act.Prod/Pred.:30.5 /32.8 (wasted:0c); Short./Avail.:2.3 /500991.3; Penalty:0; Cash:10019779\n",
      "2020-07-28 18:00:00-> Act.Prod/Pred.:51.9 /21.5 (wasted:304c); Short./Avail.:0.0 /500999.7; Penalty:0; Cash:10019994\n",
      "2020-07-28 19:00:00-> Act.Prod/Pred.:48.3 /1.5 (wasted:468c); Short./Avail.:0.0 /501000.4; Penalty:0; Cash:10020008\n",
      "2020-07-28 20:00:00-> Act.Prod/Pred.:29.2 /44.5 (wasted:0c); Short./Avail.:15.4 /501015.0; Penalty:0; Cash:10019993\n",
      "2020-07-28 21:00:00-> Act.Prod/Pred.:40.7 /4.7 (wasted:360c); Short./Avail.:0.0 /501002.0; Penalty:0; Cash:10020039\n",
      "2020-07-28 22:00:00-> Act.Prod/Pred.:5.2 /28.2 (wasted:0c); Short./Avail.:23.0 /501004.6; Penalty:0; Cash:10019632\n",
      "2020-07-28 23:00:00-> Act.Prod/Pred.:29.1 /49.7 (wasted:0c); Short./Avail.:20.5 /500996.2; Penalty:0; Cash:10019513\n",
      "2020-07-29 00:00:00-> Act.Prod/Pred.:65.7 /39.6 (wasted:261c); Short./Avail.:0.0 /500995.5; Penalty:0; Cash:10019909\n",
      "2020-07-29 01:00:00-> Act.Prod/Pred.:0.2 /15.0 (wasted:0c); Short./Avail.:14.8 /500995.6; Penalty:0; Cash:10019616\n",
      "2020-07-29 02:00:00-> Act.Prod/Pred.:15.2 /15.9 (wasted:0c); Short./Avail.:0.7 /500988.4; Penalty:0; Cash:10019755\n",
      "2020-07-29 03:00:00-> Act.Prod/Pred.:47.4 /32.8 (wasted:146c); Short./Avail.:0.0 /501004.1; Penalty:0; Cash:10020082\n",
      "2020-07-29 04:00:00-> Act.Prod/Pred.:68.9 /16.7 (wasted:522c); Short./Avail.:0.0 /501012.5; Penalty:0; Cash:10020249\n",
      "2020-07-29 05:00:00-> Act.Prod/Pred.:62.5 /0.8 (wasted:617c); Short./Avail.:0.0 /501012.9; Penalty:0; Cash:10020257\n",
      "2020-07-29 06:00:00-> Act.Prod/Pred.:56.5 /32.7 (wasted:239c); Short./Avail.:0.0 /501029.2; Penalty:0; Cash:10020584\n",
      "2020-07-29 07:00:00-> Act.Prod/Pred.:35.7 /26.9 (wasted:89c); Short./Avail.:0.0 /501042.6; Penalty:0; Cash:10020852\n",
      "2020-07-29 08:00:00-> Act.Prod/Pred.:53.9 /31.8 (wasted:221c); Short./Avail.:0.0 /501058.5; Penalty:0; Cash:10021170\n",
      "2020-07-29 09:00:00-> Act.Prod/Pred.:1.1 /19.5 (wasted:0c); Short./Avail.:18.4 /501059.1; Penalty:0; Cash:10020814\n",
      "2020-07-29 10:00:00-> Act.Prod/Pred.:56.1 /5.3 (wasted:508c); Short./Avail.:0.0 /501043.4; Penalty:0; Cash:10020867\n",
      "2020-07-29 11:00:00-> Act.Prod/Pred.:14.0 /48.9 (wasted:0c); Short./Avail.:35.0 /501050.3; Penalty:0; Cash:10020307\n",
      "2020-07-29 12:00:00-> Act.Prod/Pred.:4.7 /45.9 (wasted:0c); Short./Avail.:41.3 /501017.7; Penalty:0; Cash:10019528\n",
      "2020-07-29 13:00:00-> Act.Prod/Pred.:41.1 /3.5 (wasted:376c); Short./Avail.:0.0 /500978.2; Penalty:0; Cash:10019564\n",
      "2020-07-29 14:00:00-> Act.Prod/Pred.:11.0 /6.4 (wasted:47c); Short./Avail.:0.0 /500981.4; Penalty:0; Cash:10019627\n",
      "2020-07-29 15:00:00-> Act.Prod/Pred.:43.2 /46.0 (wasted:0c); Short./Avail.:2.8 /501003.0; Penalty:0; Cash:10020004\n",
      "2020-07-29 16:00:00-> Act.Prod/Pred.:77.3 /14.7 (wasted:626c); Short./Avail.:0.0 /501007.5; Penalty:0; Cash:10020150\n",
      "2020-07-29 17:00:00-> Act.Prod/Pred.:9.7 /20.6 (wasted:0c); Short./Avail.:10.9 /501012.4; Penalty:0; Cash:10020029\n",
      "2020-07-29 18:00:00-> Act.Prod/Pred.:24.0 /48.0 (wasted:0c); Short./Avail.:23.9 /501013.5; Penalty:0; Cash:10019791\n",
      "2020-07-29 19:00:00-> Act.Prod/Pred.:28.6 /49.9 (wasted:0c); Short./Avail.:21.3 /501003.8; Penalty:0; Cash:10019650\n",
      "2020-07-29 20:00:00-> Act.Prod/Pred.:1.0 /32.8 (wasted:0c); Short./Avail.:31.8 /500983.0; Penalty:0; Cash:10019024\n",
      "2020-07-29 21:00:00-> Act.Prod/Pred.:9.8 /1.7 (wasted:81c); Short./Avail.:0.0 /500952.1; Penalty:0; Cash:10019041\n",
      "2020-07-29 22:00:00-> Act.Prod/Pred.:29.1 /10.9 (wasted:182c); Short./Avail.:0.0 /500957.5; Penalty:0; Cash:10019150\n",
      "2020-07-29 23:00:00-> Act.Prod/Pred.:45.9 /13.4 (wasted:325c); Short./Avail.:0.0 /500964.2; Penalty:0; Cash:10019284\n",
      "2020-07-30 00:00:00-> Act.Prod/Pred.:79.8 /3.4 (wasted:764c); Short./Avail.:0.0 /500965.9; Penalty:0; Cash:10019318\n"
     ]
    },
    {
     "data": {
      "text/plain": [
       "19317.629559408873"
      ]
     },
     "execution_count": null,
     "metadata": {},
     "output_type": "execute_result"
    }
   ],
   "source": [
    "Y_pred = 50*np.random.rand(len(trading_hours)) # random predictions in kWh scale [0...80]\n",
    "Y_targ = 80*np.random.rand(len(trading_hours)) # random targets in kWh scale [0...80]\n",
    "\n",
    "trader_simulation(trading_hours,Y_pred,Y_targ,debug=True)"
   ]
  },
  {
   "cell_type": "code",
   "execution_count": null,
   "metadata": {},
   "outputs": [],
   "source": [
    "INITIAL_CASH = 10000000 # euro cents, starting capital\n",
    "SALE_PRICE = 10 # cents\n",
    "SPOT_PRICE = 20 # cents\n",
    "PENALTY_PRICE = 100 # cents\n",
    "\n",
    "profits = []\n",
    "for k in range(1000):\n",
    "    Y_pred = 50*np.random.rand(len(trading_hours)) # random predictions in kWh scale [0...80]\n",
    "    Y_targ = 80*np.random.rand(len(trading_hours)) # random targets in kWh scale [0...80]\n",
    "    profits.append(trader_simulation(trading_hours,Y_pred,Y_targ))"
   ]
  },
  {
   "cell_type": "code",
   "execution_count": null,
   "metadata": {},
   "outputs": [
    {
     "data": {
      "text/plain": [
       "Text(0.5, 1.0, ' Avr. Profits: 22505.564920285815')"
      ]
     },
     "execution_count": null,
     "metadata": {},
     "output_type": "execute_result"
    },
    {
     "data": {
      "image/png": "[encoded data removed]",
      "text/plain": [
       "<Figure size 432x288 with 1 Axes>"
      ]
     },
     "metadata": {
      "needs_background": "light"
     },
     "output_type": "display_data"
    }
   ],
   "source": [
    "plt.hist(profits,bins=100)\n",
    "plt.title(f' Avr. Profits: {(np.mean(profits))}')"
   ]
  },
  {
   "cell_type": "code",
   "execution_count": null,
   "metadata": {},
   "outputs": [
    {
     "data": {
      "text/plain": [
       "34170.83038805798"
      ]
     },
     "execution_count": null,
     "metadata": {},
     "output_type": "execute_result"
    }
   ],
   "source": [
    "max(profits)"
   ]
  },
  {
   "cell_type": "code",
   "execution_count": null,
   "metadata": {},
   "outputs": [],
   "source": []
  }
 ],
 "metadata": {
  "kernelspec": {
   "display_name": "Python [conda env:pytorch]",
   "language": "python",
   "name": "conda-env-pytorch-py"
  }
 },
 "nbformat": 4,
 "nbformat_minor": 2
}
