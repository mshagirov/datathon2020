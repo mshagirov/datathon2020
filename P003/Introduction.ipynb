{
 "cells": [
  {
   "cell_type": "markdown",
   "metadata": {},
   "source": [
    "# Wind Energy Production Forecasting"
   ]
  },
  {
   "cell_type": "markdown",
   "metadata": {},
   "source": [
    "- Wind energy production/amount is a function of _wind speed_ and its _direction_.\n",
    " - forecast amount will sold to the grid operator\n",
    " - the grid operator fines if there's shortfall from forecast\n",
    " - excess is wasted\n",
    "- Grid operator **(buys , 10 euro cents/kWh)**, enforces fines if there's a shortfall by the energy producer\n",
    "- Spot market price for energy **(sells, 20 euro cents)**\n",
    "\n",
    "__Objective__\n",
    "- Our goal is to get a _T+18 hour energy forecast_ , _every hour_ . Our objective, as a trader, is to maximize profits for our client using our energy production forecast and the given trading algorithm (this alg-m is fixed for simplicity).\n"
   ]
  },
  {
   "cell_type": "markdown",
   "metadata": {},
   "source": [
    "## Trade:\n",
    "1. Produce a forecast\n",
    "    - Excess is wasted (i.e. 0cents/kWh)\n",
    "    - Shortfall is covered by trader (we need to buy this amount from spot market, _if we have cash in hand_ ):\n",
    "        - buy 20cents/kWh\n",
    "    - If there's no money to buy:\n",
    "        - If _cash in hand_ is lower than required to purchase the shortfall amount\n",
    "        - We are fined by grid 100cents/kWh\n",
    "        - Recorded as a negative value (debt), and it's cumulative.\n",
    "1. Starting budget 10,000,000 cents\n",
    "1. Need to return 10,000,000 cents at the end of the evaluation period.\n",
    "1. The remainder is our client's profits. Our objective is to maximise this profit."
   ]
  },
  {
   "cell_type": "markdown",
   "metadata": {},
   "source": [
    "## Datasets and Sources\n",
    "Datasets:\n",
    "1. Wind Energy Production \\[src : Réseau de transport d'électricité [(RTE)](https://www.rte-france.com/), the French electricity transmission system operator\\]\n",
    "    - **We average and standardise to a time base of 1 hour** a near-realtime wind energy data from RTE's online database.\n",
    "    - The dataset is called `energy-ile-de-france` (contains the consolidated energy wind production for the Ile-de-France region surrounding Paris)\n",
    "2. Wind Forecasts \\[src : [Terra Weather](http://www.terra-weather.com)\\]\n",
    "    - Provided are _wind forecasts for 8 locations_ of major wind farms in the Ile-de-France region.\n",
    "\n"
   ]
  },
  {
   "cell_type": "markdown",
   "metadata": {},
   "source": [
    "### Wind Energy Production Data\n",
    "- The provided data is __from 01 Jan 2017 to the present__.\n",
    "- The energy production values are in __kWh__ units.\n",
    "- The dataset is called `energy-ile-de-france`, and contains _standardised 1 hourly values_."
   ]
  },
  {
   "cell_type": "markdown",
   "metadata": {},
   "source": [
    "Following are for downloading regional energy production _raw data for Ile-de-France_ :\n",
    "- Downloading \"Current real-time data\" from RTE website (in ipython/notebook, in terminal remove \"`!`\" character):\n",
    "```\n",
    "!wget https://eco2mix.rte-france.com/download/eco2mix/eCO2mix_RTE_Ile-de-France_En-cours-TR.zip\n",
    "!unzip eCO2mix_RTE_Ile-de-France_En-cours-TR.zip\n",
    "```\n",
    "- Links for each year/period:\n",
    "    - **2017** (\"Definitive data for the year 2017\"):<br>\n",
    "    `https://eco2mix.rte-france.com/download/eco2mix/eCO2mix_RTE_Ile-de-France_Annuel-Definitif_2017.zip`\n",
    "    - **2018** (\"Definitive data for the year 2018\"):<br>\n",
    "    `https://eco2mix.rte-france.com/download/eco2mix/eCO2mix_RTE_Ile-de-France_Annuel-Definitif_2018.zip`\n",
    "    - **01/01/2019-31/05/2020** (\"Current consolidated data\"):<br>\n",
    "    `https://eco2mix.rte-france.com/download/eco2mix/eCO2mix_RTE_Ile-de-France_En-cours-Consolide.zip`\n",
    "    - **01/06/2020-09/07/2020** (\"Current real-time data\"):<br>\n",
    "    `https://eco2mix.rte-france.com/download/eco2mix/eCO2mix_RTE_Ile-de-France_En-cours-TR.zip`\n",
    "\n",
    "The \"Current consolidated data\" and \"Current real-time data\" could change which dates it contain depending on when you are downloading them.\n",
    "\n",
    "In the files above look for column \"Eolien\" (\"wind\" in French).\n",
    "\n",
    "---\n",
    "From RTE website:<br>\n",
    ">During the course of the following month, the indicators are consolidated to include available metering data. During the first six months of the following year, the indicators are finalized with the latest metering data and become definitive.\n",
    "\n",
    "---"
   ]
  },
  {
   "cell_type": "code",
   "execution_count": null,
   "metadata": {},
   "outputs": [],
   "source": [
    "import urllib.request, zipfile, os\n",
    "\n",
    "# for Ile-de-France\n",
    "wind_energy_urls = {\"2017\":\"https://eco2mix.rte-france.com/download/eco2mix/eCO2mix_RTE_Ile-de-France_Annuel-Definitif_2017.zip\",\n",
    "                    \"2018\":\"https://eco2mix.rte-france.com/download/eco2mix/eCO2mix_RTE_Ile-de-France_Annuel-Definitif_2018.zip\",\n",
    "                    \"2019_May2020\":\"https://eco2mix.rte-france.com/download/eco2mix/eCO2mix_RTE_Ile-de-France_En-cours-Consolide.zip\",\n",
    "                    \"real_time\":\"https://eco2mix.rte-france.com/download/eco2mix/eCO2mix_RTE_Ile-de-France_En-cours-TR.zip\"}"
   ]
  },
  {
   "cell_type": "code",
   "execution_count": null,
   "metadata": {},
   "outputs": [
    {
     "name": "stdout",
     "output_type": "stream",
     "text": [
      "Downloading\n",
      "\"eCO2mix_RTE_Ile-de-France_En-cours-TR.zip\" from\n",
      "\"https://eco2mix.rte-france.com/download/eco2mix/eCO2mix_RTE_Ile-de-France_En-cours-TR.zip\"\n",
      "\n",
      "Extracting:\n",
      "datasets/eCO2mix_RTE_Ile-de-France_En-cours-TR.zip in \"datasets\"\n",
      "- - - - - \n",
      "File Name                                             Modified             Size\n",
      "eCO2mix_RTE_Ile-de-France_En-cours-TR.xls      2020-07-10 09:31:12       872220\n",
      "- - - - - \n",
      "Deleting\n",
      "datasets/eCO2mix_RTE_Ile-de-France_En-cours-TR.zip\n"
     ]
    }
   ],
   "source": [
    "RTE_data_name = 'real_time'\n",
    "# Download and extract to ./datasets folder\n",
    "data_path =os.path.relpath('./datasets')\n",
    "\n",
    "# download the current data +/-15mins sometimes even later\n",
    "zip_file_name = wind_energy_urls[RTE_data_name].split('/')[-1]\n",
    "\n",
    "print(f'Downloading\\n\\\"{zip_file_name}\\\" from\\n\\\"{wind_energy_urls[RTE_data_name]}\\\"\\n')\n",
    "\n",
    "zip_file_name,_ = urllib.request.urlretrieve(wind_energy_urls[RTE_data_name],\n",
    "filename=os.path.join(data_path,zip_file_name))\n",
    "\n",
    "# unzip\n",
    "with zipfile.ZipFile(zip_file_name, 'r') as zip_ref:\n",
    "    print(f'Extracting:\\n{zip_file_name} in \\\"{data_path}\\\"\\n'+5*'- ')\n",
    "    # file modification date and time: zip_ref.filelist[0].date_time\n",
    "    zip_ref.printdir()\n",
    "    zip_ref.extractall(data_path)\n",
    "\n",
    "if os.path.exists(zip_file_name):\n",
    "    print(+5*'- '+f'\\nDeleting\\n{zip_file_name}')\n",
    "    os.remove(zip_file_name)"
   ]
  },
  {
   "cell_type": "code",
   "execution_count": null,
   "metadata": {},
   "outputs": [
    {
     "name": "stdout",
     "output_type": "stream",
     "text": [
      "eCO2mix_RTE_Ile-de-France_Annuel-Definitif_2017.xls\r\n",
      "eCO2mix_RTE_Ile-de-France_Annuel-Definitif_2018.xls\r\n",
      "eCO2mix_RTE_Ile-de-France_En-cours-Consolide.xls\r\n",
      "eCO2mix_RTE_Ile-de-France_En-cours-TR.xls\r\n"
     ]
    }
   ],
   "source": [
    "ls ./datasets/"
   ]
  },
  {
   "cell_type": "code",
   "execution_count": null,
   "metadata": {},
   "outputs": [],
   "source": [
    "import pandas as pd, numpy as np\n",
    "df = pd.read_csv(\"./datasets/eCO2mix_RTE_Ile-de-France_En-cours-TR.xls\",sep='\\t',\n",
    "                 header=0,encoding='latin',index_col=False,parse_dates=[['Date', 'Heures']],na_values=['-','ND'])\n",
    "\n",
    "df\n",
    "# remove the footer\n",
    "df = df.iloc[:-1]\n",
    "# set index as Datetime\n",
    "df['Datetime'] = pd.to_datetime(df['Date_Heures'])\n",
    "df.set_index('Datetime',inplace=True)"
   ]
  },
  {
   "cell_type": "code",
   "execution_count": null,
   "metadata": {},
   "outputs": [
    {
     "data": {
      "text/html": [
       "<div>\n",
       "<style scoped>\n",
       "    .dataframe tbody tr th:only-of-type {\n",
       "        vertical-align: middle;\n",
       "    }\n",
       "\n",
       "    .dataframe tbody tr th {\n",
       "        vertical-align: top;\n",
       "    }\n",
       "\n",
       "    .dataframe thead th {\n",
       "        text-align: right;\n",
       "    }\n",
       "</style>\n",
       "<table border=\"1\" class=\"dataframe\">\n",
       "  <thead>\n",
       "    <tr style=\"text-align: right;\">\n",
       "      <th></th>\n",
       "      <th>Date_Heures</th>\n",
       "      <th>Périmètre</th>\n",
       "      <th>Nature</th>\n",
       "      <th>Consommation</th>\n",
       "      <th>Thermique</th>\n",
       "      <th>Nucléaire</th>\n",
       "      <th>Eolien</th>\n",
       "      <th>Solaire</th>\n",
       "      <th>Hydraulique</th>\n",
       "      <th>Pompage</th>\n",
       "      <th>...</th>\n",
       "      <th>TCH Nucléaire (%)</th>\n",
       "      <th>TCO Eolien (%)</th>\n",
       "      <th>TCH Eolien (%)</th>\n",
       "      <th>TCO Solaire (%)</th>\n",
       "      <th>TCH Solaire (%)</th>\n",
       "      <th>TCO Hydraulique (%)</th>\n",
       "      <th>TCH Hydraulique (%)</th>\n",
       "      <th>TCO Bioénergies (%)</th>\n",
       "      <th>TCH Bioénergies (%)</th>\n",
       "      <th>Unnamed: 63</th>\n",
       "    </tr>\n",
       "    <tr>\n",
       "      <th>Datetime</th>\n",
       "      <th></th>\n",
       "      <th></th>\n",
       "      <th></th>\n",
       "      <th></th>\n",
       "      <th></th>\n",
       "      <th></th>\n",
       "      <th></th>\n",
       "      <th></th>\n",
       "      <th></th>\n",
       "      <th></th>\n",
       "      <th></th>\n",
       "      <th></th>\n",
       "      <th></th>\n",
       "      <th></th>\n",
       "      <th></th>\n",
       "      <th></th>\n",
       "      <th></th>\n",
       "      <th></th>\n",
       "      <th></th>\n",
       "      <th></th>\n",
       "      <th></th>\n",
       "    </tr>\n",
       "  </thead>\n",
       "  <tbody>\n",
       "    <tr>\n",
       "      <td>2020-06-01 00:00:00</td>\n",
       "      <td>2020-06-01 00:00</td>\n",
       "      <td>Ile-de-France</td>\n",
       "      <td>Données temps réel</td>\n",
       "      <td>5886.0</td>\n",
       "      <td>13.0</td>\n",
       "      <td>NaN</td>\n",
       "      <td>47.0</td>\n",
       "      <td>0.0</td>\n",
       "      <td>6.0</td>\n",
       "      <td>NaN</td>\n",
       "      <td>...</td>\n",
       "      <td>NaN</td>\n",
       "      <td>0.80</td>\n",
       "      <td>52.81</td>\n",
       "      <td>0.0</td>\n",
       "      <td>0.0</td>\n",
       "      <td>0.10</td>\n",
       "      <td>30.0</td>\n",
       "      <td>2.11</td>\n",
       "      <td>38.87</td>\n",
       "      <td>NaN</td>\n",
       "    </tr>\n",
       "    <tr>\n",
       "      <td>2020-06-01 00:15:00</td>\n",
       "      <td>2020-06-01 00:15</td>\n",
       "      <td>Ile-de-France</td>\n",
       "      <td>Données temps réel</td>\n",
       "      <td>5783.0</td>\n",
       "      <td>12.0</td>\n",
       "      <td>NaN</td>\n",
       "      <td>46.0</td>\n",
       "      <td>0.0</td>\n",
       "      <td>6.0</td>\n",
       "      <td>NaN</td>\n",
       "      <td>...</td>\n",
       "      <td>NaN</td>\n",
       "      <td>0.80</td>\n",
       "      <td>51.69</td>\n",
       "      <td>0.0</td>\n",
       "      <td>0.0</td>\n",
       "      <td>0.10</td>\n",
       "      <td>30.0</td>\n",
       "      <td>2.13</td>\n",
       "      <td>38.56</td>\n",
       "      <td>NaN</td>\n",
       "    </tr>\n",
       "    <tr>\n",
       "      <td>2020-06-01 00:30:00</td>\n",
       "      <td>2020-06-01 00:30</td>\n",
       "      <td>Ile-de-France</td>\n",
       "      <td>Données temps réel</td>\n",
       "      <td>5653.0</td>\n",
       "      <td>12.0</td>\n",
       "      <td>NaN</td>\n",
       "      <td>46.0</td>\n",
       "      <td>0.0</td>\n",
       "      <td>6.0</td>\n",
       "      <td>NaN</td>\n",
       "      <td>...</td>\n",
       "      <td>NaN</td>\n",
       "      <td>0.81</td>\n",
       "      <td>51.69</td>\n",
       "      <td>0.0</td>\n",
       "      <td>0.0</td>\n",
       "      <td>0.11</td>\n",
       "      <td>30.0</td>\n",
       "      <td>2.19</td>\n",
       "      <td>38.87</td>\n",
       "      <td>NaN</td>\n",
       "    </tr>\n",
       "    <tr>\n",
       "      <td>2020-06-01 00:45:00</td>\n",
       "      <td>2020-06-01 00:45</td>\n",
       "      <td>Ile-de-France</td>\n",
       "      <td>Données temps réel</td>\n",
       "      <td>5369.0</td>\n",
       "      <td>12.0</td>\n",
       "      <td>NaN</td>\n",
       "      <td>46.0</td>\n",
       "      <td>0.0</td>\n",
       "      <td>6.0</td>\n",
       "      <td>NaN</td>\n",
       "      <td>...</td>\n",
       "      <td>NaN</td>\n",
       "      <td>0.86</td>\n",
       "      <td>51.69</td>\n",
       "      <td>0.0</td>\n",
       "      <td>0.0</td>\n",
       "      <td>0.11</td>\n",
       "      <td>30.0</td>\n",
       "      <td>2.27</td>\n",
       "      <td>38.24</td>\n",
       "      <td>NaN</td>\n",
       "    </tr>\n",
       "    <tr>\n",
       "      <td>2020-06-01 01:00:00</td>\n",
       "      <td>2020-06-01 01:00</td>\n",
       "      <td>Ile-de-France</td>\n",
       "      <td>Données temps réel</td>\n",
       "      <td>5174.0</td>\n",
       "      <td>13.0</td>\n",
       "      <td>NaN</td>\n",
       "      <td>50.0</td>\n",
       "      <td>0.0</td>\n",
       "      <td>6.0</td>\n",
       "      <td>NaN</td>\n",
       "      <td>...</td>\n",
       "      <td>NaN</td>\n",
       "      <td>0.97</td>\n",
       "      <td>56.18</td>\n",
       "      <td>0.0</td>\n",
       "      <td>0.0</td>\n",
       "      <td>0.12</td>\n",
       "      <td>30.0</td>\n",
       "      <td>2.38</td>\n",
       "      <td>38.56</td>\n",
       "      <td>NaN</td>\n",
       "    </tr>\n",
       "  </tbody>\n",
       "</table>\n",
       "<p>5 rows × 63 columns</p>\n",
       "</div>"
      ],
      "text/plain": [
       "                          Date_Heures      Périmètre              Nature  \\\n",
       "Datetime                                                                   \n",
       "2020-06-01 00:00:00  2020-06-01 00:00  Ile-de-France  Données temps réel   \n",
       "2020-06-01 00:15:00  2020-06-01 00:15  Ile-de-France  Données temps réel   \n",
       "2020-06-01 00:30:00  2020-06-01 00:30  Ile-de-France  Données temps réel   \n",
       "2020-06-01 00:45:00  2020-06-01 00:45  Ile-de-France  Données temps réel   \n",
       "2020-06-01 01:00:00  2020-06-01 01:00  Ile-de-France  Données temps réel   \n",
       "\n",
       "                     Consommation  Thermique  Nucléaire  Eolien  Solaire  \\\n",
       "Datetime                                                                   \n",
       "2020-06-01 00:00:00        5886.0       13.0        NaN    47.0      0.0   \n",
       "2020-06-01 00:15:00        5783.0       12.0        NaN    46.0      0.0   \n",
       "2020-06-01 00:30:00        5653.0       12.0        NaN    46.0      0.0   \n",
       "2020-06-01 00:45:00        5369.0       12.0        NaN    46.0      0.0   \n",
       "2020-06-01 01:00:00        5174.0       13.0        NaN    50.0      0.0   \n",
       "\n",
       "                     Hydraulique  Pompage  ...  TCH Nucléaire (%)  \\\n",
       "Datetime                                   ...                      \n",
       "2020-06-01 00:00:00          6.0      NaN  ...                NaN   \n",
       "2020-06-01 00:15:00          6.0      NaN  ...                NaN   \n",
       "2020-06-01 00:30:00          6.0      NaN  ...                NaN   \n",
       "2020-06-01 00:45:00          6.0      NaN  ...                NaN   \n",
       "2020-06-01 01:00:00          6.0      NaN  ...                NaN   \n",
       "\n",
       "                     TCO Eolien (%)  TCH Eolien (%)  TCO Solaire (%)  \\\n",
       "Datetime                                                               \n",
       "2020-06-01 00:00:00            0.80           52.81              0.0   \n",
       "2020-06-01 00:15:00            0.80           51.69              0.0   \n",
       "2020-06-01 00:30:00            0.81           51.69              0.0   \n",
       "2020-06-01 00:45:00            0.86           51.69              0.0   \n",
       "2020-06-01 01:00:00            0.97           56.18              0.0   \n",
       "\n",
       "                     TCH Solaire (%)  TCO Hydraulique (%)  \\\n",
       "Datetime                                                    \n",
       "2020-06-01 00:00:00              0.0                 0.10   \n",
       "2020-06-01 00:15:00              0.0                 0.10   \n",
       "2020-06-01 00:30:00              0.0                 0.11   \n",
       "2020-06-01 00:45:00              0.0                 0.11   \n",
       "2020-06-01 01:00:00              0.0                 0.12   \n",
       "\n",
       "                     TCH Hydraulique (%)  TCO Bioénergies (%)  \\\n",
       "Datetime                                                        \n",
       "2020-06-01 00:00:00                 30.0                 2.11   \n",
       "2020-06-01 00:15:00                 30.0                 2.13   \n",
       "2020-06-01 00:30:00                 30.0                 2.19   \n",
       "2020-06-01 00:45:00                 30.0                 2.27   \n",
       "2020-06-01 01:00:00                 30.0                 2.38   \n",
       "\n",
       "                     TCH Bioénergies (%)  Unnamed: 63  \n",
       "Datetime                                               \n",
       "2020-06-01 00:00:00                38.87          NaN  \n",
       "2020-06-01 00:15:00                38.56          NaN  \n",
       "2020-06-01 00:30:00                38.87          NaN  \n",
       "2020-06-01 00:45:00                38.24          NaN  \n",
       "2020-06-01 01:00:00                38.56          NaN  \n",
       "\n",
       "[5 rows x 63 columns]"
      ]
     },
     "execution_count": null,
     "metadata": {},
     "output_type": "execute_result"
    }
   ],
   "source": [
    "df.head()"
   ]
  },
  {
   "cell_type": "code",
   "execution_count": null,
   "metadata": {},
   "outputs": [
    {
     "name": "stdout",
     "output_type": "stream",
     "text": [
      "Latest timestamp for wind energy:\n",
      "2020-07-10 09:15:00\n"
     ]
    },
    {
     "data": {
      "text/plain": [
       "Datetime\n",
       "2020-07-10 07:00:00     9.0\n",
       "2020-07-10 07:15:00    14.0\n",
       "2020-07-10 07:30:00    18.0\n",
       "2020-07-10 07:45:00    13.0\n",
       "2020-07-10 08:00:00    12.0\n",
       "2020-07-10 08:15:00    14.0\n",
       "2020-07-10 08:30:00    18.0\n",
       "2020-07-10 08:45:00    25.0\n",
       "2020-07-10 09:00:00    24.0\n",
       "2020-07-10 09:15:00    16.0\n",
       "Name: Eolien, dtype: float64"
      ]
     },
     "execution_count": null,
     "metadata": {},
     "output_type": "execute_result"
    }
   ],
   "source": [
    "tmstamp = df[np.logical_not(df['Eolien'].isna())].index[-1]\n",
    "print(f'Latest timestamp for wind energy:\\n{tmstamp}')\n",
    "df['Eolien'][np.logical_not(df['Eolien'].isna())].tail(10)"
   ]
  },
  {
   "cell_type": "code",
   "execution_count": null,
   "metadata": {},
   "outputs": [],
   "source": [
    "df['Eolien'][np.logical_not(df['Eolien'].isna())].plot();"
   ]
  },
  {
   "cell_type": "markdown",
   "metadata": {},
   "source": [
    "### Wind Forecasts Data\n"
   ]
  },
  {
   "cell_type": "code",
   "execution_count": null,
   "metadata": {},
   "outputs": [],
   "source": []
  },
  {
   "cell_type": "markdown",
   "metadata": {},
   "source": [
    "## Trader"
   ]
  },
  {
   "cell_type": "code",
   "execution_count": null,
   "metadata": {},
   "outputs": [],
   "source": [
    "import pandas as pd\n",
    "import numpy as np\n",
    "from matplotlib import pyplot as plt"
   ]
  },
  {
   "cell_type": "code",
   "execution_count": null,
   "metadata": {},
   "outputs": [
    {
     "name": "stdout",
     "output_type": "stream",
     "text": [
      "Trading hours (total):241, [start:2020-07-20 00:00:00 ---> end:2020-07-30 00:00:00]\n"
     ]
    }
   ],
   "source": [
    "trading_hours = pd.date_range(start=pd.to_datetime('20-07-2020'),\n",
    "                              end=pd.to_datetime('30-07-2020'),freq='h')\n",
    "print(f'Trading hours (total):{len(trading_hours)}, [start:{str(trading_hours[0])} ---> end:{str(trading_hours[-1])}]')"
   ]
  },
  {
   "cell_type": "code",
   "execution_count": null,
   "metadata": {},
   "outputs": [],
   "source": [
    "from trader import trader_simulation"
   ]
  },
  {
   "cell_type": "code",
   "execution_count": null,
   "metadata": {},
   "outputs": [],
   "source": [
    "INITIAL_CASH = 10000000 # euro cents, starting capital\n",
    "SALE_PRICE = 10 # cents\n",
    "SPOT_PRICE = 20 # cents\n",
    "PENALTY_PRICE = 100 # cents\n",
    "\n",
    "profits = []\n",
    "for k in range(100):\n",
    "    Y_pred = 50*np.random.rand(len(trading_hours)) # random predictions in kWh scale [0...80]\n",
    "    Y_targ = 80*np.random.rand(len(trading_hours)) # random targets in kWh scale [0...80]\n",
    "    profits.append(trader_simulation(trading_hours,Y_pred,Y_targ))"
   ]
  },
  {
   "cell_type": "code",
   "execution_count": null,
   "metadata": {},
   "outputs": [
    {
     "data": {
      "text/plain": [
       "Text(0.5, 1.0, ' Avr. Profits: 22394.827073060536')"
      ]
     },
     "execution_count": null,
     "metadata": {},
     "output_type": "execute_result"
    },
    {
     "data": {
      "image/png": "[encoded data removed]",
      "text/plain": [
       "<Figure size 432x288 with 1 Axes>"
      ]
     },
     "metadata": {
      "needs_background": "light"
     },
     "output_type": "display_data"
    }
   ],
   "source": [
    "plt.hist(profits)\n",
    "plt.title(f' Avr. Profits: {(np.mean(profits))}')"
   ]
  },
  {
   "cell_type": "code",
   "execution_count": null,
   "metadata": {},
   "outputs": [],
   "source": []
  }
 ],
 "metadata": {
  "kernelspec": {
   "display_name": "Python [conda env:pytorch]",
   "language": "python",
   "name": "conda-env-pytorch-py"
  }
 },
 "nbformat": 4,
 "nbformat_minor": 2
}
