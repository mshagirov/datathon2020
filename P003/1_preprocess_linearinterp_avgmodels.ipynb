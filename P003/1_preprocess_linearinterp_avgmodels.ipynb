{
 "cells": [
  {
   "cell_type": "markdown",
   "metadata": {},
   "source": [
    "# Preprocess Datasets and Extract Features: linearinterp_avgmodels\n",
    "> Feature engineering notebook\n",
    "\n",
    "Dataset columns (same convention as the lab1):\n",
    "\n",
    "| Col1 | Col2 | Col3 | Col3 | $\\dots$ |\n",
    "|------|------|------|------|---------|\n",
    "| $Y$  |$Y_0$ | $X_1$| $X_2$| $\\dots$ |\n",
    "\n",
    "- $Y$ : labels or target values, in our case $Y(T+18)$\n",
    "- $Y_0$ : present value $Y(T+0)$\n",
    "- $X_1$, $X_2$, $\\dots$ : other features\n"
   ]
  },
  {
   "cell_type": "markdown",
   "metadata": {},
   "source": [
    "* **Baselines**: use only Y(t): energy as features\n",
    "    * [x] Naive windows VS Diff windows (step=1): window_size \\[20, 40, 80\\]\n",
    "* **Wind Speed** Forecast:\n",
    "    * [x] Wind speed forecast X(T+18 ): for each location speed*(sin^2+cos^2) --> 8 additional features\n",
    "    * [x] Wind speed forecast X(T+18 ) for 8 loc-s + diffWindows Y(T) \\[20,40\\]\n",
    "* **Wind Speed Differences**:\n",
    "    * [x] diffWindows Y(T) + Wind speed (T+18, T+0) + naiveWindow X(T)\n",
    "    * [x] diffWindows Y(T) + Wind speed (T+18, T+0) + diffWindows X(T) \\[T+0,T-1,...\\] w=20, w=40\n",
    "* **Wind Speed Differences w/ step**:\n",
    "    * [ ] step_diffWindows Y(T) + Wind speed (T+18, T+0) + step_diffWindows X(T) w=20, 40\n",
    "* Next:\n",
    "    * [ ] Wind speed + **direction** (T+0 and past): sin, cos for each loc-n --> 16 additional features\n",
    "    * [ ] Encoding schemes e.g. positional encoding of Y and X values. \n",
    "    * [ ] Momentum,Force (step=1, 4, 9, 18) \\[Fine tuning\\]\n",
    "    * [ ] Separate Forecast Models\n",
    "    * [ ] Nearest neighbour interpolation dataset\n",
    "    * [ ] what else?"
   ]
  },
  {
   "cell_type": "markdown",
   "metadata": {},
   "source": [
    "\\[ TRAIN/TEST SPLIT IS DONE AFTER PREPROCESSING FEATURES \\]"
   ]
  },
  {
   "cell_type": "code",
   "execution_count": 1,
   "metadata": {},
   "outputs": [],
   "source": [
    "%load_ext autoreload\n",
    "%autoreload 2"
   ]
  },
  {
   "cell_type": "code",
   "execution_count": 2,
   "metadata": {},
   "outputs": [
    {
     "name": "stdout",
     "output_type": "stream",
     "text": [
      "Not in /P003 folder, changing directory to P003\n"
     ]
    }
   ],
   "source": [
    "#For running in JupyterHub:\n",
    "import os\n",
    "if os.path.basename(os.getcwd())!='P003':\n",
    "    print('Not in /P003 folder, changing directory to P003')\n",
    "    lib_path = os.path.expanduser(os.path.relpath('~/images/codesDIR/datathon2020/P003'))\n",
    "    os.chdir(lib_path)"
   ]
  },
  {
   "cell_type": "code",
   "execution_count": 3,
   "metadata": {},
   "outputs": [],
   "source": [
    "import numpy as np\n",
    "from matplotlib import pyplot as plt\n",
    "import matplotlib\n",
    "plt.style.use('ggplot')\n",
    "\n",
    "%matplotlib inline\n",
    "matplotlib.rcParams['figure.figsize'] = (12,8)\n",
    "# matplotlib.rcParams['font.size']= 22 # use for presentation"
   ]
  },
  {
   "cell_type": "code",
   "execution_count": 4,
   "metadata": {},
   "outputs": [],
   "source": [
    "from src.datautils import windowed_data, windowed_diff_data, windowed_diff_with_step, windowed_momentum_force\n",
    "# or\n",
    "# from datautils import windowed_data"
   ]
  },
  {
   "cell_type": "markdown",
   "metadata": {},
   "source": [
    "## Constants"
   ]
  },
  {
   "cell_type": "code",
   "execution_count": 5,
   "metadata": {
    "scrolled": true
   },
   "outputs": [
    {
     "name": "stdout",
     "output_type": "stream",
     "text": [
      "> We will be using train/test: 95% / 5% split.\n",
      "\n",
      "> Preprocessed data will be saved in `../../../dataDIR/preprocessed_linearinterp_avgmodels`\n",
      "\n",
      "> Lead time is set to T+18\n",
      "\n"
     ]
    }
   ],
   "source": [
    "import os\n",
    "\n",
    "# Train% / Test% :\n",
    "TRAIN_PERCENT = 95\n",
    "TEST_PERCENT = 100-TRAIN_PERCENT\n",
    "print(f\"> We will be using train/test: {TRAIN_PERCENT}% / {TEST_PERCENT}% split.\\n\")\n",
    "\n",
    "# Path for Datasets:\n",
    "# all preprocessed data will be saved in `data_path`\n",
    "data_path = os.path.relpath('../../../dataDIR/'+'preprocessed_linearinterp_avgmodels')\n",
    "print(f'> Preprocessed data will be saved in `{data_path}`\\n')\n",
    "\n",
    "# Lead Time :\n",
    "lead_time = 18 # T+18\n",
    "print(f'> Lead time is set to T+{lead_time}\\n')"
   ]
  },
  {
   "cell_type": "markdown",
   "metadata": {},
   "source": [
    "## Import Normalised Dataset (not yet split)"
   ]
  },
  {
   "cell_type": "code",
   "execution_count": 6,
   "metadata": {},
   "outputs": [],
   "source": [
    "# full dataset\n",
    "with open('norm_linearinterp_avgmodels.npy', 'rb') as f:\n",
    "    data_norm = np.load(f) # columns (all normalised): Energy, loc1_sin, loc1_cos, ...,loc8_sin, loc8_cos"
   ]
  },
  {
   "cell_type": "code",
   "execution_count": 7,
   "metadata": {},
   "outputs": [],
   "source": [
    "# plt.plot(data_norm[lead_time:,0],'-',label=f'T+{lead_time}',alpha=.5)\n",
    "# plt.plot(data_norm[:-lead_time,0],'-',label=f'T+0',alpha=.3)\n",
    "# plt.axis([9000,10000,-.5,2])\n",
    "# plt.legend()"
   ]
  },
  {
   "cell_type": "markdown",
   "metadata": {},
   "source": [
    "## Using Only Energy as Features: Y(t)\n",
    "* Try out window sizes\n",
    "* Differences with step sizes etc."
   ]
  },
  {
   "cell_type": "markdown",
   "metadata": {},
   "source": [
    "- Revision video: [Session 3: The Prediction Pipeline](https://youtu.be/4W6-48wXXEc?t=1246)"
   ]
  },
  {
   "cell_type": "markdown",
   "metadata": {},
   "source": [
    "number of samples in normalized datasets"
   ]
  },
  {
   "cell_type": "markdown",
   "metadata": {
    "heading_collapsed": true
   },
   "source": [
    "### Naive Window as Features\n",
    "- Dataset with window width `window_size`; columns:`[Y(T+lead_time), Y(T+0), ...,Y(T-window_size+1)]` \n",
    "\n",
    "write train/test datasets to :\n",
    "- `train_preprocessed_naivewin{}.npy` and\n",
    "- `test_preprocessed_naivewin{}.npy`\n",
    "\n",
    "`naivewin{}` stands for naive windowed data with window width `{}`"
   ]
  },
  {
   "cell_type": "code",
   "execution_count": 84,
   "metadata": {
    "hidden": true
   },
   "outputs": [
    {
     "name": "stdout",
     "output_type": "stream",
     "text": [
      "\n",
      "Full windowed dataset (1st column is target Y(T+18): (30977, 21) ; windowsize:20\n",
      "Training dataset: (29428, 21)\n",
      "Testing dataset: (1549, 21)\n",
      "Saved : ../../../dataDIR/preprocessed_linearinterp_avgmodels/train_preprocessed_naivewin20.npy\n",
      "Saved : ../../../dataDIR/preprocessed_linearinterp_avgmodels/test_preprocessed_naivewin20.npy\n",
      "\n",
      "Full windowed dataset (1st column is target Y(T+18): (30957, 41) ; windowsize:40\n",
      "Training dataset: (29409, 41)\n",
      "Testing dataset: (1548, 41)\n",
      "Saved : ../../../dataDIR/preprocessed_linearinterp_avgmodels/train_preprocessed_naivewin40.npy\n",
      "Saved : ../../../dataDIR/preprocessed_linearinterp_avgmodels/test_preprocessed_naivewin40.npy\n",
      "\n",
      "Full windowed dataset (1st column is target Y(T+18): (30917, 81) ; windowsize:80\n",
      "Training dataset: (29371, 81)\n",
      "Testing dataset: (1546, 81)\n",
      "Saved : ../../../dataDIR/preprocessed_linearinterp_avgmodels/train_preprocessed_naivewin80.npy\n",
      "Saved : ../../../dataDIR/preprocessed_linearinterp_avgmodels/test_preprocessed_naivewin80.npy\n"
     ]
    }
   ],
   "source": [
    "WINDOW_SIZES = [20, 40, 80] # Y(T+0) and \"window_size-1\" previous points, T-1,T-2,...,T-window_size+1\n",
    "\n",
    "x_norm = data_norm[:,0] # Y(t) energy\n",
    "\n",
    "for window_size in WINDOW_SIZES:\n",
    "    # index of last elem of window\n",
    "    start_time = window_size-1\n",
    "    # prepare windows : 1st columns Y(T+lead_time)\n",
    "    X_norm_wind = windowed_data(x_norm, lead_time=lead_time, window_size=window_size)\n",
    "    print(f'\\nFull windowed dataset (1st column is target Y(T+{lead_time}): {X_norm_wind.shape}',\n",
    "          f\"; windowsize:{window_size}\")\n",
    "    \n",
    "    # split train/test\n",
    "    split_index = X_norm_wind.shape[0]*TRAIN_PERCENT//100\n",
    "    \n",
    "    X_train = X_norm_wind[:split_index,:]\n",
    "    X_test = X_norm_wind[split_index:,:]\n",
    "    print('Training dataset:',X_train.shape)\n",
    "    print('Testing dataset:',X_test.shape)\n",
    "    \n",
    "    # write to files\n",
    "    \n",
    "    # training data\n",
    "    train_file_name = os.path.join(data_path,f'train_preprocessed_naivewin{window_size}.npy')\n",
    "    with open(train_file_name, 'wb') as f:\n",
    "        np.save(f,X_train)\n",
    "    print(f'Saved : {train_file_name}')\n",
    "    \n",
    "    # testing data\n",
    "    test_file_name = os.path.join(data_path,f'test_preprocessed_naivewin{window_size}.npy')\n",
    "    with open(test_file_name, 'wb') as f:\n",
    "        np.save(f,X_test)\n",
    "    print(f'Saved : {test_file_name}')"
   ]
  },
  {
   "cell_type": "markdown",
   "metadata": {
    "heading_collapsed": true
   },
   "source": [
    "### Differences as Features\n",
    "- First column is `Y(T+lead_time)`\n",
    "- 2nd column is `Y(T+0)`, present value\n",
    "- 3rd to END are differences: `[Y(T+0)-Y(T-1), Y(T-1)-Y(T-2), Y(T-2)-Y(T-3), ...]`\n",
    "\n",
    "write training datasets to :\n",
    "- `train_preprocessed_diff{}.npy` and\n",
    "- `test_preprocessed_diff{}.npy`\n",
    "\n",
    "`diff{}` part stands for difference data for differences from `T-window_size+1` to `T+0` (`window_size-1` $\\Delta T$'s)"
   ]
  },
  {
   "cell_type": "code",
   "execution_count": 86,
   "metadata": {
    "hidden": true
   },
   "outputs": [
    {
     "name": "stdout",
     "output_type": "stream",
     "text": [
      "\n",
      "Full windowed dataset (1st column is target Y(T+18): (30977, 21) ; windowsize:20\n",
      "Training dataset: (29428, 21)\n",
      "Testing dataset: (1549, 21)\n",
      "Saved : ../../../dataDIR/preprocessed_linearinterp_avgmodels/train_preprocessed_diff20.npy\n",
      "Saved : ../../../dataDIR/preprocessed_linearinterp_avgmodels/test_preprocessed_diff20.npy\n",
      "\n",
      "Full windowed dataset (1st column is target Y(T+18): (30957, 41) ; windowsize:40\n",
      "Training dataset: (29409, 41)\n",
      "Testing dataset: (1548, 41)\n",
      "Saved : ../../../dataDIR/preprocessed_linearinterp_avgmodels/train_preprocessed_diff40.npy\n",
      "Saved : ../../../dataDIR/preprocessed_linearinterp_avgmodels/test_preprocessed_diff40.npy\n",
      "\n",
      "Full windowed dataset (1st column is target Y(T+18): (30917, 81) ; windowsize:80\n",
      "Training dataset: (29371, 81)\n",
      "Testing dataset: (1546, 81)\n",
      "Saved : ../../../dataDIR/preprocessed_linearinterp_avgmodels/train_preprocessed_diff80.npy\n",
      "Saved : ../../../dataDIR/preprocessed_linearinterp_avgmodels/test_preprocessed_diff80.npy\n"
     ]
    }
   ],
   "source": [
    "WINDOW_SIZES = [20, 40, 80] # Y(T+0) and \"window_size-1\" previous points, T-1,T-2,...,T-window_size+1\n",
    "\n",
    "x_norm = data_norm[:,0] # Y(t) energy\n",
    "\n",
    "for window_size in WINDOW_SIZES:\n",
    "    # index of last elem of window\n",
    "    start_time = window_size-1\n",
    "    # prepare windows : 1st columns Y(T+lead_time)\n",
    "    X_norm_wind = windowed_diff_data(x_norm, lead_time=lead_time, window_size=window_size)\n",
    "    print(f'\\nFull windowed dataset (1st column is target Y(T+{lead_time}): {X_norm_wind.shape}',\n",
    "          f\"; windowsize:{window_size}\")\n",
    "    \n",
    "    # split train/test\n",
    "    split_index = X_norm_wind.shape[0]*TRAIN_PERCENT//100\n",
    "    \n",
    "    X_train = X_norm_wind[:split_index,:]\n",
    "    X_test = X_norm_wind[split_index:,:]\n",
    "    print('Training dataset:',X_train.shape)\n",
    "    print('Testing dataset:',X_test.shape)\n",
    "    \n",
    "    # write to files\n",
    "    \n",
    "    # training data\n",
    "    train_file_name = os.path.join(data_path,f'train_preprocessed_diff{window_size}.npy')\n",
    "    with open(train_file_name, 'wb') as f:\n",
    "        np.save(f,X_train)\n",
    "    print(f'Saved : {train_file_name}')\n",
    "    \n",
    "    # testing data\n",
    "    test_file_name = os.path.join(data_path,f'test_preprocessed_diff{window_size}.npy')\n",
    "    with open(test_file_name, 'wb') as f:\n",
    "        np.save(f,X_test)\n",
    "    print(f'Saved : {test_file_name}')"
   ]
  },
  {
   "cell_type": "markdown",
   "metadata": {},
   "source": [
    "## Adding Wind Forecast Features"
   ]
  },
  {
   "cell_type": "code",
   "execution_count": 65,
   "metadata": {},
   "outputs": [
    {
     "name": "stdout",
     "output_type": "stream",
     "text": [
      "\n",
      "Full windowed dataset (1st column is target Y(T+18): (30917, 81) ; windowsize:80\n",
      "\n",
      "Full Diff windowed dataset (1st column is target Y(T+18): (30917, 81) ; windowsize:80\n",
      "\n",
      "X(t+18),X(T+0),X(T-1)...,X(T-window_size+1):\n",
      " [(30917, 81), (30917, 81), (30917, 81), (30917, 81), (30917, 81), (30917, 81), (30917, 81), (30917, 81)]\n"
     ]
    }
   ],
   "source": [
    "# normalised data\n",
    "Yt = data_norm[:,0].reshape(-1,1)\n",
    "wind_speeds = np.sqrt(data_norm[:,1::2]**2 + data_norm[:,2::2]**2) # wind speed from wind vectors\n",
    "\n",
    "# window size\n",
    "window_size = 80 # Y(T+0) and \"window_size-1\" previous points, T-1,T-2,...,T-window_size+1\n",
    "start_time = window_size-1 # index of last elem of window\n",
    "\n",
    "# Y(t)\n",
    "# prepare windows : 1st columns Y(T+lead_time)\n",
    "Y_norm_wind = windowed_data(Yt, lead_time=lead_time, window_size=window_size)\n",
    "print(f'\\nFull windowed dataset (1st column is target Y(T+{lead_time}): {Y_norm_wind.shape}',\n",
    "      f\"; windowsize:{window_size}\")\n",
    "\n",
    "Y_norm_diffwind = windowed_diff_data(Yt, lead_time=lead_time, window_size=window_size)\n",
    "print(f'\\nFull Diff windowed dataset (1st column is target Y(T+{lead_time}): {Y_norm_diffwind.shape}',\n",
    "      f\"; windowsize:{window_size}\")\n",
    "\n",
    "X_norm_windows = []\n",
    "for l in range(wind_speeds.shape[1]):\n",
    "    X_norm_windows.append(\n",
    "        windowed_data(wind_speeds[:,l], lead_time=lead_time, window_size=window_size)\n",
    "    )\n",
    "print('\\nX(t+18),X(T+0),X(T-1)...,X(T-window_size+1):\\n',[l.shape for l in X_norm_windows])"
   ]
  },
  {
   "cell_type": "markdown",
   "metadata": {
    "heading_collapsed": true
   },
   "source": [
    "### Wind Speed at T+18\n",
    "- Wind speed forecast X(T+18 ): for each location speed*(sin^2+cos^2) --> 8 additional features\n",
    "- columns `[Y(T+18), Y(T+0), speed1(T+18),speed2(T+18),...,speed8(T+18)]`"
   ]
  },
  {
   "cell_type": "code",
   "execution_count": 64,
   "metadata": {
    "hidden": true
   },
   "outputs": [
    {
     "name": "stdout",
     "output_type": "stream",
     "text": [
      "Training dataset: (29371, 10)\n",
      "Testing dataset: (1546, 10)\n",
      "Saved : ../../../dataDIR/preprocessed_linearinterp_avgmodels/train_preprocessed_naive_Y18_Y0_X18.npy\n",
      "Saved : ../../../dataDIR/preprocessed_linearinterp_avgmodels/test_preprocessed_naive_Y18_Y0_X18.npy\n"
     ]
    }
   ],
   "source": [
    "# columns [Y(T+18), Y(T+0), speed1(T+18),speed2(T+18),...,speed8(T+18)]\n",
    "Y18_Y0_X18=[Y_norm_wind[:,:2]]\n",
    "Y18_Y0_X18.extend([Xt[:,0].reshape(-1,1) for Xt in X_norm_windows])\n",
    "\n",
    "Y18_Y0_X18 = np.concatenate(Y18_Y0_X18, axis=1)\n",
    "\n",
    "# split train/test\n",
    "split_index = Y18_Y0_X18.shape[0]*TRAIN_PERCENT//100\n",
    "\n",
    "X_train = Y18_Y0_X18[:split_index,:]\n",
    "X_test = Y18_Y0_X18[split_index:,:]\n",
    "print('Training dataset:',X_train.shape)\n",
    "print('Testing dataset:',X_test.shape)\n",
    "\n",
    "# training data\n",
    "train_file_name = os.path.join(data_path,f'train_preprocessed_naive_Y18_Y0_X18.npy')\n",
    "with open(train_file_name, 'wb') as f:\n",
    "    np.save(f,X_train)\n",
    "print(f'Saved : {train_file_name}')\n",
    "\n",
    "# testing data\n",
    "test_file_name = os.path.join(data_path,f'test_preprocessed_naive_Y18_Y0_X18.npy')\n",
    "with open(test_file_name, 'wb') as f:\n",
    "    np.save(f,X_test)\n",
    "print(f'Saved : {test_file_name}')"
   ]
  },
  {
   "cell_type": "markdown",
   "metadata": {},
   "source": [
    "### Y(t+0), diff(Y(t+0),...,Y(t-w+1)), +speed magnitudes X(t+18,t+0)\n",
    "- columns `[Y(T+18), Y(T+0),Y(t+0)-Y(t-1),..., Y(t-w+2)-Y(t-w+1), speed1(T+18),speed2(T+18),...,speed8(T+18)]`\n",
    "where `w` is the `window_size`"
   ]
  },
  {
   "cell_type": "markdown",
   "metadata": {
    "heading_collapsed": true
   },
   "source": [
    "#### Y(t) window_size=20"
   ]
  },
  {
   "cell_type": "code",
   "execution_count": 139,
   "metadata": {
    "hidden": true
   },
   "outputs": [
    {
     "name": "stdout",
     "output_type": "stream",
     "text": [
      "Training dataset: (29371, 29)\n",
      "Testing dataset: (1546, 29)\n",
      "Saved : ../../../dataDIR/preprocessed_linearinterp_avgmodels/train_preprocessed_Y18_Y0_dYwind20_X18.npy\n",
      "Saved : ../../../dataDIR/preprocessed_linearinterp_avgmodels/test_preprocessed_Y18_Y0_dYwind20_X18.npy\n"
     ]
    }
   ],
   "source": [
    "# Y_norm_diffwind\n",
    "# X_norm_windows\n",
    "Y18_Y0_dYwind20_X18=[Y_norm_diffwind[:,:21]]  #Y18,Y0, Y(t+0)-Y(t-1),..., Y(t-18)-Y(t-19)\n",
    "# append [speed1(T+18),speed2(T+18),...,speed8(T+18)]\n",
    "Y18_Y0_dYwind20_X18.extend([Xt[:,0].reshape(-1,1) for Xt in X_norm_windows])\n",
    "\n",
    "Y18_Y0_dYwind20_X18=np.concatenate(Y18_Y0_dYwind20_X18, axis=1)\n",
    "\n",
    "# split train/test\n",
    "split_index = Y18_Y0_dYwind20_X18.shape[0]*TRAIN_PERCENT//100\n",
    "\n",
    "X_train = Y18_Y0_dYwind20_X18[:split_index,:]\n",
    "X_test = Y18_Y0_dYwind20_X18[split_index:,:]\n",
    "print('Training dataset:',X_train.shape)\n",
    "print('Testing dataset:',X_test.shape)\n",
    "\n",
    "# training data\n",
    "train_file_name = os.path.join(data_path,f'train_preprocessed_Y18_Y0_dYwind20_X18.npy')\n",
    "with open(train_file_name, 'wb') as f:\n",
    "    np.save(f,X_train)\n",
    "print(f'Saved : {train_file_name}')\n",
    "\n",
    "# testing data\n",
    "test_file_name = os.path.join(data_path,f'test_preprocessed_Y18_Y0_dYwind20_X18.npy')\n",
    "with open(test_file_name, 'wb') as f:\n",
    "    np.save(f,X_test)\n",
    "print(f'Saved : {test_file_name}')"
   ]
  },
  {
   "cell_type": "markdown",
   "metadata": {},
   "source": [
    "#### Y(t) window_size=40"
   ]
  },
  {
   "cell_type": "code",
   "execution_count": 141,
   "metadata": {},
   "outputs": [
    {
     "name": "stdout",
     "output_type": "stream",
     "text": [
      "Training dataset: (29371, 49)\n",
      "Testing dataset: (1546, 49)\n",
      "Saved : ../../../dataDIR/preprocessed_linearinterp_avgmodels/train_preprocessed_Y18_Y0_dYwind40_X18.npy\n",
      "Saved : ../../../dataDIR/preprocessed_linearinterp_avgmodels/test_preprocessed_Y18_Y0_dYwind40_X18.npy\n"
     ]
    }
   ],
   "source": [
    "# Y_norm_diffwind\n",
    "# X_norm_windows\n",
    "Y18_Y0_dYwind40_X18=[Y_norm_diffwind[:,:41]]  #Y18,Y0, Y(t+0)-Y(t-1),..., Y(t-38)-Y(t-39)\n",
    "\n",
    "# append [speed1(T+18),speed2(T+18),...,speed8(T+18)]\n",
    "Y18_Y0_dYwind40_X18.extend([Xt[:,0].reshape(-1,1) for Xt in X_norm_windows])\n",
    "\n",
    "Y18_Y0_dYwind40_X18=np.concatenate(Y18_Y0_dYwind40_X18, axis=1)\n",
    "\n",
    "# split train/test\n",
    "split_index = Y18_Y0_dYwind40_X18.shape[0]*TRAIN_PERCENT//100\n",
    "\n",
    "X_train = Y18_Y0_dYwind40_X18[:split_index,:]\n",
    "X_test = Y18_Y0_dYwind40_X18[split_index:,:]\n",
    "print('Training dataset:',X_train.shape)\n",
    "print('Testing dataset:',X_test.shape)\n",
    "\n",
    "# training data\n",
    "train_file_name = os.path.join(data_path,f'train_preprocessed_Y18_Y0_dYwind40_X18.npy')\n",
    "with open(train_file_name, 'wb') as f:\n",
    "    np.save(f,X_train)\n",
    "print(f'Saved : {train_file_name}')\n",
    "\n",
    "# testing data\n",
    "test_file_name = os.path.join(data_path,f'test_preprocessed_Y18_Y0_dYwind40_X18.npy')\n",
    "with open(test_file_name, 'wb') as f:\n",
    "    np.save(f,X_test)\n",
    "print(f'Saved : {test_file_name}')"
   ]
  },
  {
   "cell_type": "markdown",
   "metadata": {},
   "source": [
    "### Wind Speed Forecasts T+0 and T+18\n",
    "* diffWindows Y(T) + Wind speed (T+18, T+0) + naiveWindow X(T)\n",
    "* diffWindows Y(T) + Wind speed (T+18, T+0) + diffWindows X(T)`[T+0,T-1,...]` )"
   ]
  },
  {
   "cell_type": "code",
   "execution_count": 11,
   "metadata": {},
   "outputs": [
    {
     "name": "stdout",
     "output_type": "stream",
     "text": [
      "\n",
      "Full Diff windowed dataset (1st column is target Y(T+18): (30917, 81) ; windowsize:80\n",
      "\n",
      "X(t+18),X(T+0),X(T-1)...,X(T-window_size+1):\n",
      " [(30917, 81), (30917, 81), (30917, 81), (30917, 81), (30917, 81), (30917, 81), (30917, 81), (30917, 81)]\n",
      "\n",
      "X(t+18),X(T+0),X(T-1)...,X(T-window_size+1):\n",
      " [(30917, 81), (30917, 81), (30917, 81), (30917, 81), (30917, 81), (30917, 81), (30917, 81), (30917, 81)]\n"
     ]
    }
   ],
   "source": [
    "# normalised data\n",
    "Yt = data_norm[:,0].reshape(-1,1)\n",
    "wind_speeds = np.sqrt(data_norm[:,1::2]**2 + data_norm[:,2::2]**2) # wind speed from wind vectors\n",
    "\n",
    "# window size\n",
    "window_size = 80 # Y(T+0) and \"window_size-1\" previous points, T-1,T-2,...,T-window_size+1\n",
    "start_time = window_size-1 # index of last elem of window\n",
    "\n",
    "# Y(t)\n",
    "# prepare windows : 1st columns Y(T+lead_time)\n",
    "Y_norm_diffwind = windowed_diff_data(Yt, lead_time=lead_time, window_size=window_size)\n",
    "print(f'\\nFull Diff windowed dataset (1st column is target Y(T+{lead_time}): {Y_norm_diffwind.shape}',\n",
    "      f\"; windowsize:{window_size}\")\n",
    "\n",
    "X_norm_windows = []\n",
    "for l in range(wind_speeds.shape[1]):\n",
    "    X_norm_windows.append(\n",
    "        windowed_data(wind_speeds[:,l], lead_time=lead_time, window_size=window_size)\n",
    "    )\n",
    "print('\\nX(t+18),X(T+0),X(T-1)...,X(T-window_size+1):\\n',[l.shape for l in X_norm_windows])\n",
    "\n",
    "X_norm_diffwindows = []\n",
    "for l in range(wind_speeds.shape[1]):\n",
    "    X_norm_diffwindows.append(\n",
    "        windowed_diff_data(wind_speeds[:,l], lead_time=lead_time, window_size=window_size)\n",
    "    )\n",
    "print('\\nX(t+18),X(T+0),X(T-1)...,X(T-window_size+1):\\n',[l.shape for l in X_norm_diffwindows])"
   ]
  },
  {
   "cell_type": "markdown",
   "metadata": {},
   "source": [
    "#### X(t+18), X(t+0) and NaiveWindows( X(t) )"
   ]
  },
  {
   "cell_type": "code",
   "execution_count": 10,
   "metadata": {},
   "outputs": [
    {
     "name": "stdout",
     "output_type": "stream",
     "text": [
      "Training dataset: (29371, 189)\n",
      "Testing dataset: (1546, 189)\n",
      "Saved : ../../../dataDIR/preprocessed_linearinterp_avgmodels/train_preprocessed_Y18Y0dYwind20_X18X0Xwind20.npy\n",
      "Saved : ../../../dataDIR/preprocessed_linearinterp_avgmodels/test_preprocessed_Y18Y0dYwind20_X18X0Xwind20.npy\n"
     ]
    }
   ],
   "source": [
    "#Y18,Y0, Y(t+0)-Y(t-1),..., Y(t-18)-Y(t-19)\n",
    "Y18Y0dYwind20_X18X0Xwind20 = [Y_norm_diffwind[:,:21]]\n",
    "\n",
    "# append X(t+18), X(t+0), Xwind20s [speed1(T+18),speed2(T+18),...,speed8(T+18)]\n",
    "Y18Y0dYwind20_X18X0Xwind20.extend([Xt[:,:21] for Xt in X_norm_windows])\n",
    "Y18Y0dYwind20_X18X0Xwind20 = np.concatenate(Y18Y0dYwind20_X18X0Xwind20, axis=1)\n",
    "\n",
    "# split train/test\n",
    "split_index = Y18Y0dYwind20_X18X0Xwind20.shape[0]*TRAIN_PERCENT//100\n",
    "\n",
    "X_train = Y18Y0dYwind20_X18X0Xwind20[:split_index,:]\n",
    "X_test = Y18Y0dYwind20_X18X0Xwind20[split_index:,:]\n",
    "print('Training dataset:',X_train.shape)\n",
    "print('Testing dataset:',X_test.shape)\n",
    "\n",
    "# training data\n",
    "train_file_name = os.path.join(data_path,f'train_preprocessed_Y18Y0dYwind20_X18X0Xwind20.npy')\n",
    "with open(train_file_name, 'wb') as f:\n",
    "    np.save(f,X_train)\n",
    "print(f'Saved : {train_file_name}')\n",
    "\n",
    "# testing data\n",
    "test_file_name = os.path.join(data_path,f'test_preprocessed_Y18Y0dYwind20_X18X0Xwind20.npy')\n",
    "with open(test_file_name, 'wb') as f:\n",
    "    np.save(f,X_test)\n",
    "print(f'Saved : {test_file_name}')"
   ]
  },
  {
   "cell_type": "markdown",
   "metadata": {},
   "source": [
    "#### X(t+18), X(t+0) and DiffWindows( X(t) ) step=1"
   ]
  },
  {
   "cell_type": "markdown",
   "metadata": {
    "heading_collapsed": true
   },
   "source": [
    "##### w=20"
   ]
  },
  {
   "cell_type": "code",
   "execution_count": 14,
   "metadata": {
    "hidden": true
   },
   "outputs": [
    {
     "name": "stdout",
     "output_type": "stream",
     "text": [
      "Training dataset: (29371, 189)\n",
      "Testing dataset: (1546, 189)\n",
      "Saved : ../../../dataDIR/preprocessed_linearinterp_avgmodels/train_preprocessed_Y18Y0dYwind20_X18X0dXwind20.npy\n",
      "Saved : ../../../dataDIR/preprocessed_linearinterp_avgmodels/test_preprocessed_Y18Y0dYwind20_X18X0dXwind20.npy\n"
     ]
    }
   ],
   "source": [
    "#Y18,Y0, Y(t+0)-Y(t-1),..., Y(t-18)-Y(t-19)\n",
    "Y18Y0dYwind20_X18X0dXwind20 = [Y_norm_diffwind[:,:21]]\n",
    "\n",
    "# append X(t+18), X(t+0), Xwind20s [speed1(T+18),speed2(T+18),...,speed8(T+18)]\n",
    "Y18Y0dYwind20_X18X0dXwind20.extend([Xt[:,:21] for Xt in X_norm_diffwindows])\n",
    "Y18Y0dYwind20_X18X0dXwind20 = np.concatenate(Y18Y0dYwind20_X18X0dXwind20, axis=1)\n",
    "\n",
    "# split train/test\n",
    "split_index = Y18Y0dYwind20_X18X0dXwind20.shape[0]*TRAIN_PERCENT//100\n",
    "\n",
    "X_train = Y18Y0dYwind20_X18X0dXwind20[:split_index,:]\n",
    "X_test = Y18Y0dYwind20_X18X0dXwind20[split_index:,:]\n",
    "print('Training dataset:',X_train.shape)\n",
    "print('Testing dataset:',X_test.shape)\n",
    "\n",
    "# training data\n",
    "train_file_name = os.path.join(data_path,f'train_preprocessed_Y18Y0dYwind20_X18X0dXwind20.npy')\n",
    "with open(train_file_name, 'wb') as f:\n",
    "    np.save(f,X_train)\n",
    "print(f'Saved : {train_file_name}')\n",
    "\n",
    "# testing data\n",
    "test_file_name = os.path.join(data_path,f'test_preprocessed_Y18Y0dYwind20_X18X0dXwind20.npy')\n",
    "with open(test_file_name, 'wb') as f:\n",
    "    np.save(f,X_test)\n",
    "print(f'Saved : {test_file_name}')"
   ]
  },
  {
   "cell_type": "code",
   "execution_count": 17,
   "metadata": {
    "hidden": true
   },
   "outputs": [],
   "source": [
    "# Ystr = ['y(t+18)','y(t+0)']\n",
    "# Ystr.extend([f\"y(t{'+' if t>-1 else ''}{t})-y(t{t-1})\" for t in range(0,-80+1,-1)])\n",
    "# print(len(Ystr))\n",
    "# Ystr[:41]"
   ]
  },
  {
   "cell_type": "markdown",
   "metadata": {
    "heading_collapsed": true
   },
   "source": [
    "##### w=40"
   ]
  },
  {
   "cell_type": "code",
   "execution_count": 18,
   "metadata": {
    "hidden": true
   },
   "outputs": [
    {
     "name": "stdout",
     "output_type": "stream",
     "text": [
      "Training dataset: (29371, 369)\n",
      "Testing dataset: (1546, 369)\n",
      "Saved : ../../../dataDIR/preprocessed_linearinterp_avgmodels/train_preprocessed_Y18Y0dYwind40_X18X0dXwind40.npy\n",
      "Saved : ../../../dataDIR/preprocessed_linearinterp_avgmodels/test_preprocessed_Y18Y0dYwind40_X18X0dXwind40.npy\n"
     ]
    }
   ],
   "source": [
    "#Y18,Y0, Y(t+0)-Y(t-1),..., Y(t-38)-Y(t-39)\n",
    "Y18Y0dYwind40_X18X0dXwind40 = [Y_norm_diffwind[:,:41]]\n",
    "\n",
    "# append X(t+18), X(t+0), Xwind20s [speed1(T+18),speed2(T+18),...,speed8(T+18)]\n",
    "Y18Y0dYwind40_X18X0dXwind40.extend([Xt[:,:41] for Xt in X_norm_diffwindows])\n",
    "Y18Y0dYwind40_X18X0dXwind40 = np.concatenate(Y18Y0dYwind40_X18X0dXwind40, axis=1)\n",
    "\n",
    "# split train/test\n",
    "split_index = Y18Y0dYwind40_X18X0dXwind40.shape[0]*TRAIN_PERCENT//100\n",
    "\n",
    "X_train = Y18Y0dYwind40_X18X0dXwind40[:split_index,:]\n",
    "X_test = Y18Y0dYwind40_X18X0dXwind40[split_index:,:]\n",
    "print('Training dataset:',X_train.shape)\n",
    "print('Testing dataset:',X_test.shape)\n",
    "\n",
    "# training data\n",
    "train_file_name = os.path.join(data_path,f'train_preprocessed_Y18Y0dYwind40_X18X0dXwind40.npy')\n",
    "with open(train_file_name, 'wb') as f:\n",
    "    np.save(f,X_train)\n",
    "print(f'Saved : {train_file_name}')\n",
    "\n",
    "# testing data\n",
    "test_file_name = os.path.join(data_path,f'test_preprocessed_Y18Y0dYwind40_X18X0dXwind40.npy')\n",
    "with open(test_file_name, 'wb') as f:\n",
    "    np.save(f,X_test)\n",
    "print(f'Saved : {test_file_name}')"
   ]
  },
  {
   "cell_type": "markdown",
   "metadata": {
    "heading_collapsed": true
   },
   "source": [
    "## Time Differences With Step Size\n",
    "- Differences with step size `[Y(T+0)-Y(T-h),...]` where h is a step size"
   ]
  },
  {
   "cell_type": "code",
   "execution_count": 87,
   "metadata": {
    "hidden": true
   },
   "outputs": [],
   "source": [
    "# X_norm_wind = windowed_diff_with_step(x_norm, lead_time=lead_time, window_size=window_size,h=lead_time)\n",
    "\n",
    "# split_index = X_norm_wind.shape[0]*70//100\n",
    "# X_train = X_norm_wind[:split_index,:]\n",
    "# X_test = X_norm_wind[split_index:,:]\n",
    "# print(f'Full windowed dataset: {X_norm_wind.shape}')\n",
    "# print(f'Training dataset (1st column is target Y(T+{lead_time})):',X_train.shape,f\"\\nwindowsize:{window_size}\")\n",
    "# print(f'Testing dataset (1st column is target Y(T+{lead_time})):',X_test.shape,f\"\\nwindowsize:{window_size}\")\n",
    "\n",
    "# # Training data\n",
    "# with open(f'train_preprocessed_stepdiff{window_size}.npy', 'wb') as f:\n",
    "#     np.save(f,X_train)\n",
    "# # Testing data\n",
    "# with open(f'test_preprocessed_stepdiff{window_size}.npy', 'wb') as f:\n",
    "#     np.save(f,X_test)"
   ]
  },
  {
   "cell_type": "markdown",
   "metadata": {
    "heading_collapsed": true,
    "hidden": true
   },
   "source": [
    "### Force and Momentum with Step Size\n",
    "Momentum = Difference of Differences\n",
    "\n",
    "Force = Difference of Momentum"
   ]
  },
  {
   "cell_type": "code",
   "execution_count": null,
   "metadata": {
    "hidden": true
   },
   "outputs": [],
   "source": [
    "# X_norm_wind = windowed_momentum_force(x_norm,lead_time=lead_time,window_size=window_size,h=lead_time)\n",
    "\n",
    "# split_index = X_norm_wind.shape[0]*70//100\n",
    "# X_train = X_norm_wind[:split_index,:]\n",
    "# X_test = X_norm_wind[split_index:,:]\n",
    "# print(f'Full windowed dataset: {X_norm_wind.shape}')\n",
    "# print(f'Training dataset (1st column is target Y(T+{lead_time})):',X_train.shape,f\"\\nwindowsize:{window_size}\")\n",
    "# print(f'Testing dataset (1st column is target Y(T+{lead_time})):',X_test.shape,f\"\\nwindowsize:{window_size}\")\n",
    "\n",
    "# # Training data\n",
    "# with open(f'train_preprocessed_mntfrcwin{window_size}.npy', 'wb') as f:\n",
    "#     np.save(f,X_train)\n",
    "# # Testing data\n",
    "# with open(f'test_preprocessed_mntfrcwin{window_size}.npy', 'wb') as f:\n",
    "#     np.save(f,X_test)"
   ]
  },
  {
   "cell_type": "code",
   "execution_count": null,
   "metadata": {
    "hidden": true
   },
   "outputs": [],
   "source": []
  }
 ],
 "metadata": {
  "kernelspec": {
   "display_name": "Python 3",
   "language": "python",
   "name": "python3"
  },
  "language_info": {
   "codemirror_mode": {
    "name": "ipython",
    "version": 3
   },
   "file_extension": ".py",
   "mimetype": "text/x-python",
   "name": "python",
   "nbconvert_exporter": "python",
   "pygments_lexer": "ipython3",
   "version": "3.7.4"
  },
  "toc": {
   "base_numbering": 1,
   "nav_menu": {},
   "number_sections": true,
   "sideBar": true,
   "skip_h1_title": true,
   "title_cell": "Table of Contents",
   "title_sidebar": "Contents",
   "toc_cell": false,
   "toc_position": {},
   "toc_section_display": true,
   "toc_window_display": true
  }
 },
 "nbformat": 4,
 "nbformat_minor": 2
}
