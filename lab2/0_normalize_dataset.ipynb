{
 "cells": [
  {
   "cell_type": "markdown",
   "metadata": {},
   "source": [
    "# Prepare Dataset: Compute Stats and Normalize\n",
    "> Compute dataset statistics, normalize and clean raw datasets and save them as new `.npy` pickle files\n",
    "\n",
    "**For lab 1 dataset** (raw dataset is in `./sg_temps`)\n",
    "1. Compute dataset stats and write it to __`sg_temps_stats.csv`__.\n",
    "    - Read/import it as `pd.read_csv('./sg_temps_stats.csv',header=0,index_col=0)`\n",
    "1. Normalize raw dataset with given mean/median and scale.\n",
    "    - For lab 1, use `mean=28`, and scale it with `2xS.D. = 1.6`.\n",
    "1. Save normalized datasets as `./train_norm.npy` and `./test_norm.npy`\n",
    "    - You can later load them with numpy, e.g.\n",
    "    ```python\n",
    "    with open('train_norm.npy', 'rb') as f:\n",
    "        train_norm = np.load(f)\n",
    "    ```"
   ]
  },
  {
   "cell_type": "code",
   "execution_count": null,
   "metadata": {},
   "outputs": [
    {
     "name": "stdout",
     "output_type": "stream",
     "text": [
      "The autoreload extension is already loaded. To reload it, use:\n",
      "  %reload_ext autoreload\n"
     ]
    }
   ],
   "source": [
    "%load_ext autoreload\n",
    "%autoreload 2"
   ]
  },
  {
   "cell_type": "code",
   "execution_count": null,
   "metadata": {},
   "outputs": [],
   "source": [
    "# import packages\n",
    "import pandas as pd\n",
    "import numpy as np\n",
    "\n",
    "import matplotlib.pyplot as plt\n",
    "import matplotlib.mlab as mlab\n",
    "import matplotlib\n",
    "plt.style.use('ggplot')\n",
    "from matplotlib.pyplot import figure"
   ]
  },
  {
   "cell_type": "code",
   "execution_count": null,
   "metadata": {},
   "outputs": [
    {
     "name": "stdout",
     "output_type": "stream",
     "text": [
      "(32896, 2)\n",
      "Datetime        object\n",
      "PJM_Load_MW    float64\n",
      "dtype: object\n"
     ]
    }
   ],
   "source": [
    "%matplotlib inline\n",
    "matplotlib.rcParams['figure.figsize'] = (12,8)\n",
    "\n",
    "pd.options.mode.chained_assignment = None\n",
    "\n",
    "# read the data\n",
    "df = pd.read_csv('data/PJM_Load_hourly.csv')\n",
    "\n",
    "# shape and data types of the data\n",
    "print(df.shape)\n",
    "print(df.dtypes)"
   ]
  },
  {
   "cell_type": "markdown",
   "metadata": {},
   "source": [
    "## Handling Missing data"
   ]
  },
  {
   "cell_type": "code",
   "execution_count": null,
   "metadata": {},
   "outputs": [
    {
     "name": "stdout",
     "output_type": "stream",
     "text": [
      "{'Datetime': 0.0, 'PJM_Load_MW': 0.0}\n"
     ]
    }
   ],
   "source": [
    "# % of missing data in each feature/column\n",
    "from heapq import nlargest \n",
    "\n",
    "#use a dict to keep the colname and the percentage of missing values\n",
    "dict_missing = {}\n",
    "for col in df.columns:\n",
    "    pct_missing = np.mean(df[col].isnull())\n",
    "    dict_missing[col] = pct_missing\n",
    "    if pct_missing > 0:\n",
    "        print('{} - {}%'.format(col, round(pct_missing*100)))\n",
    "\n",
    "#find the top N missing features\n",
    "print(dict_missing)\n",
    "\n",
    "#no missing data\n"
   ]
  },
  {
   "cell_type": "markdown",
   "metadata": {},
   "source": [
    "## Dataset stats\n",
    "- to be used later to normalize the data"
   ]
  },
  {
   "cell_type": "code",
   "execution_count": null,
   "metadata": {},
   "outputs": [
    {
     "name": "stdout",
     "output_type": "stream",
     "text": [
      "PJM_Load_MW    29766.427408\n",
      "dtype: float64\n",
      "PJM_Load_MW    5849.769954\n",
      "dtype: float64\n"
     ]
    }
   ],
   "source": [
    "#find mean\n",
    "print(df.mean())\n",
    "\n",
    "#find std\n",
    "print(df.std())"
   ]
  },
  {
   "cell_type": "markdown",
   "metadata": {},
   "source": [
    "### Import data"
   ]
  },
  {
   "cell_type": "code",
   "execution_count": null,
   "metadata": {},
   "outputs": [],
   "source": [
    "train_raw = pd.read_csv('./data/train.csv',header=None)[0].values\n",
    "test_raw = pd.read_csv('./data/test.csv',header=None)[0].values"
   ]
  },
  {
   "cell_type": "markdown",
   "metadata": {},
   "source": [
    "### Stat-s for datasets:\n",
    "- compute stat-s and write them to `./sg_temps_stats.csv`"
   ]
  },
  {
   "cell_type": "code",
   "execution_count": null,
   "metadata": {},
   "outputs": [
    {
     "name": "stdout",
     "output_type": "stream",
     "text": [
      "Dataset statistics:\n"
     ]
    },
    {
     "data": {
      "text/html": [
       "<div>\n",
       "<style scoped>\n",
       "    .dataframe tbody tr th:only-of-type {\n",
       "        vertical-align: middle;\n",
       "    }\n",
       "\n",
       "    .dataframe tbody tr th {\n",
       "        vertical-align: top;\n",
       "    }\n",
       "\n",
       "    .dataframe thead th {\n",
       "        text-align: right;\n",
       "    }\n",
       "</style>\n",
       "<table border=\"1\" class=\"dataframe\">\n",
       "  <thead>\n",
       "    <tr style=\"text-align: right;\">\n",
       "      <th></th>\n",
       "      <th>Train</th>\n",
       "      <th>Test</th>\n",
       "    </tr>\n",
       "  </thead>\n",
       "  <tbody>\n",
       "    <tr>\n",
       "      <th>min</th>\n",
       "      <td>17461.000000</td>\n",
       "      <td>18549.000000</td>\n",
       "    </tr>\n",
       "    <tr>\n",
       "      <th>max</th>\n",
       "      <td>51714.000000</td>\n",
       "      <td>54030.000000</td>\n",
       "    </tr>\n",
       "    <tr>\n",
       "      <th>mean</th>\n",
       "      <td>29452.555835</td>\n",
       "      <td>30491.271806</td>\n",
       "    </tr>\n",
       "    <tr>\n",
       "      <th>median</th>\n",
       "      <td>29361.000000</td>\n",
       "      <td>30398.000000</td>\n",
       "    </tr>\n",
       "    <tr>\n",
       "      <th>std</th>\n",
       "      <td>5874.732837</td>\n",
       "      <td>5728.995451</td>\n",
       "    </tr>\n",
       "    <tr>\n",
       "      <th>range</th>\n",
       "      <td>34253.000000</td>\n",
       "      <td>35481.000000</td>\n",
       "    </tr>\n",
       "  </tbody>\n",
       "</table>\n",
       "</div>"
      ],
      "text/plain": [
       "               Train          Test\n",
       "min     17461.000000  18549.000000\n",
       "max     51714.000000  54030.000000\n",
       "mean    29452.555835  30491.271806\n",
       "median  29361.000000  30398.000000\n",
       "std      5874.732837   5728.995451\n",
       "range   34253.000000  35481.000000"
      ]
     },
     "execution_count": null,
     "metadata": {},
     "output_type": "execute_result"
    }
   ],
   "source": [
    "data_stats = {}\n",
    "data_stats['Train'] = [train_raw.min(), train_raw.max(),\n",
    "                       train_raw.mean(), np.median(train_raw),\n",
    "                       train_raw.std(), train_raw.max() - train_raw.min()]\n",
    "data_stats['Test'] = [test_raw.min(), test_raw.max(),\n",
    "                       test_raw.mean(), np.median(test_raw),\n",
    "                       test_raw.std(), test_raw.max() - test_raw.min()]\n",
    "indx = ['min','max','mean','median','std','range']\n",
    "\n",
    "# write to file\n",
    "data_stats_df  = pd.DataFrame(data=data_stats,index=indx)\n",
    "data_stats_df.to_csv('./sg_temps_stats.csv',\n",
    "                     header=True,index=True)\n",
    "\n",
    "print('Dataset statistics:')\n",
    "data_stats_df"
   ]
  },
  {
   "cell_type": "markdown",
   "metadata": {},
   "source": [
    "### Histograms:"
   ]
  },
  {
   "cell_type": "code",
   "execution_count": null,
   "metadata": {},
   "outputs": [],
   "source": [
    "# Number of bins:\n",
    "N_bins = 50\n",
    "# histogram range:\n",
    "x_range = [min(data_stats_df.loc['min']),max(data_stats_df.loc['max'])]\n",
    "hist_bins = np.linspace(x_range[0],x_range[1],N_bins)"
   ]
  },
  {
   "cell_type": "code",
   "execution_count": null,
   "metadata": {},
   "outputs": [
    {
     "data": {
      "image/png": "[encoded data removed]",
      "text/plain": [
       "<Figure size 360x144 with 2 Axes>"
      ]
     },
     "metadata": {
      "needs_background": "light"
     },
     "output_type": "display_data"
    }
   ],
   "source": [
    "_, axs = plt.subplots(nrows=1,ncols=2,figsize=[5,2],sharex=True,squeeze=True)\n",
    "# Train\n",
    "axs[0].hist(train_raw, bins=hist_bins)\n",
    "axs[0].set_title('Train')\n",
    "\n",
    "# Test\n",
    "axs[1].hist(test_raw, bins=hist_bins)\n",
    "axs[1].set_title('Test')\n",
    "\n",
    "plt.show()"
   ]
  },
  {
   "cell_type": "markdown",
   "metadata": {},
   "source": [
    "## Normalize"
   ]
  },
  {
   "cell_type": "markdown",
   "metadata": {},
   "source": [
    "Generally, we would use the stat-s computed above for the training data to normalize our data. But for consistency we will use the same procedure as in the **lab 1** (With approx. `mean`:29766.43, `2x s.d.`:11699.54).\n",
    "$$x_{normalized} = \\frac{x_{raw}-29766.43}{11699.54}$$"
   ]
  },
  {
   "cell_type": "markdown",
   "metadata": {},
   "source": [
    "### Normalize and Write Updated Datasets to New Files\n",
    "- Normalize"
   ]
  },
  {
   "cell_type": "code",
   "execution_count": null,
   "metadata": {},
   "outputs": [],
   "source": [
    "x_mean = 29766.43\n",
    "x_scale = 11699.54\n",
    "train_norm = (train_raw - x_mean)/x_scale\n",
    "test_norm = (test_raw - x_mean)/x_scale"
   ]
  },
  {
   "cell_type": "markdown",
   "metadata": {},
   "source": [
    "- Write arrays to `./train_norm.npy` and `./test_norm.npy`"
   ]
  },
  {
   "cell_type": "code",
   "execution_count": null,
   "metadata": {},
   "outputs": [],
   "source": [
    "# normalized training dataset:\n",
    "with open('train_norm.npy', 'wb') as f:\n",
    "    np.save(f, train_norm)\n",
    "\n",
    "# normalized test dataset:\n",
    "with open('test_norm.npy', 'wb') as f:\n",
    "    np.save(f, test_norm)\n",
    "    \n",
    "# # For loading them back use:\n",
    "# # with open('train_norm.npy', 'rb') as f:\n",
    "# #    x_test = np.load(f)"
   ]
  },
  {
   "cell_type": "markdown",
   "metadata": {},
   "source": [
    "---\n",
    "Plot normalized data:"
   ]
  },
  {
   "cell_type": "code",
   "execution_count": null,
   "metadata": {},
   "outputs": [
    {
     "data": {
      "image/png": "[encoded data removed]",
      "text/plain": [
       "<Figure size 1152x180 with 3 Axes>"
      ]
     },
     "metadata": {
      "needs_background": "light"
     },
     "output_type": "display_data"
    }
   ],
   "source": [
    "_,axs = plt.subplots(ncols=3,nrows=1,figsize=[16,2.5],squeeze=True)\n",
    "# Plot time series\n",
    "axs[0].plot(train_norm)\n",
    "axs[0].set_title('Train (norm)')\n",
    "axs[1].plot(test_norm)\n",
    "axs[1].set_title('Test (norm)')\n",
    "# deltaY: differences Y(t+1)-Y(t)\n",
    "axs[2].hist((train_norm[1:]-train_norm[:-1]),bins=25,density=True,alpha=.5,label='train')\n",
    "axs[2].hist(test_norm[1:]-test_norm[:-1],bins=25,density=True,alpha=.5,label='test')\n",
    "plt.title('Differences, $Y(T+1)-Y(T+0)$')\n",
    "plt.legend()\n",
    "plt.show()"
   ]
  },
  {
   "cell_type": "markdown",
   "metadata": {},
   "source": [
    "---\n",
    "From session 5 video: SG-Temps dataset\n",
    "- Daily temperatures 2000-2015\n",
    "- Strong yearly cycles ( _of different and varying lengths_ ) driven by monssons\n",
    "- Maxima more regular than minima\n",
    "- Max/Min temps show inter-annual variation\n",
    "---"
   ]
  },
  {
   "cell_type": "markdown",
   "metadata": {},
   "source": [
    "### Persistence Loss (for Normalized Data with MSE loss)"
   ]
  },
  {
   "cell_type": "markdown",
   "metadata": {},
   "source": [
    "- note that session 5 uses MSE loss and an additional factor of 0.5x for persistence loss ([_see video_](https://youtu.be/TSHc60ZI7cU?t=268))\n",
    "---\n",
    "Compute persistence loss and save it to `./persistence_T{}.npy` where `{}` is replaced by the lead time, e.g. `./persistence_T5.npy`.\n",
    "- You can load it back with the code below:\n",
    "```python\n",
    "with open('persistence_T5.npy','rb') as f:\n",
    "    x=np.load(f,allow_pickle=True).item()\n",
    "```\n",
    "`x` is a python `dict` object.\n",
    "- Here, `persistence` is computed starting from the first elements of `train_norm` (or `test_norm`). Your exact training/testing dataset will start from the last element in the window, which will be set as first $Y(T+0)$."
   ]
  },
  {
   "cell_type": "code",
   "execution_count": null,
   "metadata": {},
   "outputs": [
    {
     "ename": "ModuleNotFoundError",
     "evalue": "No module named 'utils'",
     "output_type": "error",
     "traceback": [
      "\u001b[0;31m---------------------------------------------------------------------------\u001b[0m",
      "\u001b[0;31mModuleNotFoundError\u001b[0m                       Traceback (most recent call last)",
      "\u001b[0;32m<ipython-input-50-69d9c258b31d>\u001b[0m in \u001b[0;36m<module>\u001b[0;34m\u001b[0m\n\u001b[0;32m----> 1\u001b[0;31m \u001b[0;32mimport\u001b[0m \u001b[0mutils\u001b[0m\u001b[0;34m\u001b[0m\u001b[0;34m\u001b[0m\u001b[0m\n\u001b[0m",
      "\u001b[0;31mModuleNotFoundError\u001b[0m: No module named 'utils'"
     ]
    }
   ],
   "source": [
    "import utils"
   ]
  },
  {
   "cell_type": "code",
   "execution_count": null,
   "metadata": {},
   "outputs": [
    {
     "name": "stdout",
     "output_type": "stream",
     "text": [
      "{'lead_time': 5, 'persist_train': 0.3465510886796467, 'persist_test': 0.3377655358064947}\n"
     ]
    }
   ],
   "source": [
    "Tlead = 5\n",
    "# utils.persistence_loss by default uses MSE as metric\n",
    "persistence_data = np.array({'lead_time':Tlead,\n",
    "                             'persist_train':utils.persistence_loss(train_norm,lead_time=Tlead),\n",
    "                             'persist_test':utils.persistence_loss(test_norm,lead_time=Tlead)})\n",
    "\n",
    "with open('persistence_T{}.npy'.format(Tlead), 'wb') as f:\n",
    "    np.save(f,persistence_data)\n",
    "\n",
    "print(persistence_data)"
   ]
  },
  {
   "cell_type": "code",
   "execution_count": null,
   "metadata": {},
   "outputs": [],
   "source": []
  }
 ],
 "metadata": {
  "kernelspec": {
   "display_name": "Python 3",
   "language": "python",
   "name": "python3"
  }
 },
 "nbformat": 4,
 "nbformat_minor": 2
}
