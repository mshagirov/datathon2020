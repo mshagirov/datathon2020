{
 "cells": [
  {
   "cell_type": "markdown",
   "metadata": {},
   "source": [
    "# Prepare Dataset: Compute Stats and Normalize\n",
    "> Compute dataset statistics, normalize and clean raw datasets and save them as new `.npy` pickle files\n",
    "\n",
    "\\[__EDIT EXPLANATIONS BELOW__ to change sg-temp --> energy data\\]\n",
    "\n",
    "**For lab 1 dataset** (raw dataset is in `./sg_temps`)\n",
    "1. Compute dataset stats and write it to __`sg_temps_stats.csv`__.\n",
    "    - Read/import it as `pd.read_csv('./sg_temps_stats.csv',header=0,index_col=0)`\n",
    "1. Normalize raw dataset with given mean/median and scale.\n",
    "    - For lab 1, use `mean=28`, and scale it with `2xS.D. = 1.6`.\n",
    "1. Save normalized datasets as `./train_norm.npy` and `./test_norm.npy`\n",
    "    - You can later load them with numpy, e.g.\n",
    "    ```python\n",
    "    with open('train_norm.npy', 'rb') as f:\n",
    "        train_norm = np.load(f)\n",
    "    ```"
   ]
  },
  {
   "cell_type": "code",
   "execution_count": null,
   "metadata": {},
   "outputs": [],
   "source": [
    "%load_ext autoreload\n",
    "%autoreload 2"
   ]
  },
  {
   "cell_type": "code",
   "execution_count": null,
   "metadata": {},
   "outputs": [],
   "source": [
    "# import packages\n",
    "import pandas as pd\n",
    "import numpy as np\n",
    "\n",
    "import matplotlib.pyplot as plt\n",
    "import matplotlib.mlab as mlab\n",
    "import matplotlib\n",
    "plt.style.use('ggplot')\n",
    "from matplotlib.pyplot import figure"
   ]
  },
  {
   "cell_type": "code",
   "execution_count": null,
   "metadata": {},
   "outputs": [
    {
     "name": "stdout",
     "output_type": "stream",
     "text": [
      "(32896, 2)\n",
      "Datetime        object\n",
      "PJM_Load_MW    float64\n",
      "dtype: object\n"
     ]
    }
   ],
   "source": [
    "%matplotlib inline\n",
    "matplotlib.rcParams['figure.figsize'] = (12,8)\n",
    "\n",
    "pd.options.mode.chained_assignment = None\n",
    "\n",
    "# read the data\n",
    "df = pd.read_csv('data/PJM_Load_hourly.csv')\n",
    "\n",
    "# shape and data types of the data\n",
    "print(df.shape)\n",
    "print(df.dtypes)"
   ]
  },
  {
   "cell_type": "markdown",
   "metadata": {},
   "source": [
    "# Handling Missing data"
   ]
  },
  {
   "cell_type": "code",
   "execution_count": null,
   "metadata": {},
   "outputs": [
    {
     "data": {
      "text/html": [
       "<div>\n",
       "<style scoped>\n",
       "    .dataframe tbody tr th:only-of-type {\n",
       "        vertical-align: middle;\n",
       "    }\n",
       "\n",
       "    .dataframe tbody tr th {\n",
       "        vertical-align: top;\n",
       "    }\n",
       "\n",
       "    .dataframe thead th {\n",
       "        text-align: right;\n",
       "    }\n",
       "</style>\n",
       "<table border=\"1\" class=\"dataframe\">\n",
       "  <thead>\n",
       "    <tr style=\"text-align: right;\">\n",
       "      <th></th>\n",
       "      <th>Datetime</th>\n",
       "      <th>demand_in_MW</th>\n",
       "    </tr>\n",
       "  </thead>\n",
       "  <tbody>\n",
       "    <tr>\n",
       "      <td>0</td>\n",
       "      <td>1998-04-01 01:00:00</td>\n",
       "      <td>22259.0</td>\n",
       "    </tr>\n",
       "    <tr>\n",
       "      <td>1</td>\n",
       "      <td>1998-04-01 02:00:00</td>\n",
       "      <td>21244.0</td>\n",
       "    </tr>\n",
       "    <tr>\n",
       "      <td>2</td>\n",
       "      <td>1998-04-01 03:00:00</td>\n",
       "      <td>20651.0</td>\n",
       "    </tr>\n",
       "    <tr>\n",
       "      <td>3</td>\n",
       "      <td>1998-04-01 04:00:00</td>\n",
       "      <td>20421.0</td>\n",
       "    </tr>\n",
       "    <tr>\n",
       "      <td>4</td>\n",
       "      <td>1998-04-01 05:00:00</td>\n",
       "      <td>20713.0</td>\n",
       "    </tr>\n",
       "  </tbody>\n",
       "</table>\n",
       "</div>"
      ],
      "text/plain": [
       "             Datetime  demand_in_MW\n",
       "0 1998-04-01 01:00:00       22259.0\n",
       "1 1998-04-01 02:00:00       21244.0\n",
       "2 1998-04-01 03:00:00       20651.0\n",
       "3 1998-04-01 04:00:00       20421.0\n",
       "4 1998-04-01 05:00:00       20713.0"
      ]
     },
     "execution_count": null,
     "metadata": {},
     "output_type": "execute_result"
    }
   ],
   "source": [
    "# sort by date & time\n",
    "df['Datetime'] = pd.to_datetime(df['Datetime'])\n",
    "df.sort_values(by=['Datetime'], axis=0, ascending=True, inplace=True)\n",
    "df.reset_index(inplace=True, drop=True)\n",
    "\n",
    "# renaming the target variable columns\n",
    "df.rename(columns={'PJM_Load_MW':'demand_in_MW'}, inplace=True)\n",
    "\n",
    "# display the first couple of rows\n",
    "df.head()"
   ]
  },
  {
   "cell_type": "code",
   "execution_count": null,
   "metadata": {},
   "outputs": [
    {
     "name": "stdout",
     "output_type": "stream",
     "text": [
      "df.index.freq is set to: None\n"
     ]
    }
   ],
   "source": [
    "# let's see if we have a continuous dataset\n",
    "df = df.set_index('Datetime')\n",
    "print(f'df.index.freq is set to: {df.index.freq}')"
   ]
  },
  {
   "cell_type": "code",
   "execution_count": null,
   "metadata": {},
   "outputs": [
    {
     "name": "stdout",
     "output_type": "stream",
     "text": [
      "The difference in length between the custom date range and our dataset is 8:\n",
      "DatetimeIndex(['1998-04-05 03:00:00', '1998-10-25 02:00:00',\n",
      "               '1999-04-04 03:00:00', '1999-10-31 02:00:00',\n",
      "               '2000-04-02 03:00:00', '2000-10-29 02:00:00',\n",
      "               '2001-04-01 03:00:00', '2001-10-28 02:00:00'],\n",
      "              dtype='datetime64[ns]', freq=None)\n"
     ]
    }
   ],
   "source": [
    "date_range = pd.date_range(df.index[0],df.index[-1],freq='H')\n",
    "print(f'The difference in length between the custom date range and our dataset is {(len(date_range)-len(df))}:')\n",
    "print(date_range.difference(df.index))"
   ]
  },
  {
   "cell_type": "code",
   "execution_count": null,
   "metadata": {},
   "outputs": [
    {
     "data": {
      "text/html": [
       "<div>\n",
       "<style scoped>\n",
       "    .dataframe tbody tr th:only-of-type {\n",
       "        vertical-align: middle;\n",
       "    }\n",
       "\n",
       "    .dataframe tbody tr th {\n",
       "        vertical-align: top;\n",
       "    }\n",
       "\n",
       "    .dataframe thead th {\n",
       "        text-align: right;\n",
       "    }\n",
       "</style>\n",
       "<table border=\"1\" class=\"dataframe\">\n",
       "  <thead>\n",
       "    <tr style=\"text-align: right;\">\n",
       "      <th></th>\n",
       "      <th>demand_in_MW</th>\n",
       "    </tr>\n",
       "    <tr>\n",
       "      <th>Datetime</th>\n",
       "      <th></th>\n",
       "    </tr>\n",
       "  </thead>\n",
       "  <tbody>\n",
       "    <tr>\n",
       "      <th>1998-04-01 01:00:00</th>\n",
       "      <td>22259.0</td>\n",
       "    </tr>\n",
       "    <tr>\n",
       "      <th>1998-04-01 02:00:00</th>\n",
       "      <td>21244.0</td>\n",
       "    </tr>\n",
       "    <tr>\n",
       "      <th>1998-04-01 03:00:00</th>\n",
       "      <td>20651.0</td>\n",
       "    </tr>\n",
       "    <tr>\n",
       "      <th>1998-04-01 04:00:00</th>\n",
       "      <td>20421.0</td>\n",
       "    </tr>\n",
       "    <tr>\n",
       "      <th>1998-04-01 05:00:00</th>\n",
       "      <td>20713.0</td>\n",
       "    </tr>\n",
       "  </tbody>\n",
       "</table>\n",
       "</div>"
      ],
      "text/plain": [
       "                     demand_in_MW\n",
       "Datetime                         \n",
       "1998-04-01 01:00:00       22259.0\n",
       "1998-04-01 02:00:00       21244.0\n",
       "1998-04-01 03:00:00       20651.0\n",
       "1998-04-01 04:00:00       20421.0\n",
       "1998-04-01 05:00:00       20713.0"
      ]
     },
     "execution_count": null,
     "metadata": {},
     "output_type": "execute_result"
    }
   ],
   "source": [
    "df.head()"
   ]
  },
  {
   "cell_type": "code",
   "execution_count": null,
   "metadata": {},
   "outputs": [
    {
     "name": "stdout",
     "output_type": "stream",
     "text": [
      "The df.index.freq is now: <Hour>, indicating that we no longer have missing instances\n"
     ]
    }
   ],
   "source": [
    "# this will append the previously missing datetimes, and create null values in our target variable\n",
    "df = df.reindex(date_range)\n",
    "\n",
    "# we fill in the blanks with values that lie on a linear curve between existing data points\n",
    "df['demand_in_MW'].interpolate(method='linear', inplace=True)\n",
    "\n",
    "# now we have a neatly continuous datetime index\n",
    "print(f'The df.index.freq is now: {df.index.freq}, indicating that we no longer have missing instances')"
   ]
  },
  {
   "cell_type": "markdown",
   "metadata": {},
   "source": [
    "## Dataset stats\n",
    "- to be used later to normalize the data"
   ]
  },
  {
   "cell_type": "code",
   "execution_count": null,
   "metadata": {},
   "outputs": [
    {
     "ename": "NameError",
     "evalue": "name 'df' is not defined",
     "output_type": "error",
     "traceback": [
      "\u001b[0;31m---------------------------------------------------------------------------\u001b[0m",
      "\u001b[0;31mNameError\u001b[0m                                 Traceback (most recent call last)",
      "\u001b[0;32m<ipython-input-1-9e112543b788>\u001b[0m in \u001b[0;36m<module>\u001b[0;34m\u001b[0m\n\u001b[0;32m----> 1\u001b[0;31m \u001b[0mlen\u001b[0m\u001b[0;34m(\u001b[0m\u001b[0mdf\u001b[0m\u001b[0;34m)\u001b[0m\u001b[0;34m\u001b[0m\u001b[0;34m\u001b[0m\u001b[0m\n\u001b[0m",
      "\u001b[0;31mNameError\u001b[0m: name 'df' is not defined"
     ]
    }
   ],
   "source": [
    "len(df)"
   ]
  },
  {
   "cell_type": "code",
   "execution_count": null,
   "metadata": {},
   "outputs": [
    {
     "name": "stdout",
     "output_type": "stream",
     "text": [
      "demand_in_MW    29764.228635\n",
      "dtype: float64\n",
      "demand_in_MW    5850.797163\n",
      "dtype: float64\n"
     ]
    }
   ],
   "source": [
    "#find mean\n",
    "print(df.mean())\n",
    "\n",
    "#find std\n",
    "print(df.std())\n"
   ]
  },
  {
   "cell_type": "markdown",
   "metadata": {},
   "source": [
    "### Import data"
   ]
  },
  {
   "cell_type": "code",
   "execution_count": null,
   "metadata": {},
   "outputs": [],
   "source": [
    "train_raw = pd.read_csv('./data/train.csv',header=None)[0].values\n",
    "test_raw = pd.read_csv('./data/test.csv',header=None)[0].values"
   ]
  },
  {
   "cell_type": "code",
   "execution_count": null,
   "metadata": {},
   "outputs": [
    {
     "data": {
      "image/png": "[encoded data removed]",
      "text/plain": [
       "<Figure size 1080x216 with 2 Axes>"
      ]
     },
     "metadata": {
      "needs_background": "light"
     },
     "output_type": "display_data"
    }
   ],
   "source": [
    "_,axs = plt.subplots(ncols=2,nrows=1,figsize=[15,3])\n",
    "axs[0].plot(train_raw,label='Train')\n",
    "axs[1].plot(test_raw,color='b',label='Test')\n",
    "for k in range(axs.shape[0]):\n",
    "    axs[k].legend()\n",
    "plt.suptitle('Raw Data');"
   ]
  },
  {
   "cell_type": "markdown",
   "metadata": {},
   "source": [
    "### Stat-s for datasets:\n",
    "- compute stat-s and write them to `./data_stats.csv`"
   ]
  },
  {
   "cell_type": "code",
   "execution_count": null,
   "metadata": {},
   "outputs": [
    {
     "name": "stdout",
     "output_type": "stream",
     "text": [
      "Dataset statistics:\n"
     ]
    },
    {
     "data": {
      "text/html": [
       "<div>\n",
       "<style scoped>\n",
       "    .dataframe tbody tr th:only-of-type {\n",
       "        vertical-align: middle;\n",
       "    }\n",
       "\n",
       "    .dataframe tbody tr th {\n",
       "        vertical-align: top;\n",
       "    }\n",
       "\n",
       "    .dataframe thead th {\n",
       "        text-align: right;\n",
       "    }\n",
       "</style>\n",
       "<table border=\"1\" class=\"dataframe\">\n",
       "  <thead>\n",
       "    <tr style=\"text-align: right;\">\n",
       "      <th></th>\n",
       "      <th>Train</th>\n",
       "      <th>Test</th>\n",
       "    </tr>\n",
       "  </thead>\n",
       "  <tbody>\n",
       "    <tr>\n",
       "      <td>min</td>\n",
       "      <td>17461.000000</td>\n",
       "      <td>18549.000000</td>\n",
       "    </tr>\n",
       "    <tr>\n",
       "      <td>max</td>\n",
       "      <td>51714.000000</td>\n",
       "      <td>54030.000000</td>\n",
       "    </tr>\n",
       "    <tr>\n",
       "      <td>mean</td>\n",
       "      <td>29452.555835</td>\n",
       "      <td>30491.271806</td>\n",
       "    </tr>\n",
       "    <tr>\n",
       "      <td>median</td>\n",
       "      <td>29361.000000</td>\n",
       "      <td>30398.000000</td>\n",
       "    </tr>\n",
       "    <tr>\n",
       "      <td>std</td>\n",
       "      <td>5874.732837</td>\n",
       "      <td>5728.995451</td>\n",
       "    </tr>\n",
       "    <tr>\n",
       "      <td>range</td>\n",
       "      <td>34253.000000</td>\n",
       "      <td>35481.000000</td>\n",
       "    </tr>\n",
       "  </tbody>\n",
       "</table>\n",
       "</div>"
      ],
      "text/plain": [
       "               Train          Test\n",
       "min     17461.000000  18549.000000\n",
       "max     51714.000000  54030.000000\n",
       "mean    29452.555835  30491.271806\n",
       "median  29361.000000  30398.000000\n",
       "std      5874.732837   5728.995451\n",
       "range   34253.000000  35481.000000"
      ]
     },
     "execution_count": null,
     "metadata": {},
     "output_type": "execute_result"
    }
   ],
   "source": [
    "data_stats = {}\n",
    "data_stats['Train'] = [train_raw.min(), train_raw.max(),\n",
    "                       train_raw.mean(), np.median(train_raw),\n",
    "                       train_raw.std(), train_raw.max() - train_raw.min()]\n",
    "data_stats['Test'] = [test_raw.min(), test_raw.max(),\n",
    "                       test_raw.mean(), np.median(test_raw),\n",
    "                       test_raw.std(), test_raw.max() - test_raw.min()]\n",
    "indx = ['min','max','mean','median','std','range']\n",
    "\n",
    "# write to file\n",
    "data_stats_df  = pd.DataFrame(data=data_stats,index=indx)\n",
    "data_stats_df.to_csv('./data_stats.csv',\n",
    "                     header=True,index=True)\n",
    "\n",
    "print('Dataset statistics:')\n",
    "data_stats_df"
   ]
  },
  {
   "cell_type": "markdown",
   "metadata": {},
   "source": [
    "### Histograms:"
   ]
  },
  {
   "cell_type": "code",
   "execution_count": null,
   "metadata": {},
   "outputs": [],
   "source": [
    "# Number of bins:\n",
    "N_bins = 50\n",
    "# histogram range:\n",
    "x_range = [min(data_stats_df.loc['min']),max(data_stats_df.loc['max'])]\n",
    "hist_bins = np.linspace(x_range[0],x_range[1],N_bins)"
   ]
  },
  {
   "cell_type": "code",
   "execution_count": null,
   "metadata": {},
   "outputs": [
    {
     "data": {
      "image/png": "[encoded data removed]",
      "text/plain": [
       "<Figure size 360x144 with 2 Axes>"
      ]
     },
     "metadata": {
      "needs_background": "light"
     },
     "output_type": "display_data"
    }
   ],
   "source": [
    "_, axs = plt.subplots(nrows=1,ncols=2,figsize=[5,2],sharex=True,squeeze=True)\n",
    "# Train\n",
    "axs[0].hist(train_raw, bins=hist_bins)\n",
    "axs[0].set_title('Train')\n",
    "\n",
    "# Test\n",
    "axs[1].hist(test_raw, bins=hist_bins)\n",
    "axs[1].set_title('Test')\n",
    "\n",
    "plt.show()"
   ]
  },
  {
   "cell_type": "markdown",
   "metadata": {},
   "source": [
    "## Normalize"
   ]
  },
  {
   "cell_type": "markdown",
   "metadata": {},
   "source": [
    "Generally, we would use the stat-s computed above for the training data to normalize our data. But for consistency we will use the same procedure as in the **lab 1** (With approx. `mean`:29766.43, `2x s.d.`:11699.54).\n",
    "$$x_{normalized} = \\frac{x_{raw}-29766.43}{11699.54}$$"
   ]
  },
  {
   "cell_type": "markdown",
   "metadata": {},
   "source": [
    "__How did you derive 11699.54?__"
   ]
  },
  {
   "cell_type": "markdown",
   "metadata": {},
   "source": [
    "### Normalize and Write Updated Datasets to New Files\n",
    "- Normalize"
   ]
  },
  {
   "cell_type": "code",
   "execution_count": null,
   "metadata": {},
   "outputs": [],
   "source": [
    "x_mean = 29766.43\n",
    "x_scale = 11699.54\n",
    "train_norm = (train_raw - x_mean)/x_scale\n",
    "test_norm = (test_raw - x_mean)/x_scale"
   ]
  },
  {
   "cell_type": "markdown",
   "metadata": {},
   "source": [
    "- Write arrays to `./train_norm.npy` and `./test_norm.npy`"
   ]
  },
  {
   "cell_type": "code",
   "execution_count": null,
   "metadata": {},
   "outputs": [],
   "source": [
    "# normalized training dataset:\n",
    "with open('train_norm.npy', 'wb') as f:\n",
    "    np.save(f, train_norm)\n",
    "\n",
    "# normalized test dataset:\n",
    "with open('test_norm.npy', 'wb') as f:\n",
    "    np.save(f, test_norm)\n",
    "    \n",
    "# # For loading them back use:\n",
    "# # with open('train_norm.npy', 'rb') as f:\n",
    "# #    x_test = np.load(f)"
   ]
  },
  {
   "cell_type": "markdown",
   "metadata": {},
   "source": [
    "---\n",
    "Plot normalized data:"
   ]
  },
  {
   "cell_type": "code",
   "execution_count": null,
   "metadata": {},
   "outputs": [
    {
     "data": {
      "image/png": "[encoded data removed]",
      "text/plain": [
       "<Figure size 1152x180 with 3 Axes>"
      ]
     },
     "metadata": {
      "needs_background": "light"
     },
     "output_type": "display_data"
    }
   ],
   "source": [
    "_,axs = plt.subplots(ncols=3,nrows=1,figsize=[16,2.5],squeeze=True)\n",
    "# Plot time series\n",
    "axs[0].plot(train_norm)\n",
    "axs[0].set_title('Train (norm)')\n",
    "axs[1].plot(test_norm)\n",
    "axs[1].set_title('Test (norm)')\n",
    "# deltaY: differences Y(t+1)-Y(t)\n",
    "axs[2].hist((train_norm[1:]-train_norm[:-1]),bins=25,density=True,alpha=.5,label='train')\n",
    "axs[2].hist(test_norm[1:]-test_norm[:-1],bins=25,density=True,alpha=.5,label='test')\n",
    "plt.title('Differences, $Y(T+1)-Y(T+0)$')\n",
    "plt.legend()\n",
    "plt.show()"
   ]
  },
  {
   "cell_type": "markdown",
   "metadata": {},
   "source": [
    "---\n",
    "\n",
    "- What do we know about the dataset, e.g. how is it generated? any regularities?\n",
    "\n",
    "---"
   ]
  },
  {
   "cell_type": "markdown",
   "metadata": {},
   "source": [
    "### Persistence Loss (for Normalized Data with MSE loss)"
   ]
  },
  {
   "cell_type": "markdown",
   "metadata": {},
   "source": [
    "- note that session 5 uses MSE loss and an additional factor of 0.5x for persistence loss ([_see video_](https://youtu.be/TSHc60ZI7cU?t=268))\n",
    "---\n",
    "Compute persistence loss and save it to `./persistence_T{}.npy` where `{}` is replaced by the lead time, e.g. `./persistence_T5.npy`.\n",
    "- You can load it back with the code below:\n",
    "```python\n",
    "with open('persistence_T5.npy','rb') as f:\n",
    "    x=np.load(f,allow_pickle=True).item()\n",
    "```\n",
    "`x` is a python `dict` object.\n",
    "- Here, `persistence` is computed starting from the first elements of `train_norm` (or `test_norm`). Your exact training/testing dataset will start from the last element in the window, which will be set as first $Y(T+0)$."
   ]
  },
  {
   "cell_type": "code",
   "execution_count": null,
   "metadata": {},
   "outputs": [],
   "source": [
    "import utils"
   ]
  },
  {
   "cell_type": "code",
   "execution_count": null,
   "metadata": {},
   "outputs": [
    {
     "name": "stdout",
     "output_type": "stream",
     "text": [
      "{'lead_time': 5, 'persist_train': 0.23281556767206377, 'persist_test': 0.2319281201551854}\n"
     ]
    }
   ],
   "source": [
    "Tlead = 5\n",
    "# utils.persistence_loss by default uses MSE as metric\n",
    "persistence_data = np.array({'lead_time':Tlead,\n",
    "                             'persist_train':utils.persistence_loss(train_norm,lead_time=Tlead),\n",
    "                             'persist_test':utils.persistence_loss(test_norm,lead_time=Tlead)})\n",
    "\n",
    "with open('persistence_T{}.npy'.format(Tlead), 'wb') as f:\n",
    "    np.save(f,persistence_data)\n",
    "\n",
    "print(persistence_data)"
   ]
  },
  {
   "cell_type": "markdown",
   "metadata": {},
   "source": [
    "In \"autocaffe\" there's an additional (and unnecessary) 0.5x factor for persistence:"
   ]
  },
  {
   "cell_type": "code",
   "execution_count": null,
   "metadata": {},
   "outputs": [
    {
     "name": "stdout",
     "output_type": "stream",
     "text": [
      "Autocaffe's \"persistence\" for T+5\n",
      "train: 0.11640778383603188\n",
      "test0.1159640600775927\n"
     ]
    }
   ],
   "source": [
    "# persistence_data = persistence_data.item()\n",
    "print('Autocaffe\\'s \"persistence\" for T+{}\\ntrain: {}\\ntest{}'.format(\n",
    "    Tlead,persistence_data.item()['persist_train']/2,persistence_data.item()['persist_test']/2) )"
   ]
  },
  {
   "cell_type": "code",
   "execution_count": null,
   "metadata": {},
   "outputs": [],
   "source": []
  }
 ],
 "metadata": {
  "kernelspec": {
   "display_name": "Python 3",
   "language": "python",
   "name": "python3"
  }
 },
 "nbformat": 4,
 "nbformat_minor": 2
}
