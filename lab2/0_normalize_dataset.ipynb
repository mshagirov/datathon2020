{
 "cells": [
  {
   "cell_type": "markdown",
   "metadata": {},
   "source": [
    "# Prepare Dataset: Compute Stats and Normalize\n",
    "> Compute dataset statistics, normalize and clean raw datasets and save them as new `.npy` pickle files\n",
    "\n",
    "**For lab 2 dataset** (raw dataset is in `./data/PJM_Load_hourly.csv`)\n",
    "1. Compute dataset stats and write it to `./data_stats.csv`.\n",
    "    - Read/import it as `pd.read_csv('./data_stats.csv',header=0,index_col=0)`\n",
    "1. Normalize raw dataset with given mean/median and scale.\n",
    "    - For lab2 in autocaffe we use data stat-s after interpolation.\n",
    "1. Save normalized datasets as `./train_norm.npy` and `./test_norm.npy`\n",
    "    - You can later load them with numpy, e.g.\n",
    "    ```python\n",
    "    with open('train_norm.npy', 'rb') as f:\n",
    "        train_norm = np.load(f)\n",
    "    ```\n",
    "1. Obtain persistence loss (for normalized data with MSE loss)\n",
    "    - note that session 5 uses MSE loss and an additional factor of 0.5x for persistence loss ([_see video_](https://youtu.be/TSHc60ZI7cU?t=268))\n",
    "    - save it to `./persistence_T{}.npy` where `{}` is replaced by the lead time, e.g. `./persistence_T5.npy`.\n",
    "    - You can load it back with the code below:\n",
    "```python\n",
    "with open('persistence_T5.npy','rb') as f:\n",
    "    x=np.load(f,allow_pickle=True).item()\n",
    "```\n",
    "`x` is a python `dict` object."
   ]
  },
  {
   "cell_type": "code",
   "execution_count": null,
   "metadata": {},
   "outputs": [
    {
     "name": "stdout",
     "output_type": "stream",
     "text": [
      "The autoreload extension is already loaded. To reload it, use:\n",
      "  %reload_ext autoreload\n"
     ]
    }
   ],
   "source": [
    "%load_ext autoreload\n",
    "%autoreload 2"
   ]
  },
  {
   "cell_type": "code",
   "execution_count": null,
   "metadata": {},
   "outputs": [],
   "source": [
    "# import packages\n",
    "import pandas as pd\n",
    "import numpy as np\n",
    "\n",
    "import matplotlib.pyplot as plt\n",
    "import matplotlib.mlab as mlab\n",
    "import matplotlib\n",
    "plt.style.use('ggplot')\n",
    "from matplotlib.pyplot import figure"
   ]
  },
  {
   "cell_type": "code",
   "execution_count": null,
   "metadata": {},
   "outputs": [
    {
     "name": "stdout",
     "output_type": "stream",
     "text": [
      "(32896, 2)\n",
      "Datetime        object\n",
      "PJM_Load_MW    float64\n",
      "dtype: object\n"
     ]
    }
   ],
   "source": [
    "%matplotlib inline\n",
    "matplotlib.rcParams['figure.figsize'] = (12,8)\n",
    "# matplotlib.rcParams['font.size']= 22 # use for presentation\n",
    "pd.options.mode.chained_assignment = None\n",
    "\n",
    "# read the data\n",
    "df = pd.read_csv('data/PJM_Load_hourly.csv')\n",
    "\n",
    "# shape and data types of the data\n",
    "print(df.shape)\n",
    "print(df.dtypes)"
   ]
  },
  {
   "cell_type": "markdown",
   "metadata": {},
   "source": [
    "# Handling Missing data"
   ]
  },
  {
   "cell_type": "code",
   "execution_count": null,
   "metadata": {},
   "outputs": [
    {
     "data": {
      "text/html": [
       "<div>\n",
       "<style scoped>\n",
       "    .dataframe tbody tr th:only-of-type {\n",
       "        vertical-align: middle;\n",
       "    }\n",
       "\n",
       "    .dataframe tbody tr th {\n",
       "        vertical-align: top;\n",
       "    }\n",
       "\n",
       "    .dataframe thead th {\n",
       "        text-align: right;\n",
       "    }\n",
       "</style>\n",
       "<table border=\"1\" class=\"dataframe\">\n",
       "  <thead>\n",
       "    <tr style=\"text-align: right;\">\n",
       "      <th></th>\n",
       "      <th>Datetime</th>\n",
       "      <th>demand_in_MW</th>\n",
       "    </tr>\n",
       "  </thead>\n",
       "  <tbody>\n",
       "    <tr>\n",
       "      <td>0</td>\n",
       "      <td>1998-04-01 01:00:00</td>\n",
       "      <td>22259.0</td>\n",
       "    </tr>\n",
       "    <tr>\n",
       "      <td>1</td>\n",
       "      <td>1998-04-01 02:00:00</td>\n",
       "      <td>21244.0</td>\n",
       "    </tr>\n",
       "    <tr>\n",
       "      <td>2</td>\n",
       "      <td>1998-04-01 03:00:00</td>\n",
       "      <td>20651.0</td>\n",
       "    </tr>\n",
       "    <tr>\n",
       "      <td>3</td>\n",
       "      <td>1998-04-01 04:00:00</td>\n",
       "      <td>20421.0</td>\n",
       "    </tr>\n",
       "    <tr>\n",
       "      <td>4</td>\n",
       "      <td>1998-04-01 05:00:00</td>\n",
       "      <td>20713.0</td>\n",
       "    </tr>\n",
       "  </tbody>\n",
       "</table>\n",
       "</div>"
      ],
      "text/plain": [
       "             Datetime  demand_in_MW\n",
       "0 1998-04-01 01:00:00       22259.0\n",
       "1 1998-04-01 02:00:00       21244.0\n",
       "2 1998-04-01 03:00:00       20651.0\n",
       "3 1998-04-01 04:00:00       20421.0\n",
       "4 1998-04-01 05:00:00       20713.0"
      ]
     },
     "execution_count": null,
     "metadata": {},
     "output_type": "execute_result"
    }
   ],
   "source": [
    "# sort by date & time\n",
    "df['Datetime'] = pd.to_datetime(df['Datetime'])\n",
    "df.sort_values(by=['Datetime'], axis=0, ascending=True, inplace=True)\n",
    "df.reset_index(inplace=True, drop=True)\n",
    "\n",
    "# renaming the target variable columns\n",
    "df.rename(columns={'PJM_Load_MW':'demand_in_MW'}, inplace=True)\n",
    "\n",
    "# display the first couple of rows\n",
    "df.head()"
   ]
  },
  {
   "cell_type": "code",
   "execution_count": null,
   "metadata": {},
   "outputs": [
    {
     "name": "stdout",
     "output_type": "stream",
     "text": [
      "df.index.freq is set to: None\n"
     ]
    }
   ],
   "source": [
    "# let's see if we have a continuous dataset\n",
    "df = df.set_index('Datetime')\n",
    "print(f'df.index.freq is set to: {df.index.freq}')"
   ]
  },
  {
   "cell_type": "code",
   "execution_count": null,
   "metadata": {},
   "outputs": [
    {
     "name": "stdout",
     "output_type": "stream",
     "text": [
      "The difference in length between the custom date range and our dataset is 8:\n",
      "DatetimeIndex(['1998-04-05 03:00:00', '1998-10-25 02:00:00',\n",
      "               '1999-04-04 03:00:00', '1999-10-31 02:00:00',\n",
      "               '2000-04-02 03:00:00', '2000-10-29 02:00:00',\n",
      "               '2001-04-01 03:00:00', '2001-10-28 02:00:00'],\n",
      "              dtype='datetime64[ns]', freq=None)\n"
     ]
    }
   ],
   "source": [
    "date_range = pd.date_range(df.index[0],df.index[-1],freq='H')\n",
    "print(f'The difference in length between the custom date range and our dataset is {(len(date_range)-len(df))}:')\n",
    "print(date_range.difference(df.index))"
   ]
  },
  {
   "cell_type": "code",
   "execution_count": null,
   "metadata": {},
   "outputs": [
    {
     "data": {
      "image/png": "[encoded data removed]",
      "text/plain": [
       "<Figure size 864x360 with 1 Axes>"
      ]
     },
     "metadata": {
      "needs_background": "light"
     },
     "output_type": "display_data"
    }
   ],
   "source": [
    "ax=df.plot(style='-',alpha=.5,figsize=[12,5])\n",
    "ax.set_ylabel('Hrly Demand (MW)')\n",
    "ax.set_xlabel('Time')\n",
    "ax.vlines(date_range.difference(df.index),20000,50000,'k')\n",
    "plt.show()"
   ]
  },
  {
   "cell_type": "code",
   "execution_count": null,
   "metadata": {},
   "outputs": [
    {
     "data": {
      "text/html": [
       "<div>\n",
       "<style scoped>\n",
       "    .dataframe tbody tr th:only-of-type {\n",
       "        vertical-align: middle;\n",
       "    }\n",
       "\n",
       "    .dataframe tbody tr th {\n",
       "        vertical-align: top;\n",
       "    }\n",
       "\n",
       "    .dataframe thead th {\n",
       "        text-align: right;\n",
       "    }\n",
       "</style>\n",
       "<table border=\"1\" class=\"dataframe\">\n",
       "  <thead>\n",
       "    <tr style=\"text-align: right;\">\n",
       "      <th></th>\n",
       "      <th>demand_in_MW</th>\n",
       "    </tr>\n",
       "    <tr>\n",
       "      <th>Datetime</th>\n",
       "      <th></th>\n",
       "    </tr>\n",
       "  </thead>\n",
       "  <tbody>\n",
       "    <tr>\n",
       "      <td>1998-04-01 01:00:00</td>\n",
       "      <td>22259.0</td>\n",
       "    </tr>\n",
       "    <tr>\n",
       "      <td>1998-04-01 02:00:00</td>\n",
       "      <td>21244.0</td>\n",
       "    </tr>\n",
       "    <tr>\n",
       "      <td>1998-04-01 03:00:00</td>\n",
       "      <td>20651.0</td>\n",
       "    </tr>\n",
       "    <tr>\n",
       "      <td>1998-04-01 04:00:00</td>\n",
       "      <td>20421.0</td>\n",
       "    </tr>\n",
       "    <tr>\n",
       "      <td>1998-04-01 05:00:00</td>\n",
       "      <td>20713.0</td>\n",
       "    </tr>\n",
       "  </tbody>\n",
       "</table>\n",
       "</div>"
      ],
      "text/plain": [
       "                     demand_in_MW\n",
       "Datetime                         \n",
       "1998-04-01 01:00:00       22259.0\n",
       "1998-04-01 02:00:00       21244.0\n",
       "1998-04-01 03:00:00       20651.0\n",
       "1998-04-01 04:00:00       20421.0\n",
       "1998-04-01 05:00:00       20713.0"
      ]
     },
     "execution_count": null,
     "metadata": {},
     "output_type": "execute_result"
    }
   ],
   "source": [
    "df.head()"
   ]
  },
  {
   "cell_type": "markdown",
   "metadata": {},
   "source": [
    "Compute stat-s and later write them to `./data_stats.csv`\n",
    "- raw data before interpolation"
   ]
  },
  {
   "cell_type": "code",
   "execution_count": null,
   "metadata": {},
   "outputs": [],
   "source": [
    "# before interpolation \n",
    "data_stats = {}\n",
    "indx = ['min','max','mean','median','std','range']\n",
    "data_stats['raw'] = [df.values.min(), df.values.max(),\n",
    "                       df.values.mean(), np.median(df.values),\n",
    "                       df.values.std(), df.values.max() - df.values.min() ]"
   ]
  },
  {
   "cell_type": "markdown",
   "metadata": {},
   "source": [
    "- Interpolate missing values"
   ]
  },
  {
   "cell_type": "code",
   "execution_count": null,
   "metadata": {},
   "outputs": [
    {
     "name": "stdout",
     "output_type": "stream",
     "text": [
      "--> # of timeseries samples before interpolation:32896\n",
      "The df.index.freq is now: <Hour>, indicating that we no longer have missing instances\n",
      "--> # of timeseries samples after interpolation:32904\n"
     ]
    }
   ],
   "source": [
    "print(f'--> # of timeseries samples before interpolation:{len(df)}')\n",
    "# this will append the previously missing datetimes, and create null values in our target variable\n",
    "df = df.reindex(date_range)\n",
    "\n",
    "# we fill in the blanks with values that lie on a linear curve between existing data points\n",
    "df['demand_in_MW'].interpolate(method='linear', inplace=True)\n",
    "\n",
    "# now we have a neatly continuous datetime index\n",
    "print(f'The df.index.freq is now: {df.index.freq}, indicating that we no longer have missing instances')\n",
    "print(f'--> # of timeseries samples after interpolation:{len(df)}')"
   ]
  },
  {
   "cell_type": "markdown",
   "metadata": {},
   "source": [
    "- Stat-s after interpolation"
   ]
  },
  {
   "cell_type": "code",
   "execution_count": null,
   "metadata": {},
   "outputs": [
    {
     "name": "stdout",
     "output_type": "stream",
     "text": [
      "Dataset statistics:\n"
     ]
    },
    {
     "data": {
      "text/html": [
       "<div>\n",
       "<style scoped>\n",
       "    .dataframe tbody tr th:only-of-type {\n",
       "        vertical-align: middle;\n",
       "    }\n",
       "\n",
       "    .dataframe tbody tr th {\n",
       "        vertical-align: top;\n",
       "    }\n",
       "\n",
       "    .dataframe thead th {\n",
       "        text-align: right;\n",
       "    }\n",
       "</style>\n",
       "<table border=\"1\" class=\"dataframe\">\n",
       "  <thead>\n",
       "    <tr style=\"text-align: right;\">\n",
       "      <th></th>\n",
       "      <th>raw</th>\n",
       "      <th>after_interp</th>\n",
       "    </tr>\n",
       "  </thead>\n",
       "  <tbody>\n",
       "    <tr>\n",
       "      <td>min</td>\n",
       "      <td>17461.000000</td>\n",
       "      <td>17461.000000</td>\n",
       "    </tr>\n",
       "    <tr>\n",
       "      <td>max</td>\n",
       "      <td>54030.000000</td>\n",
       "      <td>54030.000000</td>\n",
       "    </tr>\n",
       "    <tr>\n",
       "      <td>mean</td>\n",
       "      <td>29766.427408</td>\n",
       "      <td>29766.427408</td>\n",
       "    </tr>\n",
       "    <tr>\n",
       "      <td>median</td>\n",
       "      <td>29655.000000</td>\n",
       "      <td>29655.000000</td>\n",
       "    </tr>\n",
       "    <tr>\n",
       "      <td>std</td>\n",
       "      <td>5849.681040</td>\n",
       "      <td>5849.681040</td>\n",
       "    </tr>\n",
       "    <tr>\n",
       "      <td>range</td>\n",
       "      <td>36569.000000</td>\n",
       "      <td>36569.000000</td>\n",
       "    </tr>\n",
       "  </tbody>\n",
       "</table>\n",
       "</div>"
      ],
      "text/plain": [
       "                 raw  after_interp\n",
       "min     17461.000000  17461.000000\n",
       "max     54030.000000  54030.000000\n",
       "mean    29766.427408  29766.427408\n",
       "median  29655.000000  29655.000000\n",
       "std      5849.681040   5849.681040\n",
       "range   36569.000000  36569.000000"
      ]
     },
     "execution_count": null,
     "metadata": {},
     "output_type": "execute_result"
    }
   ],
   "source": [
    "data_stats['after_interp'] = [df.values.min(), df.values.max(),\n",
    "                              df.values.mean(), np.median(df.values),\n",
    "                              df.values.std(), df.values.max() - df.values.min() ]\n",
    "\n",
    "# write to file\n",
    "data_stats_df  = pd.DataFrame(data=data_stats,index=indx)\n",
    "data_stats_df.to_csv('./data_stats.csv',\n",
    "                     header=True,index=True)\n",
    "\n",
    "print('Dataset statistics:')\n",
    "data_stats_df"
   ]
  },
  {
   "cell_type": "markdown",
   "metadata": {},
   "source": [
    "- For lab2 in autocaffe we use data stat-s _after_ interpolation"
   ]
  },
  {
   "cell_type": "markdown",
   "metadata": {},
   "source": [
    "## Normalize and Split Dataset"
   ]
  },
  {
   "cell_type": "markdown",
   "metadata": {},
   "source": [
    "1. Normalize dataset using stats after intepolating missing data points.\n",
    "1. Split normalized dataset into training and testing datasets:\n",
    "    - _In autocaffe_ , 70/30 split for lab2 loses the last data point in the raw data. This is most likely due to rounding errors.\n",
    "    - Here we use the 1st 70% as training data, and the remaining examples as test data. (w/o losing any examples)\n",
    "1. To normalize all values we use, $mean\\approx$29764.0 and 2xS.D. = 11701.6:\n",
    "$$x_{normalized} = \\frac{x_{raw}-29764.0}{11701.6}$$\n",
    "1. Save normalized datasets into `./train_norm.npy` and `./test_norm.npy`"
   ]
  },
  {
   "cell_type": "markdown",
   "metadata": {},
   "source": [
    "### Normalize the Interpolated Data"
   ]
  },
  {
   "cell_type": "code",
   "execution_count": null,
   "metadata": {},
   "outputs": [],
   "source": [
    "data_norm = (df.values - 29764.0)/11701.6"
   ]
  },
  {
   "cell_type": "markdown",
   "metadata": {},
   "source": [
    "### Split into Train/Test"
   ]
  },
  {
   "cell_type": "code",
   "execution_count": null,
   "metadata": {},
   "outputs": [
    {
     "name": "stdout",
     "output_type": "stream",
     "text": [
      "data_norm.shape[0]== train_norm.shape[0]+test_norm.shape[0]: True\n"
     ]
    }
   ],
   "source": [
    "split_index = data_norm.shape[0]*70//100\n",
    "train_norm = data_norm[:split_index]\n",
    "test_norm = data_norm[split_index:]\n",
    "print(f'data_norm.shape[0]== train_norm.shape[0]+test_norm.shape[0]: {data_norm.shape[0]== train_norm.shape[0]+test_norm.shape[0]}')"
   ]
  },
  {
   "cell_type": "markdown",
   "metadata": {},
   "source": [
    "#### Plot Test/Train"
   ]
  },
  {
   "cell_type": "code",
   "execution_count": null,
   "metadata": {},
   "outputs": [
    {
     "data": {
      "image/png": "[encoded data removed]",
      "text/plain": [
       "<Figure size 720x216 with 2 Axes>"
      ]
     },
     "metadata": {
      "needs_background": "light"
     },
     "output_type": "display_data"
    }
   ],
   "source": [
    "# For presentation:\n",
    "# with plt.rc_context({'font.size': 22}):\n",
    "#     _,axs = plt.subplots(ncols=2,nrows=1,figsize=[20,5])\n",
    "#     axs[0].plot(train_norm,label='Train',alpha=.5)\n",
    "#     axs[1].plot(test_norm,color='b',label='Test',alpha=.5)\n",
    "#     for k in range(axs.shape[0]):\n",
    "#         axs[k].legend()\n",
    "#     plt.suptitle('Normalized Data');\n",
    "_,axs = plt.subplots(ncols=2,nrows=1,figsize=[10,3])\n",
    "axs[0].plot(train_norm,label='Train',alpha=.5)\n",
    "axs[1].plot(test_norm,color='b',label='Test',alpha=.5)\n",
    "for k in range(axs.shape[0]):\n",
    "    axs[k].legend()\n",
    "plt.suptitle('Normalized Data');"
   ]
  },
  {
   "cell_type": "markdown",
   "metadata": {},
   "source": [
    "#### Histograms:"
   ]
  },
  {
   "cell_type": "code",
   "execution_count": null,
   "metadata": {},
   "outputs": [],
   "source": [
    "# Number of bins:\n",
    "N_bins = 50\n",
    "# histogram range:\n",
    "x_range = [min([train_norm.min(),test_norm.min()]),\n",
    "           max([train_norm.max(),test_norm.max()])]\n",
    "hist_bins = np.linspace(x_range[0],x_range[1],N_bins)"
   ]
  },
  {
   "cell_type": "code",
   "execution_count": null,
   "metadata": {},
   "outputs": [
    {
     "data": {
      "image/png": "[encoded data removed]",
      "text/plain": [
       "<Figure size 360x144 with 2 Axes>"
      ]
     },
     "metadata": {
      "needs_background": "light"
     },
     "output_type": "display_data"
    }
   ],
   "source": [
    "# # For presentation:\n",
    "# with plt.rc_context({'font.size': 22}):\n",
    "#     _, axs = plt.subplots(nrows=1,ncols=2,figsize=[15,5],sharex=True,squeeze=True)\n",
    "#     # Train\n",
    "#     axs[0].hist(train_norm, bins=hist_bins)\n",
    "#     axs[0].set_title('Train')\n",
    "#     # Test\n",
    "#     axs[1].hist(test_norm, bins=hist_bins)\n",
    "#     axs[1].set_title('Test')\n",
    "#     plt.show()\n",
    "_, axs = plt.subplots(nrows=1,ncols=2,figsize=[5,2],sharex=True,squeeze=True)\n",
    "# Train\n",
    "axs[0].hist(train_norm, bins=hist_bins)\n",
    "axs[0].set_title('Train')\n",
    "# Test\n",
    "axs[1].hist(train_norm, bins=hist_bins)\n",
    "axs[1].set_title('Test')\n",
    "plt.show()"
   ]
  },
  {
   "cell_type": "markdown",
   "metadata": {},
   "source": [
    "---\n",
    "Difference $Y(T+1)-Y(T+0)$ for normalized data:"
   ]
  },
  {
   "cell_type": "code",
   "execution_count": null,
   "metadata": {},
   "outputs": [
    {
     "data": {
      "image/png": "[encoded data removed]",
      "text/plain": [
       "<Figure size 1152x180 with 3 Axes>"
      ]
     },
     "metadata": {
      "needs_background": "light"
     },
     "output_type": "display_data"
    }
   ],
   "source": [
    "_,axs = plt.subplots(ncols=3,nrows=1,figsize=[16,2.5],squeeze=True)\n",
    "# Plot time series\n",
    "axs[0].plot(train_norm)\n",
    "axs[0].set_title('Train (norm)')\n",
    "axs[1].plot(test_norm)\n",
    "axs[1].set_title('Test (norm)')\n",
    "# deltaY: differences Y(t+1)-Y(t)\n",
    "axs[2].hist((train_norm[1:]-train_norm[:-1]),bins=25,density=True,alpha=.5,label='train')\n",
    "axs[2].hist(test_norm[1:]-test_norm[:-1],bins=25,density=True,alpha=.5,label='test')\n",
    "plt.title('Differences, $Y(T+1)-Y(T+0)$')\n",
    "plt.legend()\n",
    "plt.show()"
   ]
  },
  {
   "cell_type": "markdown",
   "metadata": {},
   "source": [
    "---\n",
    "\n",
    "- What do we know about the dataset, e.g. how is it generated? any regularities?\n",
    "- Note the sharp peak near zero for Y difference data\n",
    "\n",
    "---"
   ]
  },
  {
   "cell_type": "markdown",
   "metadata": {},
   "source": [
    "### Write Normalized Datasets to New Files"
   ]
  },
  {
   "cell_type": "markdown",
   "metadata": {},
   "source": [
    "- Write arrays to `./train_norm.npy` and `./test_norm.npy`"
   ]
  },
  {
   "cell_type": "code",
   "execution_count": null,
   "metadata": {},
   "outputs": [],
   "source": [
    "# normalized training dataset:\n",
    "with open('train_norm.npy', 'wb') as f:\n",
    "    np.save(f, train_norm)\n",
    "\n",
    "# normalized test dataset:\n",
    "with open('test_norm.npy', 'wb') as f:\n",
    "    np.save(f, test_norm)\n",
    "    \n",
    "# # For loading them back use:\n",
    "# # with open('train_norm.npy', 'rb') as f:\n",
    "# #    x_test = np.load(f)"
   ]
  },
  {
   "cell_type": "markdown",
   "metadata": {},
   "source": [
    "## Persistence Loss (for Normalized Data with MSE loss)"
   ]
  },
  {
   "cell_type": "markdown",
   "metadata": {},
   "source": [
    "- note that session 5 uses MSE loss and an additional factor of 0.5x for persistence loss ([_see video_](https://youtu.be/TSHc60ZI7cU?t=268))\n",
    "---\n",
    "Compute persistence loss and save it to `./persistence_T{}.npy` where `{}` is replaced by the lead time, e.g. `./persistence_T5.npy`.\n",
    "- You can load it back with the code below:\n",
    "```python\n",
    "with open('persistence_T5.npy','rb') as f:\n",
    "    x=np.load(f,allow_pickle=True).item()\n",
    "```\n",
    "`x` is a python `dict` object.\n",
    "- Here, `persistence` is computed starting from the first elements of `train_norm` (or `test_norm`). Your exact training/testing dataset will start from the last element in the window, which will be set as first $Y(T+0)$."
   ]
  },
  {
   "cell_type": "code",
   "execution_count": null,
   "metadata": {},
   "outputs": [],
   "source": [
    "import utils"
   ]
  },
  {
   "cell_type": "code",
   "execution_count": null,
   "metadata": {},
   "outputs": [
    {
     "name": "stdout",
     "output_type": "stream",
     "text": [
      "{'lead_time': 5, 'persist_train': 0.2327920374234529, 'persist_test': 0.23192373859204968}\n"
     ]
    }
   ],
   "source": [
    "Tlead = 5\n",
    "# utils.persistence_loss by default uses MSE as metric\n",
    "persistence_data = np.array({'lead_time':Tlead,\n",
    "                             'persist_train':utils.persistence_loss(train_norm,lead_time=Tlead),\n",
    "                             'persist_test':utils.persistence_loss(test_norm,lead_time=Tlead)})\n",
    "\n",
    "with open('persistence_T{}.npy'.format(Tlead), 'wb') as f:\n",
    "    np.save(f,persistence_data)\n",
    "\n",
    "print(persistence_data)"
   ]
  },
  {
   "cell_type": "markdown",
   "metadata": {},
   "source": [
    "In \"autocaffe\" there's an additional (and unnecessary) 0.5x factor for persistence:"
   ]
  },
  {
   "cell_type": "code",
   "execution_count": null,
   "metadata": {},
   "outputs": [
    {
     "name": "stdout",
     "output_type": "stream",
     "text": [
      "Autocaffe's \"persistence\" for T+5\n",
      "train: 0.11639601871172645\n",
      "test0.11596186929602484\n"
     ]
    }
   ],
   "source": [
    "# persistence_data = persistence_data.item()\n",
    "print('Autocaffe\\'s \"persistence\" for T+{}\\ntrain: {}\\ntest{}'.format(\n",
    "    Tlead,persistence_data.item()['persist_train']/2,persistence_data.item()['persist_test']/2) )"
   ]
  },
  {
   "cell_type": "code",
   "execution_count": null,
   "metadata": {},
   "outputs": [],
   "source": []
  }
 ],
 "metadata": {
  "kernelspec": {
   "display_name": "Python 3",
   "language": "python",
   "name": "python3"
  }
 },
 "nbformat": 4,
 "nbformat_minor": 2
}
